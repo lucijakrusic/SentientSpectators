{
 "cells": [
  {
   "cell_type": "code",
   "execution_count": null,
   "id": "087b3d13",
   "metadata": {},
   "outputs": [],
   "source": [
    "import os\n",
    "import re"
   ]
  },
  {
   "cell_type": "code",
   "execution_count": null,
   "id": "c899e639",
   "metadata": {},
   "outputs": [],
   "source": [
    "filepath = 'all_selections'\n",
    "path = os.listdir(filepath)"
   ]
  },
  {
   "cell_type": "code",
   "execution_count": null,
   "id": "8167eead",
   "metadata": {},
   "outputs": [],
   "source": [
    "for content in path:\n",
    "    with open(filepath + '/' + content, \"r\", encoding='utf-8', errors='ignore') as doc:\n",
    "        for result in re.findall('##START:MT##(.*?)##END:MT##', doc.read(), re.S):\n",
    "            with open('sentiment-dataframe.txt', 'a', encoding='utf-8', errors='ignore') as f:\n",
    "                print(content, '|MT|', result, file=f)\n"
   ]
  },
  {
   "cell_type": "code",
   "execution_count": null,
   "id": "0963e9af",
   "metadata": {},
   "outputs": [],
   "source": [
    "columns = ['issue', 'narrative_form', 'text']"
   ]
  },
  {
   "cell_type": "code",
   "execution_count": null,
   "id": "c3a9ca72",
   "metadata": {},
   "outputs": [],
   "source": [
    "df = pd.read_csv('sentiment-dataframe.txt', encoding='utf-8', names=columns, header=None, delimiter='|')"
   ]
  }
 ],
 "metadata": {
  "kernelspec": {
   "display_name": "Python 3 (ipykernel)",
   "language": "python",
   "name": "python3"
  },
  "language_info": {
   "codemirror_mode": {
    "name": "ipython",
    "version": 3
   },
   "file_extension": ".py",
   "mimetype": "text/x-python",
   "name": "python",
   "nbconvert_exporter": "python",
   "pygments_lexer": "ipython3",
   "version": "3.9.13"
  }
 },
 "nbformat": 4,
 "nbformat_minor": 5
}
