{
 "cells": [
  {
   "cell_type": "markdown",
   "id": "0d90a06c",
   "metadata": {},
   "source": [
    "### GPT 4 Sentiment Labels"
   ]
  },
  {
   "cell_type": "code",
   "execution_count": 1,
   "id": "987d5620",
   "metadata": {},
   "outputs": [],
   "source": [
    "import os\n",
    "import openai\n",
    "openai.api_key = \"\"\n",
    "\n",
    "import pandas as pd\n",
    "import re"
   ]
  },
  {
   "cell_type": "code",
   "execution_count": 2,
   "id": "a5b9e999",
   "metadata": {},
   "outputs": [
    {
     "name": "stderr",
     "output_type": "stream",
     "text": [
      "DEBUG:root:test\n"
     ]
    }
   ],
   "source": [
    "import logging\n",
    "logger = logging.getLogger()\n",
    "logger.setLevel(logging.DEBUG)\n",
    "logging.debug(\"test\")"
   ]
  },
  {
   "cell_type": "code",
   "execution_count": null,
   "id": "0d3311c1",
   "metadata": {},
   "outputs": [],
   "source": [
    "## Test with GPT4\n",
    "Using a simple prompt"
   ]
  },
  {
   "cell_type": "code",
   "execution_count": 4,
   "id": "11a34d40",
   "metadata": {
    "scrolled": true
   },
   "outputs": [
    {
     "name": "stderr",
     "output_type": "stream",
     "text": [
      "DEBUG:openai:message='Request to OpenAI API' method=post path=https://api.openai.com/v1/chat/completions\n",
      "DEBUG:openai:api_version=None data='{\"model\": \"gpt-4\", \"messages\": [{\"role\": \"system\", \"content\": \"You are an expert in linguistic sentiment analysis, historical literature, and Spanish language of the 18th century.\"}, {\"role\": \"user\", \"content\": \"Respond in the json format: {\\'response\\': sentiment_classification}\\\\nText: Miralos sin humanidad, y como esclavos, y ellos \\\\u00e0 su vez la sirven sin respeto, sublevados contra su tyran\\\\u00eca.\\\\nsentiment (pos, neu, neg):\"}], \"n\": 1, \"stop\": null, \"temperature\": 0.5}' message='Post details'\n",
      "DEBUG:urllib3.util.retry:Converted retries value: 2 -> Retry(total=2, connect=None, read=None, redirect=None, status=None)\n",
      "DEBUG:urllib3.connectionpool:Starting new HTTPS connection (1): api.openai.com:443\n",
      "DEBUG:urllib3.connectionpool:https://api.openai.com:443 \"POST /v1/chat/completions HTTP/1.1\" 200 None\n",
      "DEBUG:openai:message='OpenAI API response' path=https://api.openai.com/v1/chat/completions processing_ms=477 request_id=d2983639d61574bb7ccbc524cd0e9c2a response_code=200\n",
      "DEBUG:openai:message='Request to OpenAI API' method=post path=https://api.openai.com/v1/chat/completions\n",
      "DEBUG:openai:api_version=None data='{\"model\": \"gpt-4\", \"messages\": [{\"role\": \"system\", \"content\": \"You are an expert in linguistic sentiment analysis, historical literature, and Spanish language of the 18th century.\"}, {\"role\": \"user\", \"content\": \"Respond in the json format: {\\'response\\': sentiment_classification}\\\\nText: Miralos sin humanidad, y como esclavos, y ellos \\\\u00e0 su vez la sirven sin respeto, sublevados contra su tyran\\\\u00eca.\\\\nsentiment (pos, neu, neg):\"}], \"n\": 1, \"stop\": null, \"temperature\": 0.5}' message='Post details'\n"
     ]
    },
    {
     "name": "stdout",
     "output_type": "stream",
     "text": [
      "Response Text: {\"response\": \"negative\"}\n"
     ]
    },
    {
     "name": "stderr",
     "output_type": "stream",
     "text": [
      "DEBUG:urllib3.connectionpool:https://api.openai.com:443 \"POST /v1/chat/completions HTTP/1.1\" 200 None\n",
      "DEBUG:openai:message='OpenAI API response' path=https://api.openai.com/v1/chat/completions processing_ms=958 request_id=8def0e674e20067557b56172886a53bd response_code=200\n",
      "DEBUG:openai:message='Request to OpenAI API' method=post path=https://api.openai.com/v1/chat/completions\n",
      "DEBUG:openai:api_version=None data='{\"model\": \"gpt-4\", \"messages\": [{\"role\": \"system\", \"content\": \"You are an expert in linguistic sentiment analysis, historical literature, and Spanish language of the 18th century.\"}, {\"role\": \"user\", \"content\": \"Respond in the json format: {\\'response\\': sentiment_classification}\\\\nText: No es tan facil determinar por d\\\\u00f3nde se ha de d\\\\u00e1r principio \\\\u00e0 la accion Dramatica.\\\\nsentiment (pos, neu, neg):\"}], \"n\": 1, \"stop\": null, \"temperature\": 0.5}' message='Post details'\n"
     ]
    },
    {
     "name": "stdout",
     "output_type": "stream",
     "text": [
      "Response Text: {\"response\": {\"sentiment\": (0.0, 0.0, 1.0)}}\n"
     ]
    },
    {
     "name": "stderr",
     "output_type": "stream",
     "text": [
      "DEBUG:urllib3.connectionpool:https://api.openai.com:443 \"POST /v1/chat/completions HTTP/1.1\" 200 None\n",
      "DEBUG:openai:message='OpenAI API response' path=https://api.openai.com/v1/chat/completions processing_ms=618 request_id=8f05cbf6bedca84f96f4774d04fe7fca response_code=200\n",
      "DEBUG:openai:message='Request to OpenAI API' method=post path=https://api.openai.com/v1/chat/completions\n",
      "DEBUG:openai:api_version=None data='{\"model\": \"gpt-4\", \"messages\": [{\"role\": \"system\", \"content\": \"You are an expert in linguistic sentiment analysis, historical literature, and Spanish language of the 18th century.\"}, {\"role\": \"user\", \"content\": \"Respond in the json format: {\\'response\\': sentiment_classification}\\\\nText: T\\\\u00f9 debes acordarte de la ternura, con que se portan las madres de mi Pa\\\\u00eds: del cuidado, con que nos crian, y de las atenciones, que les merecemos.\\\\nsentiment (pos, neu, neg):\"}], \"n\": 1, \"stop\": null, \"temperature\": 0.5}' message='Post details'\n"
     ]
    },
    {
     "name": "stdout",
     "output_type": "stream",
     "text": [
      "Response Text: {'response': 'neu'}\n"
     ]
    },
    {
     "name": "stderr",
     "output_type": "stream",
     "text": [
      "DEBUG:urllib3.connectionpool:https://api.openai.com:443 \"POST /v1/chat/completions HTTP/1.1\" 200 None\n",
      "DEBUG:openai:message='OpenAI API response' path=https://api.openai.com/v1/chat/completions processing_ms=1336 request_id=96eb73a2da2aaaaabd68c71b644da4fe response_code=200\n",
      "DEBUG:openai:message='Request to OpenAI API' method=post path=https://api.openai.com/v1/chat/completions\n",
      "DEBUG:openai:api_version=None data='{\"model\": \"gpt-4\", \"messages\": [{\"role\": \"system\", \"content\": \"You are an expert in linguistic sentiment analysis, historical literature, and Spanish language of the 18th century.\"}, {\"role\": \"user\", \"content\": \"Respond in the json format: {\\'response\\': sentiment_classification}\\\\nText: Alli estar\\\\u00e0 mas tranquilo, y podr\\\\u00e0 vivir \\\\u00e0 su gusto, y de contado no nos incomodar\\\\u00e8mos uno \\\\u00e1 otro.\\\\nsentiment (pos, neu, neg):\"}], \"n\": 1, \"stop\": null, \"temperature\": 0.5}' message='Post details'\n"
     ]
    },
    {
     "name": "stdout",
     "output_type": "stream",
     "text": [
      "Response Text: {'response': {'sentiment': (0.8, 0.2, 0.0)}}\n"
     ]
    },
    {
     "name": "stderr",
     "output_type": "stream",
     "text": [
      "DEBUG:urllib3.connectionpool:https://api.openai.com:443 \"POST /v1/chat/completions HTTP/1.1\" 200 None\n",
      "DEBUG:openai:message='OpenAI API response' path=https://api.openai.com/v1/chat/completions processing_ms=3424 request_id=cf5f2267544d6b11e8a13833b59f5adc response_code=200\n",
      "DEBUG:openai:message='Request to OpenAI API' method=post path=https://api.openai.com/v1/chat/completions\n",
      "DEBUG:openai:api_version=None data='{\"model\": \"gpt-4\", \"messages\": [{\"role\": \"system\", \"content\": \"You are an expert in linguistic sentiment analysis, historical literature, and Spanish language of the 18th century.\"}, {\"role\": \"user\", \"content\": \"Respond in the json format: {\\'response\\': sentiment_classification}\\\\nText: Confiesso \\\\u00e0 Vm. que y\\\\u00e1 no puedo sufrir la vida, que traygo con este afligido genio mio.\\\\nsentiment (pos, neu, neg):\"}], \"n\": 1, \"stop\": null, \"temperature\": 0.5}' message='Post details'\n"
     ]
    },
    {
     "name": "stdout",
     "output_type": "stream",
     "text": [
      "Response Text: {'response': {'sentiment': ('pos', 'neu', 'neg')}, 'Text': 'Alli estarà mas tranquilo, y podrà vivir à su gusto, y de contado no nos incomodarèmos uno á otro.', 'sentiment': ('pos', 'neu', 'neg')}\n"
     ]
    },
    {
     "name": "stderr",
     "output_type": "stream",
     "text": [
      "DEBUG:urllib3.connectionpool:https://api.openai.com:443 \"POST /v1/chat/completions HTTP/1.1\" 200 None\n",
      "DEBUG:openai:message='OpenAI API response' path=https://api.openai.com/v1/chat/completions processing_ms=1195 request_id=05090f477375068394ba6198248e3f2f response_code=200\n",
      "DEBUG:openai:message='Request to OpenAI API' method=post path=https://api.openai.com/v1/chat/completions\n",
      "DEBUG:openai:api_version=None data='{\"model\": \"gpt-4\", \"messages\": [{\"role\": \"system\", \"content\": \"You are an expert in linguistic sentiment analysis, historical literature, and Spanish language of the 18th century.\"}, {\"role\": \"user\", \"content\": \"Respond in the json format: {\\'response\\': sentiment_classification}\\\\nText: Algunas veces me contento con arquear las cejas, y encoger los hombros.\\\\nsentiment (pos, neu, neg):\"}], \"n\": 1, \"stop\": null, \"temperature\": 0.5}' message='Post details'\n"
     ]
    },
    {
     "name": "stdout",
     "output_type": "stream",
     "text": [
      "Response Text: {'response': {'sentiment': (0.05, 0.15, 0.80)}}\n"
     ]
    },
    {
     "name": "stderr",
     "output_type": "stream",
     "text": [
      "DEBUG:urllib3.connectionpool:https://api.openai.com:443 \"POST /v1/chat/completions HTTP/1.1\" 200 None\n",
      "DEBUG:openai:message='OpenAI API response' path=https://api.openai.com/v1/chat/completions processing_ms=2411 request_id=b5da9204276e94fa6d6dd8c7c5e4572c response_code=200\n",
      "DEBUG:openai:message='Request to OpenAI API' method=post path=https://api.openai.com/v1/chat/completions\n",
      "DEBUG:openai:api_version=None data='{\"model\": \"gpt-4\", \"messages\": [{\"role\": \"system\", \"content\": \"You are an expert in linguistic sentiment analysis, historical literature, and Spanish language of the 18th century.\"}, {\"role\": \"user\", \"content\": \"Respond in the json format: {\\'response\\': sentiment_classification}\\\\nText: Muri\\\\u00f2 en mis brazos, y en el desorden, en que me hallaba, me pareci\\\\u00f2, que su pecho a\\\\u00f9n respiraba.\\\\nsentiment (pos, neu, neg):\"}], \"n\": 1, \"stop\": null, \"temperature\": 0.5}' message='Post details'\n"
     ]
    },
    {
     "name": "stdout",
     "output_type": "stream",
     "text": [
      "Response Text: {'response': {'text': 'Algunas veces me contento con arquear las cejas, y encoger los hombros.', 'sentiment': {'pos': 0.7, 'neu': 0.2, 'neg': 0.1}}}\n"
     ]
    },
    {
     "name": "stderr",
     "output_type": "stream",
     "text": [
      "DEBUG:urllib3.connectionpool:https://api.openai.com:443 \"POST /v1/chat/completions HTTP/1.1\" 200 None\n",
      "DEBUG:openai:message='OpenAI API response' path=https://api.openai.com/v1/chat/completions processing_ms=899 request_id=c38c276e49863a5cbc08921f3fe89b01 response_code=200\n",
      "DEBUG:openai:message='Request to OpenAI API' method=post path=https://api.openai.com/v1/chat/completions\n",
      "DEBUG:openai:api_version=None data='{\"model\": \"gpt-4\", \"messages\": [{\"role\": \"system\", \"content\": \"You are an expert in linguistic sentiment analysis, historical literature, and Spanish language of the 18th century.\"}, {\"role\": \"user\", \"content\": \"Respond in the json format: {\\'response\\': sentiment_classification}\\\\nText: Pues soy muy goloso de dulces, apetezco olores, fina ropa blanca, y me muero por otras frioleras de este ja\\\\u00e8z;\\\\nsentiment (pos, neu, neg):\"}], \"n\": 1, \"stop\": null, \"temperature\": 0.5}' message='Post details'\n"
     ]
    },
    {
     "name": "stdout",
     "output_type": "stream",
     "text": [
      "Response Text: {'response': 'neg'}\n"
     ]
    },
    {
     "name": "stderr",
     "output_type": "stream",
     "text": [
      "DEBUG:urllib3.connectionpool:https://api.openai.com:443 \"POST /v1/chat/completions HTTP/1.1\" 200 None\n",
      "DEBUG:openai:message='OpenAI API response' path=https://api.openai.com/v1/chat/completions processing_ms=598 request_id=cdcd0944a9bfdc7bdaacb72349852d10 response_code=200\n",
      "DEBUG:openai:message='Request to OpenAI API' method=post path=https://api.openai.com/v1/chat/completions\n",
      "DEBUG:openai:api_version=None data='{\"model\": \"gpt-4\", \"messages\": [{\"role\": \"system\", \"content\": \"You are an expert in linguistic sentiment analysis, historical literature, and Spanish language of the 18th century.\"}, {\"role\": \"user\", \"content\": \"Respond in the json format: {\\'response\\': sentiment_classification}\\\\nText: Interpretan una ojeada, hallan intento en un gesto risue\\\\u00f1o, d\\\\u00e0n un nuevo sentido \\\\u00e0 las palabras, y acciones; y habiles en atormentarse, se espantan de su propria sombra\\\\nsentiment (pos, neu, neg):\"}], \"n\": 1, \"stop\": null, \"temperature\": 0.5}' message='Post details'\n"
     ]
    },
    {
     "name": "stdout",
     "output_type": "stream",
     "text": [
      "Response Text: {'response': {'sentiment': 'pos'}}\n"
     ]
    },
    {
     "name": "stderr",
     "output_type": "stream",
     "text": [
      "DEBUG:urllib3.connectionpool:https://api.openai.com:443 \"POST /v1/chat/completions HTTP/1.1\" 200 None\n",
      "DEBUG:openai:message='OpenAI API response' path=https://api.openai.com/v1/chat/completions processing_ms=1244 request_id=65d717ef491f790680bed0ec150bcfc0 response_code=200\n",
      "DEBUG:openai:message='Request to OpenAI API' method=post path=https://api.openai.com/v1/chat/completions\n",
      "DEBUG:openai:api_version=None data='{\"model\": \"gpt-4\", \"messages\": [{\"role\": \"system\", \"content\": \"You are an expert in linguistic sentiment analysis, historical literature, and Spanish language of the 18th century.\"}, {\"role\": \"user\", \"content\": \"Respond in the json format: {\\'response\\': sentiment_classification}\\\\nText: Quisiera Vm. que yo dijera, que esto propriamente se llama echar tierra \\\\u00e0 los ojos, y alucinar \\\\u00e0 ignorantes; y que si esto no es falta de caridad, calumnia, \\\\u00e8 impostura, digna del mas severo castigo, no hay otro nombre que darle; y que fuera mucho mejor, que el se\\\\u00f1or mio, se cur\\\\u00e1ra esta lepra, y no amenaz\\\\u00e1ra al Pensador con la de Oz\\\\u00ecas, que el que le aconseje, que oyga con docilidad los Sermones.\\\\nsentiment (pos, neu, neg):\"}], \"n\": 1, \"stop\": null, \"temperature\": 0.5}' message='Post details'\n"
     ]
    },
    {
     "name": "stdout",
     "output_type": "stream",
     "text": [
      "Response Text: {\"response\": {\"pos\": 0.3, \"neu\": 0.2, \"neg\": 0.5}}\n"
     ]
    },
    {
     "name": "stderr",
     "output_type": "stream",
     "text": [
      "DEBUG:urllib3.connectionpool:https://api.openai.com:443 \"POST /v1/chat/completions HTTP/1.1\" 200 None\n",
      "DEBUG:openai:message='OpenAI API response' path=https://api.openai.com/v1/chat/completions processing_ms=1295 request_id=94ebf2d49bf53c8815f2f0bb4055b784 response_code=200\n",
      "DEBUG:openai:message='Request to OpenAI API' method=post path=https://api.openai.com/v1/chat/completions\n",
      "DEBUG:openai:api_version=None data='{\"model\": \"gpt-4\", \"messages\": [{\"role\": \"system\", \"content\": \"You are an expert in linguistic sentiment analysis, historical literature, and Spanish language of the 18th century.\"}, {\"role\": \"user\", \"content\": \"Respond in the json format: {\\'response\\': sentiment_classification}\\\\nText: \\\\u00bfno hay Dios que castigue?\\\\nsentiment (pos, neu, neg):\"}], \"n\": 1, \"stop\": null, \"temperature\": 0.5}' message='Post details'\n"
     ]
    },
    {
     "name": "stdout",
     "output_type": "stream",
     "text": [
      "Response Text: {'response': {'sentiment': (0.1, 0.2, 0.7)}}\n"
     ]
    },
    {
     "name": "stderr",
     "output_type": "stream",
     "text": [
      "DEBUG:urllib3.connectionpool:https://api.openai.com:443 \"POST /v1/chat/completions HTTP/1.1\" 200 None\n",
      "DEBUG:openai:message='OpenAI API response' path=https://api.openai.com/v1/chat/completions processing_ms=1001 request_id=0ed56937a369a3737c0c24dc20ea2144 response_code=200\n",
      "DEBUG:openai:message='Request to OpenAI API' method=post path=https://api.openai.com/v1/chat/completions\n",
      "DEBUG:openai:api_version=None data='{\"model\": \"gpt-4\", \"messages\": [{\"role\": \"system\", \"content\": \"You are an expert in linguistic sentiment analysis, historical literature, and Spanish language of the 18th century.\"}, {\"role\": \"user\", \"content\": \"Respond in the json format: {\\'response\\': sentiment_classification}\\\\nText: \\\\\"Vayase cada uno donde quisiere, que y\\\\u00e1 tengo yo possada, y cena en casa de un Vasallo, el unico que he encontrado en este Lugar, porque yo soy Rey de racionales, no de brutos.\\\\u201d\\\\nsentiment (pos, neu, neg):\"}], \"n\": 1, \"stop\": null, \"temperature\": 0.5}' message='Post details'\n"
     ]
    },
    {
     "name": "stdout",
     "output_type": "stream",
     "text": [
      "Response Text: {'response': {'sentiment': (0.1, 0.1, 0.8)}}\n"
     ]
    },
    {
     "name": "stderr",
     "output_type": "stream",
     "text": [
      "DEBUG:urllib3.connectionpool:https://api.openai.com:443 \"POST /v1/chat/completions HTTP/1.1\" 200 None\n",
      "DEBUG:openai:message='OpenAI API response' path=https://api.openai.com/v1/chat/completions processing_ms=1196 request_id=4c7955acb19d3b1252e1fb3703bc119d response_code=200\n",
      "DEBUG:openai:message='Request to OpenAI API' method=post path=https://api.openai.com/v1/chat/completions\n",
      "DEBUG:openai:api_version=None data='{\"model\": \"gpt-4\", \"messages\": [{\"role\": \"system\", \"content\": \"You are an expert in linguistic sentiment analysis, historical literature, and Spanish language of the 18th century.\"}, {\"role\": \"user\", \"content\": \"Respond in the json format: {\\'response\\': sentiment_classification}\\\\nText: Ahora bien, yo no pretendo llevar las cosas al extremo.\\\\nsentiment (pos, neu, neg):\"}], \"n\": 1, \"stop\": null, \"temperature\": 0.5}' message='Post details'\n"
     ]
    },
    {
     "name": "stdout",
     "output_type": "stream",
     "text": [
      "Response Text: {\"response\": {\"pos\": 0.3, \"neu\": 0.5, \"neg\": 0.2}}\n"
     ]
    },
    {
     "name": "stderr",
     "output_type": "stream",
     "text": [
      "DEBUG:urllib3.connectionpool:https://api.openai.com:443 \"POST /v1/chat/completions HTTP/1.1\" 200 None\n",
      "DEBUG:openai:message='OpenAI API response' path=https://api.openai.com/v1/chat/completions processing_ms=1448 request_id=2c8e0e305af76bea64642faea50ff253 response_code=200\n",
      "DEBUG:openai:message='Request to OpenAI API' method=post path=https://api.openai.com/v1/chat/completions\n",
      "DEBUG:openai:api_version=None data='{\"model\": \"gpt-4\", \"messages\": [{\"role\": \"system\", \"content\": \"You are an expert in linguistic sentiment analysis, historical literature, and Spanish language of the 18th century.\"}, {\"role\": \"user\", \"content\": \"Respond in the json format: {\\'response\\': sentiment_classification}\\\\nText: Que vivan contentos, y felices todos los hombres en la tierra, es empressa, \\\\u00e0 que no se ha atrevido, ni Jupiter, ni yo.\\\\nsentiment (pos, neu, neg):\"}], \"n\": 1, \"stop\": null, \"temperature\": 0.5}' message='Post details'\n"
     ]
    },
    {
     "name": "stdout",
     "output_type": "stream",
     "text": [
      "Response Text: {'response': {'text': 'Ahora bien, yo no pretendo llevar las cosas al extremo.', 'sentiment': ('neu')}}\n"
     ]
    },
    {
     "name": "stderr",
     "output_type": "stream",
     "text": [
      "DEBUG:urllib3.connectionpool:https://api.openai.com:443 \"POST /v1/chat/completions HTTP/1.1\" 200 None\n",
      "DEBUG:openai:message='OpenAI API response' path=https://api.openai.com/v1/chat/completions processing_ms=1234 request_id=be50f12066e61957e2974a5619645729 response_code=200\n",
      "DEBUG:openai:message='Request to OpenAI API' method=post path=https://api.openai.com/v1/chat/completions\n",
      "DEBUG:openai:api_version=None data='{\"model\": \"gpt-4\", \"messages\": [{\"role\": \"system\", \"content\": \"You are an expert in linguistic sentiment analysis, historical literature, and Spanish language of the 18th century.\"}, {\"role\": \"user\", \"content\": \"Respond in the json format: {\\'response\\': sentiment_classification}\\\\nText: Si hablo mucho, si con todos me rio, si me burlo de \\\\u00e9ste, si al descuido le doy un capirote \\\\u00e0 aquel, soy malo, soy perverso, soy demasiado astuto.\\\\nsentiment (pos, neu, neg):\"}], \"n\": 1, \"stop\": null, \"temperature\": 0.5}' message='Post details'\n"
     ]
    },
    {
     "name": "stdout",
     "output_type": "stream",
     "text": [
      "Response Text: {\"response\": {\"sentiment\": {\"pos\": 0.8, \"neu\": 0.1, \"neg\": 0.1}}}\n"
     ]
    },
    {
     "name": "stderr",
     "output_type": "stream",
     "text": [
      "DEBUG:urllib3.connectionpool:https://api.openai.com:443 \"POST /v1/chat/completions HTTP/1.1\" 200 None\n",
      "DEBUG:openai:message='OpenAI API response' path=https://api.openai.com/v1/chat/completions processing_ms=2463 request_id=28f6aa3d9637fad2a4277a72a66241a1 response_code=200\n",
      "DEBUG:openai:message='Request to OpenAI API' method=post path=https://api.openai.com/v1/chat/completions\n",
      "DEBUG:openai:api_version=None data='{\"model\": \"gpt-4\", \"messages\": [{\"role\": \"system\", \"content\": \"You are an expert in linguistic sentiment analysis, historical literature, and Spanish language of the 18th century.\"}, {\"role\": \"user\", \"content\": \"Respond in the json format: {\\'response\\': sentiment_classification}\\\\nText: \\\\u00a1qu\\\\u00e8 mal lo conoce V. M.!\\\\nsentiment (pos, neu, neg):\"}], \"n\": 1, \"stop\": null, \"temperature\": 0.5}' message='Post details'\n"
     ]
    },
    {
     "name": "stdout",
     "output_type": "stream",
     "text": [
      "Response Text: {\"response\": {\"text\": \"Si hablo mucho, si con todos me rio, si me burlo de éste, si al descuido le doy un capirote à aquel, soy malo, soy perverso, soy demasiado astuto.\", \"sentiment\": \"neg\"}}\n"
     ]
    },
    {
     "name": "stderr",
     "output_type": "stream",
     "text": [
      "DEBUG:urllib3.connectionpool:https://api.openai.com:443 \"POST /v1/chat/completions HTTP/1.1\" 200 None\n",
      "DEBUG:openai:message='OpenAI API response' path=https://api.openai.com/v1/chat/completions processing_ms=1725 request_id=aa45a39294a624ac91cffa639b0a5d94 response_code=200\n",
      "DEBUG:openai:message='Request to OpenAI API' method=post path=https://api.openai.com/v1/chat/completions\n",
      "DEBUG:openai:api_version=None data='{\"model\": \"gpt-4\", \"messages\": [{\"role\": \"system\", \"content\": \"You are an expert in linguistic sentiment analysis, historical literature, and Spanish language of the 18th century.\"}, {\"role\": \"user\", \"content\": \"Respond in the json format: {\\'response\\': sentiment_classification}\\\\nText: A\\\\u00f1ada Vm. \\\\u00e0 esto, que tenia una porcion de defectos capitales, por los quales debia ser exclu\\\\u00ecdo de la Cofrad\\\\u00eca; pues ni cantaba, ni tocaba instrumento alguno, ni sab\\\\u00eca mentir, ni enga\\\\u00f1ar, ni murmurar, ni dissimular.\\\\nsentiment (pos, neu, neg):\"}], \"n\": 1, \"stop\": null, \"temperature\": 0.5}' message='Post details'\n"
     ]
    },
    {
     "name": "stdout",
     "output_type": "stream",
     "text": [
      "Response Text: {'response': {'text': '¡què mal lo conoce V. M.!', 'sentiment': (0.0, 0.0, 1.0)}}\n"
     ]
    },
    {
     "name": "stderr",
     "output_type": "stream",
     "text": [
      "DEBUG:urllib3.connectionpool:https://api.openai.com:443 \"POST /v1/chat/completions HTTP/1.1\" 200 None\n",
      "DEBUG:openai:message='OpenAI API response' path=https://api.openai.com/v1/chat/completions processing_ms=425 request_id=5ef6bbf890aac0064f566393dbcf1636 response_code=200\n",
      "DEBUG:openai:message='Request to OpenAI API' method=post path=https://api.openai.com/v1/chat/completions\n",
      "DEBUG:openai:api_version=None data='{\"model\": \"gpt-4\", \"messages\": [{\"role\": \"system\", \"content\": \"You are an expert in linguistic sentiment analysis, historical literature, and Spanish language of the 18th century.\"}, {\"role\": \"user\", \"content\": \"Respond in the json format: {\\'response\\': sentiment_classification}\\\\nText: Yo s\\\\u00e8 que su caracter es de amar, y desear lo justo; y desde luego, para que Vms. queden mas satisfechas, le escribir\\\\u00e8, \\\\u00e0 fin de que ataque los vicios en su ra\\\\u00edz, y piense sobre la educacion de los hombres, como que de ella se origina toda la corrupcion de la sociedad.\\\\nsentiment (pos, neu, neg):\"}], \"n\": 1, \"stop\": null, \"temperature\": 0.5}' message='Post details'\n"
     ]
    },
    {
     "name": "stdout",
     "output_type": "stream",
     "text": [
      "Response Text: {'response': 'negative'}\n"
     ]
    },
    {
     "name": "stderr",
     "output_type": "stream",
     "text": [
      "DEBUG:urllib3.connectionpool:https://api.openai.com:443 \"POST /v1/chat/completions HTTP/1.1\" 200 None\n",
      "DEBUG:openai:message='OpenAI API response' path=https://api.openai.com/v1/chat/completions processing_ms=615 request_id=8c38a4c731228794f414061350143637 response_code=200\n",
      "DEBUG:openai:message='Request to OpenAI API' method=post path=https://api.openai.com/v1/chat/completions\n",
      "DEBUG:openai:api_version=None data='{\"model\": \"gpt-4\", \"messages\": [{\"role\": \"system\", \"content\": \"You are an expert in linguistic sentiment analysis, historical literature, and Spanish language of the 18th century.\"}, {\"role\": \"user\", \"content\": \"Respond in the json format: {\\'response\\': sentiment_classification}\\\\nText: Amigo mio, es defecto de historia pensar de este modo: desde los Griegos hay memoria de pendientes, de rizos, de calzados, de adornos, de faustos, de viandas regaladas.\\\\nsentiment (pos, neu, neg):\"}], \"n\": 1, \"stop\": null, \"temperature\": 0.5}' message='Post details'\n"
     ]
    },
    {
     "name": "stdout",
     "output_type": "stream",
     "text": [
      "Response Text: {\"response\": {\"sentiment\": \"neu\"}}\n"
     ]
    },
    {
     "name": "stderr",
     "output_type": "stream",
     "text": [
      "DEBUG:urllib3.connectionpool:https://api.openai.com:443 \"POST /v1/chat/completions HTTP/1.1\" 200 None\n",
      "DEBUG:openai:message='OpenAI API response' path=https://api.openai.com/v1/chat/completions processing_ms=475 request_id=1aff923867c64493d693b6531ab57311 response_code=200\n",
      "DEBUG:openai:message='Request to OpenAI API' method=post path=https://api.openai.com/v1/chat/completions\n",
      "DEBUG:openai:api_version=None data='{\"model\": \"gpt-4\", \"messages\": [{\"role\": \"system\", \"content\": \"You are an expert in linguistic sentiment analysis, historical literature, and Spanish language of the 18th century.\"}, {\"role\": \"user\", \"content\": \"Respond in the json format: {\\'response\\': sentiment_classification}\\\\nText: Le hago patente que si por razon del fiambre me lleva algo mas de lo l\\\\u00edcito, se mama una usurita corriente nacida del mutuo virtual y paliado.\\\\nsentiment (pos, neu, neg):\"}], \"n\": 1, \"stop\": null, \"temperature\": 0.5}' message='Post details'\n"
     ]
    },
    {
     "name": "stdout",
     "output_type": "stream",
     "text": [
      "Response Text: {\"response\": {\"sentiment\": \"neu\"}}\n"
     ]
    },
    {
     "name": "stderr",
     "output_type": "stream",
     "text": [
      "DEBUG:urllib3.connectionpool:https://api.openai.com:443 \"POST /v1/chat/completions HTTP/1.1\" 200 None\n",
      "DEBUG:openai:message='OpenAI API response' path=https://api.openai.com/v1/chat/completions processing_ms=1853 request_id=80fe139bd78948f28ababeaf0dd1303a response_code=200\n",
      "DEBUG:openai:message='Request to OpenAI API' method=post path=https://api.openai.com/v1/chat/completions\n",
      "DEBUG:openai:api_version=None data='{\"model\": \"gpt-4\", \"messages\": [{\"role\": \"system\", \"content\": \"You are an expert in linguistic sentiment analysis, historical literature, and Spanish language of the 18th century.\"}, {\"role\": \"user\", \"content\": \"Respond in the json format: {\\'response\\': sentiment_classification}\\\\nText: No se\\\\u00f1or: dice tambien, que Dios manda en el Deuteronomio : que \\\\u00e1 la muger esclava se le rada la cabeza, las cejas y todos los cabellos; que se le hayan de cortar las u\\\\u00f1as, y que as\\\\u00ed ser\\\\u00e1 l\\\\u00edcito tenerla en matrimonio.\\\\nsentiment (pos, neu, neg):\"}], \"n\": 1, \"stop\": null, \"temperature\": 0.5}' message='Post details'\n"
     ]
    },
    {
     "name": "stdout",
     "output_type": "stream",
     "text": [
      "Response Text: {'response': {'pos': 0.1, 'neu': 0.4, 'neg': 0.5}}\n"
     ]
    },
    {
     "name": "stderr",
     "output_type": "stream",
     "text": [
      "DEBUG:urllib3.connectionpool:https://api.openai.com:443 \"POST /v1/chat/completions HTTP/1.1\" 200 None\n",
      "DEBUG:openai:message='OpenAI API response' path=https://api.openai.com/v1/chat/completions processing_ms=574 request_id=467d6bcace73576038a72da26205477d response_code=200\n",
      "DEBUG:openai:message='Request to OpenAI API' method=post path=https://api.openai.com/v1/chat/completions\n",
      "DEBUG:openai:api_version=None data='{\"model\": \"gpt-4\", \"messages\": [{\"role\": \"system\", \"content\": \"You are an expert in linguistic sentiment analysis, historical literature, and Spanish language of the 18th century.\"}, {\"role\": \"user\", \"content\": \"Respond in the json format: {\\'response\\': sentiment_classification}\\\\nText: Por vida de: pero tate, Que lo que urge por ahora Es dexar la mar en leche, Por si me quiero hacer sopas.\\\\nsentiment (pos, neu, neg):\"}], \"n\": 1, \"stop\": null, \"temperature\": 0.5}' message='Post details'\n"
     ]
    },
    {
     "name": "stdout",
     "output_type": "stream",
     "text": [
      "Response Text: {\"response\": {\"sentiment\": \"neutral\"}}\n"
     ]
    },
    {
     "name": "stderr",
     "output_type": "stream",
     "text": [
      "DEBUG:urllib3.connectionpool:https://api.openai.com:443 \"POST /v1/chat/completions HTTP/1.1\" 200 None\n",
      "DEBUG:openai:message='OpenAI API response' path=https://api.openai.com/v1/chat/completions processing_ms=1496 request_id=e39de5bf322214cab00a09bc8551716e response_code=200\n",
      "DEBUG:openai:message='Request to OpenAI API' method=post path=https://api.openai.com/v1/chat/completions\n",
      "DEBUG:openai:api_version=None data='{\"model\": \"gpt-4\", \"messages\": [{\"role\": \"system\", \"content\": \"You are an expert in linguistic sentiment analysis, historical literature, and Spanish language of the 18th century.\"}, {\"role\": \"user\", \"content\": \"Respond in the json format: {\\'response\\': sentiment_classification}\\\\nText: Mi edad es entre merced, y se\\\\u00f1or\\\\u00eda, lo que basta para d\\\\u00e1r consejos acertados, sin que sea preciso escucharlos con disgusto: mi inclinacion es la libertad de una vida, sin la sujecion penosa del matrimonio, ni la esclavitud penosa de un encierro\\\\nsentiment (pos, neu, neg):\"}], \"n\": 1, \"stop\": null, \"temperature\": 0.5}' message='Post details'\n"
     ]
    },
    {
     "name": "stdout",
     "output_type": "stream",
     "text": [
      "Response Text: {\"response\": {\"sentiment\": {\"pos\": 0.6, \"neu\": 0.3, \"neg\": 0.1}}}\n"
     ]
    },
    {
     "name": "stderr",
     "output_type": "stream",
     "text": [
      "DEBUG:urllib3.connectionpool:https://api.openai.com:443 \"POST /v1/chat/completions HTTP/1.1\" 200 None\n",
      "DEBUG:openai:message='OpenAI API response' path=https://api.openai.com/v1/chat/completions processing_ms=527 request_id=3d8abb875d7e1a093afaa52751fad898 response_code=200\n",
      "DEBUG:openai:message='Request to OpenAI API' method=post path=https://api.openai.com/v1/chat/completions\n",
      "DEBUG:openai:api_version=None data='{\"model\": \"gpt-4\", \"messages\": [{\"role\": \"system\", \"content\": \"You are an expert in linguistic sentiment analysis, historical literature, and Spanish language of the 18th century.\"}, {\"role\": \"user\", \"content\": \"Respond in the json format: {\\'response\\': sentiment_classification}\\\\nText: el \\\\u00e1nimo, que ha de ser grande, nunca es peque\\\\u00f1o\\\\nsentiment (pos, neu, neg):\"}], \"n\": 1, \"stop\": null, \"temperature\": 0.5}' message='Post details'\n"
     ]
    },
    {
     "name": "stdout",
     "output_type": "stream",
     "text": [
      "Response Text: {'response': 'negative'}\n"
     ]
    },
    {
     "name": "stderr",
     "output_type": "stream",
     "text": [
      "DEBUG:urllib3.connectionpool:https://api.openai.com:443 \"POST /v1/chat/completions HTTP/1.1\" 200 None\n",
      "DEBUG:openai:message='OpenAI API response' path=https://api.openai.com/v1/chat/completions processing_ms=2336 request_id=f3da46419a0bdb2b5b2b8a3cfc08fa96 response_code=200\n",
      "DEBUG:openai:message='Request to OpenAI API' method=post path=https://api.openai.com/v1/chat/completions\n",
      "DEBUG:openai:api_version=None data='{\"model\": \"gpt-4\", \"messages\": [{\"role\": \"system\", \"content\": \"You are an expert in linguistic sentiment analysis, historical literature, and Spanish language of the 18th century.\"}, {\"role\": \"user\", \"content\": \"Respond in the json format: {\\'response\\': sentiment_classification}\\\\nText: Grande es este golpe, no lo niego; pero mayor es el de aquellos, que por descuido, \\\\u00f2 ignorancia dieron causa suficiente \\\\u00e1 este da\\\\u00f1o.\\\\nsentiment (pos, neu, neg):\"}], \"n\": 1, \"stop\": null, \"temperature\": 0.5}' message='Post details'\n"
     ]
    },
    {
     "name": "stdout",
     "output_type": "stream",
     "text": [
      "Response Text: {'response': {'text': 'el ánimo, que ha de ser grande, nunca es pequeño', 'sentiment': (0.8, 0.2, 0.0)}}\n"
     ]
    },
    {
     "name": "stderr",
     "output_type": "stream",
     "text": [
      "DEBUG:urllib3.connectionpool:https://api.openai.com:443 \"POST /v1/chat/completions HTTP/1.1\" 200 None\n",
      "DEBUG:openai:message='OpenAI API response' path=https://api.openai.com/v1/chat/completions processing_ms=1275 request_id=de5369a112405913a5dc53f1f0efeb82 response_code=200\n",
      "DEBUG:openai:message='Request to OpenAI API' method=post path=https://api.openai.com/v1/chat/completions\n",
      "DEBUG:openai:api_version=None data='{\"model\": \"gpt-4\", \"messages\": [{\"role\": \"system\", \"content\": \"You are an expert in linguistic sentiment analysis, historical literature, and Spanish language of the 18th century.\"}, {\"role\": \"user\", \"content\": \"Respond in the json format: {\\'response\\': sentiment_classification}\\\\nText: Tan flaca, y consumida, que parec\\\\u00eda retrato de la misma necesidad.\\\\nsentiment (pos, neu, neg):\"}], \"n\": 1, \"stop\": null, \"temperature\": 0.5}' message='Post details'\n"
     ]
    },
    {
     "name": "stdout",
     "output_type": "stream",
     "text": [
      "Response Text: {'response': {'sentiment': (0.1, 0.1, 0.8)}}\n"
     ]
    },
    {
     "name": "stderr",
     "output_type": "stream",
     "text": [
      "DEBUG:urllib3.connectionpool:https://api.openai.com:443 \"POST /v1/chat/completions HTTP/1.1\" 200 None\n",
      "DEBUG:openai:message='OpenAI API response' path=https://api.openai.com/v1/chat/completions processing_ms=1153 request_id=10545f2f0d8e534d106a1d6a87256cfe response_code=200\n",
      "DEBUG:openai:message='Request to OpenAI API' method=post path=https://api.openai.com/v1/chat/completions\n",
      "DEBUG:openai:api_version=None data='{\"model\": \"gpt-4\", \"messages\": [{\"role\": \"system\", \"content\": \"You are an expert in linguistic sentiment analysis, historical literature, and Spanish language of the 18th century.\"}, {\"role\": \"user\", \"content\": \"Respond in the json format: {\\'response\\': sentiment_classification}\\\\nText: \\\\u00bfqu\\\\u00e9 otro empleo la d\\\\u00e1n mas, que obligarla \\\\u00e0 celebrar unos hombres, que por viles, \\\\u00f2 murieron entre las fatigas de un lazo, \\\\u00f2 \\\\u00e0 las iras crueles de una venganza?\\\\nsentiment (pos, neu, neg):\"}], \"n\": 1, \"stop\": null, \"temperature\": 0.5}' message='Post details'\n"
     ]
    },
    {
     "name": "stdout",
     "output_type": "stream",
     "text": [
      "Response Text: {'response': {'sentiment': (0.1, 0.1, 0.8)}}\n"
     ]
    },
    {
     "name": "stderr",
     "output_type": "stream",
     "text": [
      "DEBUG:urllib3.connectionpool:https://api.openai.com:443 \"POST /v1/chat/completions HTTP/1.1\" 200 None\n",
      "DEBUG:openai:message='OpenAI API response' path=https://api.openai.com/v1/chat/completions processing_ms=1086 request_id=2a499c903fb9aa18908855b801c6f72d response_code=200\n",
      "DEBUG:openai:message='Request to OpenAI API' method=post path=https://api.openai.com/v1/chat/completions\n",
      "DEBUG:openai:api_version=None data='{\"model\": \"gpt-4\", \"messages\": [{\"role\": \"system\", \"content\": \"You are an expert in linguistic sentiment analysis, historical literature, and Spanish language of the 18th century.\"}, {\"role\": \"user\", \"content\": \"Respond in the json format: {\\'response\\': sentiment_classification}\\\\nText: Ni tantos ancianos, que en la mas estrecha angustia de la escas\\\\u00e9z, buscan el pan con el doble sudor de su rostro, sudan en adquirirle mendigando, y sudan con la verg\\\\u00fcenza de haberle de procurar pidiendo.\\\\nsentiment (pos, neu, neg):\"}], \"n\": 1, \"stop\": null, \"temperature\": 0.5}' message='Post details'\n"
     ]
    },
    {
     "name": "stdout",
     "output_type": "stream",
     "text": [
      "Response Text: {'response': {'sentiment': (0.0, 0.0, 1.0)}}\n"
     ]
    },
    {
     "name": "stderr",
     "output_type": "stream",
     "text": [
      "DEBUG:urllib3.connectionpool:https://api.openai.com:443 \"POST /v1/chat/completions HTTP/1.1\" 200 None\n",
      "DEBUG:openai:message='OpenAI API response' path=https://api.openai.com/v1/chat/completions processing_ms=831 request_id=662ad829a5a69c1dfe07f17f89125a22 response_code=200\n",
      "DEBUG:openai:message='Request to OpenAI API' method=post path=https://api.openai.com/v1/chat/completions\n",
      "DEBUG:openai:api_version=None data='{\"model\": \"gpt-4\", \"messages\": [{\"role\": \"system\", \"content\": \"You are an expert in linguistic sentiment analysis, historical literature, and Spanish language of the 18th century.\"}, {\"role\": \"user\", \"content\": \"Respond in the json format: {\\'response\\': sentiment_classification}\\\\nText: Pero ser\\\\u00e1 dichoso, y feliz en su estado: no poseer\\\\u00e1 abundancias, ni se ver\\\\u00e1 lisonjeado;\\\\nsentiment (pos, neu, neg):\"}], \"n\": 1, \"stop\": null, \"temperature\": 0.5}' message='Post details'\n"
     ]
    },
    {
     "name": "stdout",
     "output_type": "stream",
     "text": [
      "Response Text: {'response': {'sentiment': 'neg'}}\n"
     ]
    },
    {
     "name": "stderr",
     "output_type": "stream",
     "text": [
      "DEBUG:urllib3.connectionpool:https://api.openai.com:443 \"POST /v1/chat/completions HTTP/1.1\" 200 None\n",
      "DEBUG:openai:message='OpenAI API response' path=https://api.openai.com/v1/chat/completions processing_ms=2438 request_id=5a4a0796721047ea1575d93d3a713ad5 response_code=200\n",
      "DEBUG:openai:message='Request to OpenAI API' method=post path=https://api.openai.com/v1/chat/completions\n",
      "DEBUG:openai:api_version=None data='{\"model\": \"gpt-4\", \"messages\": [{\"role\": \"system\", \"content\": \"You are an expert in linguistic sentiment analysis, historical literature, and Spanish language of the 18th century.\"}, {\"role\": \"user\", \"content\": \"Respond in the json format: {\\'response\\': sentiment_classification}\\\\nText: No est\\\\u00e0 en esto la gracia, sino es que apenas se vi\\\\u00f3 correspondido, se ausent\\\\u00f3 de casa, y se fue con sus enga\\\\u00f1os \\\\u00e0 otra parte, quedandonos \\\\u00e0 la Luna de Valencia, sin uno, y sin otro, y la ni\\\\u00f1a tan apesadumbrada, que por poco la pobrecita se muere: estuvo muy mala.\\\\nsentiment (pos, neu, neg):\"}], \"n\": 1, \"stop\": null, \"temperature\": 0.5}' message='Post details'\n"
     ]
    },
    {
     "name": "stdout",
     "output_type": "stream",
     "text": [
      "Response Text: {'response': {'text': 'Pero será dichoso, y feliz en su estado: no poseerá abundancias, ni se verá lisonjeado;', 'sentiment_classification': 'positive'}}\n"
     ]
    },
    {
     "name": "stderr",
     "output_type": "stream",
     "text": [
      "DEBUG:urllib3.connectionpool:https://api.openai.com:443 \"POST /v1/chat/completions HTTP/1.1\" 200 None\n",
      "DEBUG:openai:message='OpenAI API response' path=https://api.openai.com/v1/chat/completions processing_ms=487 request_id=0d5c4fbd585cae5a045bf71f7faa0bc8 response_code=200\n",
      "DEBUG:openai:message='Request to OpenAI API' method=post path=https://api.openai.com/v1/chat/completions\n",
      "DEBUG:openai:api_version=None data='{\"model\": \"gpt-4\", \"messages\": [{\"role\": \"system\", \"content\": \"You are an expert in linguistic sentiment analysis, historical literature, and Spanish language of the 18th century.\"}, {\"role\": \"user\", \"content\": \"Respond in the json format: {\\'response\\': sentiment_classification}\\\\nText: Qu\\\\u00e9 contento me hallaba, no obstante mi fatalidad, \\\\u00e0 el mirar, que si me faltaba la hacienda, la ten\\\\u00eca depositada en aquellos, que tanto se ofrecian, y tan promptos habian ocurrido \\\\u00e0 mi socorro!\\\\nsentiment (pos, neu, neg):\"}], \"n\": 1, \"stop\": null, \"temperature\": 0.5}' message='Post details'\n"
     ]
    },
    {
     "name": "stdout",
     "output_type": "stream",
     "text": [
      "Response Text: {'response': 'neg'}\n"
     ]
    },
    {
     "name": "stderr",
     "output_type": "stream",
     "text": [
      "DEBUG:urllib3.connectionpool:https://api.openai.com:443 \"POST /v1/chat/completions HTTP/1.1\" 200 None\n",
      "DEBUG:openai:message='OpenAI API response' path=https://api.openai.com/v1/chat/completions processing_ms=985 request_id=8265812042486b96dbb4047ed80b0795 response_code=200\n",
      "DEBUG:openai:message='Request to OpenAI API' method=post path=https://api.openai.com/v1/chat/completions\n",
      "DEBUG:openai:api_version=None data='{\"model\": \"gpt-4\", \"messages\": [{\"role\": \"system\", \"content\": \"You are an expert in linguistic sentiment analysis, historical literature, and Spanish language of the 18th century.\"}, {\"role\": \"user\", \"content\": \"Respond in the json format: {\\'response\\': sentiment_classification}\\\\nText: porque yo, quando escribo una carta, \\\\u00e0 excepsion de la fecha, la firma, y el muy se\\\\u00f1or mio, todo lo dem\\\\u00e1s me cuesta mas gotas de sudor, que si estubiera cabando;\\\\nsentiment (pos, neu, neg):\"}], \"n\": 1, \"stop\": null, \"temperature\": 0.5}' message='Post details'\n"
     ]
    },
    {
     "name": "stdout",
     "output_type": "stream",
     "text": [
      "Response Text: {\"response\": {\"sentiment\": (0.7, 0.2, 0.1)}}\n"
     ]
    },
    {
     "name": "stderr",
     "output_type": "stream",
     "text": [
      "DEBUG:urllib3.connectionpool:https://api.openai.com:443 \"POST /v1/chat/completions HTTP/1.1\" 200 None\n",
      "DEBUG:openai:message='OpenAI API response' path=https://api.openai.com/v1/chat/completions processing_ms=453 request_id=8853442c0fc970914837e2d02ce7f818 response_code=200\n",
      "DEBUG:openai:message='Request to OpenAI API' method=post path=https://api.openai.com/v1/chat/completions\n",
      "DEBUG:openai:api_version=None data='{\"model\": \"gpt-4\", \"messages\": [{\"role\": \"system\", \"content\": \"You are an expert in linguistic sentiment analysis, historical literature, and Spanish language of the 18th century.\"}, {\"role\": \"user\", \"content\": \"Respond in the json format: {\\'response\\': sentiment_classification}\\\\nText: Pero hoy no he de irme hasta que venga, por probar si puedo desquitarme.\\\\nsentiment (pos, neu, neg):\"}], \"n\": 1, \"stop\": null, \"temperature\": 0.5}' message='Post details'\n"
     ]
    },
    {
     "name": "stdout",
     "output_type": "stream",
     "text": [
      "Response Text: {'response': 'negative'}\n"
     ]
    },
    {
     "name": "stderr",
     "output_type": "stream",
     "text": [
      "DEBUG:urllib3.connectionpool:https://api.openai.com:443 \"POST /v1/chat/completions HTTP/1.1\" 200 None\n",
      "DEBUG:openai:message='OpenAI API response' path=https://api.openai.com/v1/chat/completions processing_ms=1917 request_id=e5ea14de55197bbefa79cee37753ea3d response_code=200\n",
      "DEBUG:openai:message='Request to OpenAI API' method=post path=https://api.openai.com/v1/chat/completions\n",
      "DEBUG:openai:api_version=None data='{\"model\": \"gpt-4\", \"messages\": [{\"role\": \"system\", \"content\": \"You are an expert in linguistic sentiment analysis, historical literature, and Spanish language of the 18th century.\"}, {\"role\": \"user\", \"content\": \"Respond in the json format: {\\'response\\': sentiment_classification}\\\\nText: \\\\u00a1Quantos Cuervos racionales vivir\\\\u00e1n hoy hambrientos, porque quisieron llegar \\\\u00e2 la cumbre donde los colocaba la Lisonja!\\\\nsentiment (pos, neu, neg):\"}], \"n\": 1, \"stop\": null, \"temperature\": 0.5}' message='Post details'\n"
     ]
    },
    {
     "name": "stdout",
     "output_type": "stream",
     "text": [
      "Response Text: {'response': {'text': 'Pero hoy no he de irme hasta que venga, por probar si puedo desquitarme.', 'sentiment': (0.2, 0.5, 0.3)}}\n"
     ]
    },
    {
     "name": "stderr",
     "output_type": "stream",
     "text": [
      "DEBUG:urllib3.connectionpool:https://api.openai.com:443 \"POST /v1/chat/completions HTTP/1.1\" 200 None\n",
      "DEBUG:openai:message='OpenAI API response' path=https://api.openai.com/v1/chat/completions processing_ms=2959 request_id=3402864218213c1662c3818fe643feea response_code=200\n",
      "DEBUG:openai:message='Request to OpenAI API' method=post path=https://api.openai.com/v1/chat/completions\n",
      "DEBUG:openai:api_version=None data='{\"model\": \"gpt-4\", \"messages\": [{\"role\": \"system\", \"content\": \"You are an expert in linguistic sentiment analysis, historical literature, and Spanish language of the 18th century.\"}, {\"role\": \"user\", \"content\": \"Respond in the json format: {\\'response\\': sentiment_classification}\\\\nText: \\\\u00a1valgate Dios por nombre, que a\\\\u00fan assi engendras sustos, parasismos, y aborrecimiento!\\\\nsentiment (pos, neu, neg):\"}], \"n\": 1, \"stop\": null, \"temperature\": 0.5}' message='Post details'\n"
     ]
    },
    {
     "name": "stdout",
     "output_type": "stream",
     "text": [
      "Response Text: {'response': {'text': '¡Quantos Cuervos racionales vivirán hoy hambrientos, porque quisieron llegar â la cumbre donde los colocaba la Lisonja!', 'sentiment': (0.1, 0.1, 0.8)}}\n"
     ]
    },
    {
     "name": "stderr",
     "output_type": "stream",
     "text": [
      "DEBUG:urllib3.connectionpool:https://api.openai.com:443 \"POST /v1/chat/completions HTTP/1.1\" 200 None\n",
      "DEBUG:openai:message='OpenAI API response' path=https://api.openai.com/v1/chat/completions processing_ms=1913 request_id=4e6ace526df7aa5dcbdfc8f489001bd3 response_code=200\n",
      "DEBUG:openai:message='Request to OpenAI API' method=post path=https://api.openai.com/v1/chat/completions\n",
      "DEBUG:openai:api_version=None data='{\"model\": \"gpt-4\", \"messages\": [{\"role\": \"system\", \"content\": \"You are an expert in linguistic sentiment analysis, historical literature, and Spanish language of the 18th century.\"}, {\"role\": \"user\", \"content\": \"Respond in the json format: {\\'response\\': sentiment_classification}\\\\nText: .\\\\u00bfPues no h\\\\u00e1 reparado Vm. mi alma (la r\\\\u00e9plica) \\\\u00e0 Madama Polonia, que lleg\\\\u00f2 havr\\\\u00e1 quince dias de Par\\\\u00ecs, qu\\\\u00e8 manera tan discreta de peynarse, y qu\\\\u00e8 bello gusto de Batas que trae?\\\\nsentiment (pos, neu, neg):\"}], \"n\": 1, \"stop\": null, \"temperature\": 0.5}' message='Post details'\n"
     ]
    },
    {
     "name": "stdout",
     "output_type": "stream",
     "text": [
      "Response Text: {'response': {'sentiment': (0.1, 0.1, 0.8)}}\n"
     ]
    },
    {
     "name": "stderr",
     "output_type": "stream",
     "text": [
      "DEBUG:urllib3.connectionpool:https://api.openai.com:443 \"POST /v1/chat/completions HTTP/1.1\" 200 None\n",
      "DEBUG:openai:message='OpenAI API response' path=https://api.openai.com/v1/chat/completions processing_ms=3478 request_id=a595cf753025bf8cdc81ac8cad4a2f2b response_code=200\n",
      "DEBUG:openai:message='Request to OpenAI API' method=post path=https://api.openai.com/v1/chat/completions\n",
      "DEBUG:openai:api_version=None data='{\"model\": \"gpt-4\", \"messages\": [{\"role\": \"system\", \"content\": \"You are an expert in linguistic sentiment analysis, historical literature, and Spanish language of the 18th century.\"}, {\"role\": \"user\", \"content\": \"Respond in the json format: {\\'response\\': sentiment_classification}\\\\nText: Todo esto llevar\\\\u00e1 con paciencia, si su as\\\\u00e8o, y prolixa compostura se orden\\\\u00e1ra \\\\u00e2 conplacerme; pero es muy \\\\u00e2 el contrario, porque su merced es Cortejo, y hace tanta vanidad de serlo, que quando est\\\\u00e0 de humor me refiere las gracias de su querida, me pondera sus chistes, y alaba su hermosura: vea Vm. qu\\\\u00e8 refresco para quien se halla atabardillada de Zelos.\\\\nsentiment (pos, neu, neg):\"}], \"n\": 1, \"stop\": null, \"temperature\": 0.5}' message='Post details'\n"
     ]
    },
    {
     "name": "stdout",
     "output_type": "stream",
     "text": [
      "Response Text: {'response': {'text': '.¿Pues no há reparado Vm. mi alma (la réplica) à Madama Polonia, que llegò havrá quince dias de Parìs, què manera tan discreta de peynarse, y què bello gusto de Batas que trae?', 'sentiment': ('pos', 'neu', 'neg')}}\n"
     ]
    },
    {
     "name": "stderr",
     "output_type": "stream",
     "text": [
      "DEBUG:urllib3.connectionpool:https://api.openai.com:443 \"POST /v1/chat/completions HTTP/1.1\" 200 None\n",
      "DEBUG:openai:message='OpenAI API response' path=https://api.openai.com/v1/chat/completions processing_ms=6348 request_id=820096cc21697d12fc218a82583b0e2d response_code=200\n",
      "DEBUG:openai:message='Request to OpenAI API' method=post path=https://api.openai.com/v1/chat/completions\n",
      "DEBUG:openai:api_version=None data='{\"model\": \"gpt-4\", \"messages\": [{\"role\": \"system\", \"content\": \"You are an expert in linguistic sentiment analysis, historical literature, and Spanish language of the 18th century.\"}, {\"role\": \"user\", \"content\": \"Respond in the json format: {\\'response\\': sentiment_classification}\\\\nText: Lucio es un ingrato, es un Hombre, que entrega \\\\u00e2 el olvido los mayores favores, pues en el tiempo de su miseria le socorr\\\\u00ec con generosidad, y ahora que y\\\\u00e1 de nadie necessita, no hace caso de quien tanto le sirvi\\\\u00f2\\\\nsentiment (pos, neu, neg):\"}], \"n\": 1, \"stop\": null, \"temperature\": 0.5}' message='Post details'\n"
     ]
    },
    {
     "name": "stdout",
     "output_type": "stream",
     "text": [
      "Response Text: {'response': {'Text': 'Todo esto llevará con paciencia, si su asèo, y prolixa compostura se ordenára â conplacerme; pero es muy â el contrario, porque su merced es Cortejo, y hace tanta vanidad de serlo, que quando està de humor me refiere las gracias de su querida, me pondera sus chistes, y alaba su hermosura: vea Vm. què refresco para quien se halla atabardillada de Zelos.', 'sentiment': ('neg')}}\n"
     ]
    },
    {
     "name": "stderr",
     "output_type": "stream",
     "text": [
      "DEBUG:urllib3.connectionpool:https://api.openai.com:443 \"POST /v1/chat/completions HTTP/1.1\" 200 None\n",
      "DEBUG:openai:message='OpenAI API response' path=https://api.openai.com/v1/chat/completions processing_ms=470 request_id=5112b46fd7db7098a2f70c11f511fd8f response_code=200\n",
      "DEBUG:openai:message='Request to OpenAI API' method=post path=https://api.openai.com/v1/chat/completions\n",
      "DEBUG:openai:api_version=None data='{\"model\": \"gpt-4\", \"messages\": [{\"role\": \"system\", \"content\": \"You are an expert in linguistic sentiment analysis, historical literature, and Spanish language of the 18th century.\"}, {\"role\": \"user\", \"content\": \"Respond in the json format: {\\'response\\': sentiment_classification}\\\\nText: Estos son los que dex\\\\u00e8 notados \\\\u00e0 el principio, y estos debian, haciendo lo mismo, y desvelandose igualmente por instru\\\\u00edrse, evit\\\\u00e0r el motivo de su mal fundada quexa.\\\\nsentiment (pos, neu, neg):\"}], \"n\": 1, \"stop\": null, \"temperature\": 0.5}' message='Post details'\n"
     ]
    },
    {
     "name": "stdout",
     "output_type": "stream",
     "text": [
      "Response Text: {'response': 'negative'}\n"
     ]
    },
    {
     "name": "stderr",
     "output_type": "stream",
     "text": [
      "DEBUG:urllib3.connectionpool:https://api.openai.com:443 \"POST /v1/chat/completions HTTP/1.1\" 200 None\n",
      "DEBUG:openai:message='OpenAI API response' path=https://api.openai.com/v1/chat/completions processing_ms=1556 request_id=90df68b9100549d1b689eeada586299d response_code=200\n",
      "DEBUG:openai:message='Request to OpenAI API' method=post path=https://api.openai.com/v1/chat/completions\n",
      "DEBUG:openai:api_version=None data='{\"model\": \"gpt-4\", \"messages\": [{\"role\": \"system\", \"content\": \"You are an expert in linguistic sentiment analysis, historical literature, and Spanish language of the 18th century.\"}, {\"role\": \"user\", \"content\": \"Respond in the json format: {\\'response\\': sentiment_classification}\\\\nText: Ten\\\\u00eda muchissima confianza de mi, como que se hac\\\\u00eda cargo de la prenda, que ten\\\\u00eca en Casa.\\\\nsentiment (pos, neu, neg):\"}], \"n\": 1, \"stop\": null, \"temperature\": 0.5}' message='Post details'\n"
     ]
    },
    {
     "name": "stdout",
     "output_type": "stream",
     "text": [
      "Response Text: {\"response\": {\"sentiment\": {\"pos\": 0.2, \"neu\": 0.6, \"neg\": 0.2}}}\n"
     ]
    },
    {
     "name": "stderr",
     "output_type": "stream",
     "text": [
      "DEBUG:urllib3.connectionpool:https://api.openai.com:443 \"POST /v1/chat/completions HTTP/1.1\" 200 None\n",
      "DEBUG:openai:message='OpenAI API response' path=https://api.openai.com/v1/chat/completions processing_ms=641 request_id=8f85fac1d9c35464b413b0e11ab9cb1d response_code=200\n",
      "DEBUG:openai:message='Request to OpenAI API' method=post path=https://api.openai.com/v1/chat/completions\n",
      "DEBUG:openai:api_version=None data='{\"model\": \"gpt-4\", \"messages\": [{\"role\": \"system\", \"content\": \"You are an expert in linguistic sentiment analysis, historical literature, and Spanish language of the 18th century.\"}, {\"role\": \"user\", \"content\": \"Respond in the json format: {\\'response\\': sentiment_classification}\\\\nText: Epaminondas no se desde\\\\u00f1aba de mezclarse en las danzas de los muchachos de Thebas, su Patria, ni cre\\\\u00eda obscurecer con esto la gloria de sus victorias, ni la pureza de sus costumbres.\\\\nsentiment (pos, neu, neg):\"}], \"n\": 1, \"stop\": null, \"temperature\": 0.5}' message='Post details'\n"
     ]
    },
    {
     "name": "stdout",
     "output_type": "stream",
     "text": [
      "Response Text: {\"response\": {\"sentiment\": \"pos\"}}\n"
     ]
    },
    {
     "name": "stderr",
     "output_type": "stream",
     "text": [
      "DEBUG:urllib3.connectionpool:https://api.openai.com:443 \"POST /v1/chat/completions HTTP/1.1\" 200 None\n",
      "DEBUG:openai:message='OpenAI API response' path=https://api.openai.com/v1/chat/completions processing_ms=1494 request_id=663f16e7e8386d873fef3196897c9b68 response_code=200\n",
      "DEBUG:openai:message='Request to OpenAI API' method=post path=https://api.openai.com/v1/chat/completions\n",
      "DEBUG:openai:api_version=None data='{\"model\": \"gpt-4\", \"messages\": [{\"role\": \"system\", \"content\": \"You are an expert in linguistic sentiment analysis, historical literature, and Spanish language of the 18th century.\"}, {\"role\": \"user\", \"content\": \"Respond in the json format: {\\'response\\': sentiment_classification}\\\\nText: En pocas partes del Mundo se v\\\\u00e8 con mas frequencia este desorden, que en esta Ciudad.\\\\nsentiment (pos, neu, neg):\"}], \"n\": 1, \"stop\": null, \"temperature\": 0.5}' message='Post details'\n"
     ]
    },
    {
     "name": "stdout",
     "output_type": "stream",
     "text": [
      "Response Text: {'response': {'sentiment': (0.7, 0.3, 0.0)}}\n"
     ]
    },
    {
     "name": "stderr",
     "output_type": "stream",
     "text": [
      "DEBUG:urllib3.connectionpool:https://api.openai.com:443 \"POST /v1/chat/completions HTTP/1.1\" 200 None\n",
      "DEBUG:openai:message='OpenAI API response' path=https://api.openai.com/v1/chat/completions processing_ms=1925 request_id=6c6fe6344b9b235623573e222c3c21ad response_code=200\n",
      "DEBUG:openai:message='Request to OpenAI API' method=post path=https://api.openai.com/v1/chat/completions\n",
      "DEBUG:openai:api_version=None data='{\"model\": \"gpt-4\", \"messages\": [{\"role\": \"system\", \"content\": \"You are an expert in linguistic sentiment analysis, historical literature, and Spanish language of the 18th century.\"}, {\"role\": \"user\", \"content\": \"Respond in the json format: {\\'response\\': sentiment_classification}\\\\nText: Estas fingidas esperanzas, y las importunas ponderaciones de todos los que me trataban, como conquistados de sus regalos, me llevaron voluntariamente \\\\u00e2 manos de mi mayor desgracia.\\\\nsentiment (pos, neu, neg):\"}], \"n\": 1, \"stop\": null, \"temperature\": 0.5}' message='Post details'\n"
     ]
    },
    {
     "name": "stdout",
     "output_type": "stream",
     "text": [
      "Response Text: {'response': {'text': 'En pocas partes del Mundo se vè con mas frequencia este desorden, que en esta Ciudad.', 'sentiment': (0.0, 0.0, 1.0)}}\n"
     ]
    },
    {
     "name": "stderr",
     "output_type": "stream",
     "text": [
      "DEBUG:urllib3.connectionpool:https://api.openai.com:443 \"POST /v1/chat/completions HTTP/1.1\" 200 None\n",
      "DEBUG:openai:message='OpenAI API response' path=https://api.openai.com/v1/chat/completions processing_ms=1166 request_id=8d5cc54dc5a9ff5c6eba98f3a126bf79 response_code=200\n",
      "DEBUG:openai:message='Request to OpenAI API' method=post path=https://api.openai.com/v1/chat/completions\n",
      "DEBUG:openai:api_version=None data='{\"model\": \"gpt-4\", \"messages\": [{\"role\": \"system\", \"content\": \"You are an expert in linguistic sentiment analysis, historical literature, and Spanish language of the 18th century.\"}, {\"role\": \"user\", \"content\": \"Respond in the json format: {\\'response\\': sentiment_classification}\\\\nText: Si esto intent\\\\u00e0ra, ser\\\\u00eda un disparate: lo que culpo, y condeno como indigno, no es aquel sentimiento discreto, que se forma de los males, regulandole siempre con lo justo, para que no exceda su linea, y passe \\\\u00e2 ser impaciencia, \\\\u00f4 desesperacion: no es este, porque assi es precisso, y honesto;\\\\nsentiment (pos, neu, neg):\"}], \"n\": 1, \"stop\": null, \"temperature\": 0.5}' message='Post details'\n"
     ]
    },
    {
     "name": "stdout",
     "output_type": "stream",
     "text": [
      "Response Text: {'response': {'sentiment': (0.1, 0.1, 0.8)}}\n"
     ]
    },
    {
     "name": "stderr",
     "output_type": "stream",
     "text": [
      "DEBUG:urllib3.connectionpool:https://api.openai.com:443 \"POST /v1/chat/completions HTTP/1.1\" 200 None\n",
      "DEBUG:openai:message='OpenAI API response' path=https://api.openai.com/v1/chat/completions processing_ms=420 request_id=97b6220f675ccbab0c8451bfb66955da response_code=200\n",
      "DEBUG:openai:message='Request to OpenAI API' method=post path=https://api.openai.com/v1/chat/completions\n",
      "DEBUG:openai:api_version=None data='{\"model\": \"gpt-4\", \"messages\": [{\"role\": \"system\", \"content\": \"You are an expert in linguistic sentiment analysis, historical literature, and Spanish language of the 18th century.\"}, {\"role\": \"user\", \"content\": \"Respond in the json format: {\\'response\\': sentiment_classification}\\\\nText: En pocas partes del Mundo se v\\\\u00e8 con mas frequencia este desorden, que en esta Ciudad.\\\\nsentiment (pos, neu, neg):\"}], \"n\": 1, \"stop\": null, \"temperature\": 0.5}' message='Post details'\n"
     ]
    },
    {
     "name": "stdout",
     "output_type": "stream",
     "text": [
      "Response Text: {'response': 'negative'}\n"
     ]
    },
    {
     "name": "stderr",
     "output_type": "stream",
     "text": [
      "DEBUG:urllib3.connectionpool:https://api.openai.com:443 \"POST /v1/chat/completions HTTP/1.1\" 200 None\n",
      "DEBUG:openai:message='OpenAI API response' path=https://api.openai.com/v1/chat/completions processing_ms=2421 request_id=dee96849ba8ea0b6ba844090ddad79f0 response_code=200\n",
      "DEBUG:openai:message='Request to OpenAI API' method=post path=https://api.openai.com/v1/chat/completions\n",
      "DEBUG:openai:api_version=None data='{\"model\": \"gpt-4\", \"messages\": [{\"role\": \"system\", \"content\": \"You are an expert in linguistic sentiment analysis, historical literature, and Spanish language of the 18th century.\"}, {\"role\": \"user\", \"content\": \"Respond in the json format: {\\'response\\': sentiment_classification}\\\\nText: Examinense las Historias de los Egypcios, y de los Hebreos, y se encontrar\\\\u00e1 crecido numero de impostores, que abusando de la d\\\\u00e9bil credulidad de los hombres, se jactaban de curar las enfermedades mas inveteradas, por medio de amuletos, talismanes, adivinaciones, y especificos.\\\\nsentiment (pos, neu, neg):\"}], \"n\": 1, \"stop\": null, \"temperature\": 0.5}' message='Post details'\n"
     ]
    },
    {
     "name": "stdout",
     "output_type": "stream",
     "text": [
      "Response Text: {'response': {'text': 'En pocas partes del Mundo se vè con mas frequencia este desorden, que en esta Ciudad.', 'sentiment': (0.0, 0.0, 1.0)}}\n"
     ]
    },
    {
     "name": "stderr",
     "output_type": "stream",
     "text": [
      "DEBUG:urllib3.connectionpool:https://api.openai.com:443 \"POST /v1/chat/completions HTTP/1.1\" 200 None\n",
      "DEBUG:openai:message='OpenAI API response' path=https://api.openai.com/v1/chat/completions processing_ms=453 request_id=b18c13cac45ce1a991ad5d9065877571 response_code=200\n",
      "DEBUG:openai:message='Request to OpenAI API' method=post path=https://api.openai.com/v1/chat/completions\n",
      "DEBUG:openai:api_version=None data='{\"model\": \"gpt-4\", \"messages\": [{\"role\": \"system\", \"content\": \"You are an expert in linguistic sentiment analysis, historical literature, and Spanish language of the 18th century.\"}, {\"role\": \"user\", \"content\": \"Respond in the json format: {\\'response\\': sentiment_classification}\\\\nText: En fin Vm. no estra\\\\u00f1e el modo de explicarme, porque realmente estoy loco, no s\\\\u00e8 lo que me digo: y lo peor es, que aunque lo conozco, no lo puedo remedi\\\\u00e1r\\\\nsentiment (pos, neu, neg):\"}], \"n\": 1, \"stop\": null, \"temperature\": 0.5}' message='Post details'\n"
     ]
    },
    {
     "name": "stdout",
     "output_type": "stream",
     "text": [
      "Response Text: {'response': 'negative'}\n"
     ]
    },
    {
     "name": "stderr",
     "output_type": "stream",
     "text": [
      "DEBUG:urllib3.connectionpool:https://api.openai.com:443 \"POST /v1/chat/completions HTTP/1.1\" 200 None\n",
      "DEBUG:openai:message='OpenAI API response' path=https://api.openai.com/v1/chat/completions processing_ms=1617 request_id=2dbf8cdb91fd3383a1db72026755641a response_code=200\n",
      "DEBUG:openai:message='Request to OpenAI API' method=post path=https://api.openai.com/v1/chat/completions\n",
      "DEBUG:openai:api_version=None data='{\"model\": \"gpt-4\", \"messages\": [{\"role\": \"system\", \"content\": \"You are an expert in linguistic sentiment analysis, historical literature, and Spanish language of the 18th century.\"}, {\"role\": \"user\", \"content\": \"Respond in the json format: {\\'response\\': sentiment_classification}\\\\nText: Se\\\\u00f1ora Culta, su Carta es un farrago de los mas despreciables, y en su obscuro contexto se mira la satisfaccion de su duda.\\\\nsentiment (pos, neu, neg):\"}], \"n\": 1, \"stop\": null, \"temperature\": 0.5}' message='Post details'\n"
     ]
    },
    {
     "name": "stdout",
     "output_type": "stream",
     "text": [
      "Response Text: {'response': {'sentiment': (0.1, 0.1, 0.8)}}\n"
     ]
    },
    {
     "name": "stderr",
     "output_type": "stream",
     "text": [
      "DEBUG:urllib3.connectionpool:https://api.openai.com:443 \"POST /v1/chat/completions HTTP/1.1\" 200 None\n",
      "DEBUG:openai:message='OpenAI API response' path=https://api.openai.com/v1/chat/completions processing_ms=1130 request_id=b99415902a4b540f2c0afc386a0149b3 response_code=200\n",
      "DEBUG:openai:message='Request to OpenAI API' method=post path=https://api.openai.com/v1/chat/completions\n",
      "DEBUG:openai:api_version=None data='{\"model\": \"gpt-4\", \"messages\": [{\"role\": \"system\", \"content\": \"You are an expert in linguistic sentiment analysis, historical literature, and Spanish language of the 18th century.\"}, {\"role\": \"user\", \"content\": \"Respond in the json format: {\\'response\\': sentiment_classification}\\\\nText: Yo por mi desgracia me hallo Casada con un Curioso tan fino, que por la menor novedad que se le presente, se estar\\\\u00e1 dos dias sin venir \\\\u00e2 casa, hasta conseguir hallarse informado de sus menores circunstancias, para despues tener assumpto flamante en las Tertulias\\\\nsentiment (pos, neu, neg):\"}], \"n\": 1, \"stop\": null, \"temperature\": 0.5}' message='Post details'\n"
     ]
    },
    {
     "name": "stdout",
     "output_type": "stream",
     "text": [
      "Response Text: {'response': {'sentiment': (0.1, 0.1, 0.8)}}\n"
     ]
    },
    {
     "name": "stderr",
     "output_type": "stream",
     "text": [
      "DEBUG:urllib3.connectionpool:https://api.openai.com:443 \"POST /v1/chat/completions HTTP/1.1\" 200 None\n",
      "DEBUG:openai:message='OpenAI API response' path=https://api.openai.com/v1/chat/completions processing_ms=399 request_id=868224aefe9882562abd30441fcb63ea response_code=200\n",
      "DEBUG:openai:message='Request to OpenAI API' method=post path=https://api.openai.com/v1/chat/completions\n",
      "DEBUG:openai:api_version=None data='{\"model\": \"gpt-4\", \"messages\": [{\"role\": \"system\", \"content\": \"You are an expert in linguistic sentiment analysis, historical literature, and Spanish language of the 18th century.\"}, {\"role\": \"user\", \"content\": \"Respond in the json format: {\\'response\\': sentiment_classification}\\\\nText: Antes bien, por su modo de pens\\\\u00e1r se dexa discurrir, que tiene ide\\\\u00e1do el contribuir por su parte, al destierro de las mas raras extravagancias y corruptelas, con que los hombres se han empe\\\\u00f1ado en echar \\\\u00e0 perder cada dia mas el mundo.\\\\nsentiment (pos, neu, neg):\"}], \"n\": 1, \"stop\": null, \"temperature\": 0.5}' message='Post details'\n"
     ]
    },
    {
     "name": "stdout",
     "output_type": "stream",
     "text": [
      "Response Text: {'response': 'neg'}\n"
     ]
    },
    {
     "name": "stderr",
     "output_type": "stream",
     "text": [
      "DEBUG:urllib3.connectionpool:https://api.openai.com:443 \"POST /v1/chat/completions HTTP/1.1\" 200 None\n",
      "DEBUG:openai:message='OpenAI API response' path=https://api.openai.com/v1/chat/completions processing_ms=435 request_id=2fab2815739dffc00f6ea25989f545e1 response_code=200\n",
      "DEBUG:openai:message='Request to OpenAI API' method=post path=https://api.openai.com/v1/chat/completions\n",
      "DEBUG:openai:api_version=None data='{\"model\": \"gpt-4\", \"messages\": [{\"role\": \"system\", \"content\": \"You are an expert in linguistic sentiment analysis, historical literature, and Spanish language of the 18th century.\"}, {\"role\": \"user\", \"content\": \"Respond in the json format: {\\'response\\': sentiment_classification}\\\\nText: Llega \\\\u00e1 tanto nuestra estoild\\\\u00e9z, que pasa los limites de lo racional, pues nos dexamos regir de la vanidad, monstruo tan poco escrupuloso, que vive contento en las lobreguezes, siendo solamente \\\\u00e9co que resuena, afan de desperdicios, tarea de inutilidades, tela de Arachne, y finalmente, carencia de un todo.\\\\nsentiment (pos, neu, neg):\"}], \"n\": 1, \"stop\": null, \"temperature\": 0.5}' message='Post details'\n"
     ]
    },
    {
     "name": "stdout",
     "output_type": "stream",
     "text": [
      "Response Text: {'response': 'neg'}\n"
     ]
    },
    {
     "name": "stderr",
     "output_type": "stream",
     "text": [
      "DEBUG:urllib3.connectionpool:https://api.openai.com:443 \"POST /v1/chat/completions HTTP/1.1\" 200 None\n",
      "DEBUG:openai:message='OpenAI API response' path=https://api.openai.com/v1/chat/completions processing_ms=942 request_id=1e481558c990baf0fbbe85abc28c2bf6 response_code=200\n",
      "DEBUG:openai:message='Request to OpenAI API' method=post path=https://api.openai.com/v1/chat/completions\n",
      "DEBUG:openai:api_version=None data='{\"model\": \"gpt-4\", \"messages\": [{\"role\": \"system\", \"content\": \"You are an expert in linguistic sentiment analysis, historical literature, and Spanish language of the 18th century.\"}, {\"role\": \"user\", \"content\": \"Respond in the json format: {\\'response\\': sentiment_classification}\\\\nText: \\\\u00bfQu\\\\u00e8 mayor locura, que sin embargo de ser yo un hombre docil, de buena pasta, y sin malicia, aseverar, que soy un satyrico, perverso, y mal humorado?\\\\nsentiment (pos, neu, neg):\"}], \"n\": 1, \"stop\": null, \"temperature\": 0.5}' message='Post details'\n"
     ]
    },
    {
     "name": "stdout",
     "output_type": "stream",
     "text": [
      "Response Text: {'response': 'negative'}\n"
     ]
    },
    {
     "name": "stderr",
     "output_type": "stream",
     "text": [
      "DEBUG:urllib3.connectionpool:https://api.openai.com:443 \"POST /v1/chat/completions HTTP/1.1\" 200 None\n",
      "DEBUG:openai:message='OpenAI API response' path=https://api.openai.com/v1/chat/completions processing_ms=1118 request_id=f3c4c9d990a86cdad913f0304ddc6944 response_code=200\n",
      "DEBUG:openai:message='Request to OpenAI API' method=post path=https://api.openai.com/v1/chat/completions\n",
      "DEBUG:openai:api_version=None data='{\"model\": \"gpt-4\", \"messages\": [{\"role\": \"system\", \"content\": \"You are an expert in linguistic sentiment analysis, historical literature, and Spanish language of the 18th century.\"}, {\"role\": \"user\", \"content\": \"Respond in the json format: {\\'response\\': sentiment_classification}\\\\nText: Todas las Se\\\\u00f1oras estabamos muy contentas con \\\\u00e8l, quien se hacia pagar muy bien por su especial havilidad, y bello gusto: encargandole nosotras, que por ningun motivo vistiesse de aquella manera \\\\u00e2 ninguna Muger humilde, porque le hariamos d\\\\u00e0r de palos, y desterr\\\\u00e0r de la tierra.\\\\nsentiment (pos, neu, neg):\"}], \"n\": 1, \"stop\": null, \"temperature\": 0.5}' message='Post details'\n"
     ]
    },
    {
     "name": "stdout",
     "output_type": "stream",
     "text": [
      "Response Text: {\"response\": {\"sentiment\": (0.1, 0.2, 0.7)}}\n"
     ]
    },
    {
     "name": "stderr",
     "output_type": "stream",
     "text": [
      "DEBUG:urllib3.connectionpool:https://api.openai.com:443 \"POST /v1/chat/completions HTTP/1.1\" 200 None\n",
      "DEBUG:openai:message='OpenAI API response' path=https://api.openai.com/v1/chat/completions processing_ms=2082 request_id=3798ad3b35e9983fdcb16ed9bbb0d9c5 response_code=200\n",
      "DEBUG:openai:message='Request to OpenAI API' method=post path=https://api.openai.com/v1/chat/completions\n",
      "DEBUG:openai:api_version=None data='{\"model\": \"gpt-4\", \"messages\": [{\"role\": \"system\", \"content\": \"You are an expert in linguistic sentiment analysis, historical literature, and Spanish language of the 18th century.\"}, {\"role\": \"user\", \"content\": \"Respond in the json format: {\\'response\\': sentiment_classification}\\\\nText: Se le presentaba siempre lleno el semblante de serenidad, y tan contenta como pudiera en medio de la abundancia y las riquezas.\\\\nsentiment (pos, neu, neg):\"}], \"n\": 1, \"stop\": null, \"temperature\": 0.5}' message='Post details'\n"
     ]
    },
    {
     "name": "stdout",
     "output_type": "stream",
     "text": [
      "Response Text: {\"response\": {\"sentiment\": {\"pos\": 0.8, \"neu\": 0.1, \"neg\": 0.1}}}\n"
     ]
    },
    {
     "name": "stderr",
     "output_type": "stream",
     "text": [
      "DEBUG:urllib3.connectionpool:https://api.openai.com:443 \"POST /v1/chat/completions HTTP/1.1\" 200 None\n",
      "DEBUG:openai:message='OpenAI API response' path=https://api.openai.com/v1/chat/completions processing_ms=1382 request_id=635cecc35066cdce84ea33e9f7836165 response_code=200\n",
      "DEBUG:openai:message='Request to OpenAI API' method=post path=https://api.openai.com/v1/chat/completions\n",
      "DEBUG:openai:api_version=None data='{\"model\": \"gpt-4\", \"messages\": [{\"role\": \"system\", \"content\": \"You are an expert in linguistic sentiment analysis, historical literature, and Spanish language of the 18th century.\"}, {\"role\": \"user\", \"content\": \"Respond in the json format: {\\'response\\': sentiment_classification}\\\\nText: Pero vease \\\\u00e2 uno de estos tenidos por infelices, que bien hallado con su suerte, vive apartado de la confussion de las Cortes, y Ciudad es\\\\nsentiment (pos, neu, neg):\"}], \"n\": 1, \"stop\": null, \"temperature\": 0.5}' message='Post details'\n"
     ]
    },
    {
     "name": "stdout",
     "output_type": "stream",
     "text": [
      "Response Text: {'response': {'sentiment': (0.8, 0.2, 0.0)}}\n"
     ]
    },
    {
     "name": "stderr",
     "output_type": "stream",
     "text": [
      "DEBUG:urllib3.connectionpool:https://api.openai.com:443 \"POST /v1/chat/completions HTTP/1.1\" 200 None\n",
      "DEBUG:openai:message='OpenAI API response' path=https://api.openai.com/v1/chat/completions processing_ms=886 request_id=6494f8e44cc378b5ce02fbd5e6ed0635 response_code=200\n",
      "DEBUG:openai:message='Request to OpenAI API' method=post path=https://api.openai.com/v1/chat/completions\n",
      "DEBUG:openai:api_version=None data='{\"model\": \"gpt-4\", \"messages\": [{\"role\": \"system\", \"content\": \"You are an expert in linguistic sentiment analysis, historical literature, and Spanish language of the 18th century.\"}, {\"role\": \"user\", \"content\": \"Respond in the json format: {\\'response\\': sentiment_classification}\\\\nText: Y estos mismos amigos le miran con indiferencia, punto menos que en la miseria de que \\\\u00e9l los sac\\\\u00f3, y de que son ellos la verdadera causa.\\\\nsentiment (pos, neu, neg):\"}], \"n\": 1, \"stop\": null, \"temperature\": 0.5}' message='Post details'\n"
     ]
    },
    {
     "name": "stdout",
     "output_type": "stream",
     "text": [
      "Response Text: {\"response\": {\"sentiment\": \"neu\"}}\n"
     ]
    },
    {
     "name": "stderr",
     "output_type": "stream",
     "text": [
      "DEBUG:urllib3.connectionpool:https://api.openai.com:443 \"POST /v1/chat/completions HTTP/1.1\" 200 None\n",
      "DEBUG:openai:message='OpenAI API response' path=https://api.openai.com/v1/chat/completions processing_ms=476 request_id=292d09de508cb71c4cf93b45e25f789b response_code=200\n",
      "DEBUG:openai:message='Request to OpenAI API' method=post path=https://api.openai.com/v1/chat/completions\n",
      "DEBUG:openai:api_version=None data='{\"model\": \"gpt-4\", \"messages\": [{\"role\": \"system\", \"content\": \"You are an expert in linguistic sentiment analysis, historical literature, and Spanish language of the 18th century.\"}, {\"role\": \"user\", \"content\": \"Respond in the json format: {\\'response\\': sentiment_classification}\\\\nText: Se v\\\\u00e8 sujeto \\\\u00e2 las trayciones, expuesto \\\\u00e2 los enga\\\\u00f1os de tantos viles intentos como procuran usurparle su hacienda.\\\\nsentiment (pos, neu, neg):\"}], \"n\": 1, \"stop\": null, \"temperature\": 0.5}' message='Post details'\n"
     ]
    },
    {
     "name": "stdout",
     "output_type": "stream",
     "text": [
      "Response Text: {'response': 'neg'}\n"
     ]
    },
    {
     "name": "stderr",
     "output_type": "stream",
     "text": [
      "DEBUG:urllib3.connectionpool:https://api.openai.com:443 \"POST /v1/chat/completions HTTP/1.1\" 200 None\n",
      "DEBUG:openai:message='OpenAI API response' path=https://api.openai.com/v1/chat/completions processing_ms=416 request_id=211f72dca4691d97fb5e8fa4cb31dc5e response_code=200\n",
      "DEBUG:openai:message='Request to OpenAI API' method=post path=https://api.openai.com/v1/chat/completions\n",
      "DEBUG:openai:api_version=None data='{\"model\": \"gpt-4\", \"messages\": [{\"role\": \"system\", \"content\": \"You are an expert in linguistic sentiment analysis, historical literature, and Spanish language of the 18th century.\"}, {\"role\": \"user\", \"content\": \"Respond in the json format: {\\'response\\': sentiment_classification}\\\\nText: De esta continuacion de aplausos ha venido \\\\u00e2 hacerse de un genio tan atrevido, y falto de politica, que \\\\u00e2 todos increpa de ignorantes, sola su opinion es la mas segura, y lo que es mas (aqu\\\\u00ed entro yo) quiere, y pretende que las Damas, que nos hall\\\\u00e0mos oprimidas de mil cuydados domesticos, se\\\\u00e1mos Philosophas, Naturalistas, Hystoriadoras, y Geometras.\\\\nsentiment (pos, neu, neg):\"}], \"n\": 1, \"stop\": null, \"temperature\": 0.5}' message='Post details'\n"
     ]
    },
    {
     "name": "stdout",
     "output_type": "stream",
     "text": [
      "Response Text: {'response': 'negative'}\n"
     ]
    },
    {
     "name": "stderr",
     "output_type": "stream",
     "text": [
      "DEBUG:urllib3.connectionpool:https://api.openai.com:443 \"POST /v1/chat/completions HTTP/1.1\" 200 None\n",
      "DEBUG:openai:message='OpenAI API response' path=https://api.openai.com/v1/chat/completions processing_ms=443 request_id=5de3c6d1421c9437c27fa0f466cb9740 response_code=200\n",
      "DEBUG:openai:message='Request to OpenAI API' method=post path=https://api.openai.com/v1/chat/completions\n",
      "DEBUG:openai:api_version=None data='{\"model\": \"gpt-4\", \"messages\": [{\"role\": \"system\", \"content\": \"You are an expert in linguistic sentiment analysis, historical literature, and Spanish language of the 18th century.\"}, {\"role\": \"user\", \"content\": \"Respond in the json format: {\\'response\\': sentiment_classification}\\\\nText: Esta s\\\\u00e1bia Rep\\\\u00fablica tenia establecida la pena de muerte muy raras veces, y solo por crimenes muy graves.\\\\nsentiment (pos, neu, neg):\"}], \"n\": 1, \"stop\": null, \"temperature\": 0.5}' message='Post details'\n"
     ]
    },
    {
     "name": "stdout",
     "output_type": "stream",
     "text": [
      "Response Text: {'response': 'negative'}\n"
     ]
    },
    {
     "name": "stderr",
     "output_type": "stream",
     "text": [
      "DEBUG:urllib3.connectionpool:https://api.openai.com:443 \"POST /v1/chat/completions HTTP/1.1\" 200 None\n",
      "DEBUG:openai:message='OpenAI API response' path=https://api.openai.com/v1/chat/completions processing_ms=409 request_id=c84aaa0fc57ba1d16949a856a0293f20 response_code=200\n",
      "DEBUG:openai:message='Request to OpenAI API' method=post path=https://api.openai.com/v1/chat/completions\n",
      "DEBUG:openai:api_version=None data='{\"model\": \"gpt-4\", \"messages\": [{\"role\": \"system\", \"content\": \"You are an expert in linguistic sentiment analysis, historical literature, and Spanish language of the 18th century.\"}, {\"role\": \"user\", \"content\": \"Respond in the json format: {\\'response\\': sentiment_classification}\\\\nText: Mil veces quise matarme, pero mi desgracia quit\\\\u00f2 el valor \\\\u00e2 mi determinacion: y combatida por los fingidos halagos de al\\\\nsentiment (pos, neu, neg):\"}], \"n\": 1, \"stop\": null, \"temperature\": 0.5}' message='Post details'\n"
     ]
    },
    {
     "name": "stdout",
     "output_type": "stream",
     "text": [
      "Response Text: {'response': 'neg'}\n"
     ]
    },
    {
     "name": "stderr",
     "output_type": "stream",
     "text": [
      "DEBUG:urllib3.connectionpool:https://api.openai.com:443 \"POST /v1/chat/completions HTTP/1.1\" 200 None\n",
      "DEBUG:openai:message='OpenAI API response' path=https://api.openai.com/v1/chat/completions processing_ms=2571 request_id=ccd2acaece723945634fa4daf214b25a response_code=200\n",
      "DEBUG:openai:message='Request to OpenAI API' method=post path=https://api.openai.com/v1/chat/completions\n",
      "DEBUG:openai:api_version=None data='{\"model\": \"gpt-4\", \"messages\": [{\"role\": \"system\", \"content\": \"You are an expert in linguistic sentiment analysis, historical literature, and Spanish language of the 18th century.\"}, {\"role\": \"user\", \"content\": \"Respond in the json format: {\\'response\\': sentiment_classification}\\\\nText: \\\\u00bfQuando estaban, digo, en honor entre ellos, la pobreza, el amor al trabajo, el odio \\\\u00e0 la ociosidad, el desprecio del luxo, y de los deleytes.\\\\nsentiment (pos, neu, neg):\"}], \"n\": 1, \"stop\": null, \"temperature\": 0.5}' message='Post details'\n"
     ]
    },
    {
     "name": "stdout",
     "output_type": "stream",
     "text": [
      "Response Text: {'response': {'text': 'Mil veces quise matarme, pero mi desgracia quitò el valor â mi determinacion: y combatida por los fingidos halagos de al', 'sentiment': 'neg'}}\n"
     ]
    },
    {
     "name": "stderr",
     "output_type": "stream",
     "text": [
      "DEBUG:urllib3.connectionpool:https://api.openai.com:443 \"POST /v1/chat/completions HTTP/1.1\" 200 None\n",
      "DEBUG:openai:message='OpenAI API response' path=https://api.openai.com/v1/chat/completions processing_ms=1116 request_id=9b09a8f3e189260694103d7fd4e89977 response_code=200\n",
      "DEBUG:openai:message='Request to OpenAI API' method=post path=https://api.openai.com/v1/chat/completions\n",
      "DEBUG:openai:api_version=None data='{\"model\": \"gpt-4\", \"messages\": [{\"role\": \"system\", \"content\": \"You are an expert in linguistic sentiment analysis, historical literature, and Spanish language of the 18th century.\"}, {\"role\": \"user\", \"content\": \"Respond in the json format: {\\'response\\': sentiment_classification}\\\\nText: Pero entraban los empe\\\\u00f1os, los regalos, las promesas, \\\\u00a1y qu\\\\u00e1n dificil era que se resistiese siempre \\\\u00e0 unas m\\\\u00e1quinas como estas, capaces de batir la mayor constancia!\\\\nsentiment (pos, neu, neg):\"}], \"n\": 1, \"stop\": null, \"temperature\": 0.5}' message='Post details'\n"
     ]
    },
    {
     "name": "stdout",
     "output_type": "stream",
     "text": [
      "Response Text: {'response': {'sentiment': (0.2, 0.5, 0.3)}}\n"
     ]
    },
    {
     "name": "stderr",
     "output_type": "stream",
     "text": [
      "DEBUG:urllib3.connectionpool:https://api.openai.com:443 \"POST /v1/chat/completions HTTP/1.1\" 200 None\n",
      "DEBUG:openai:message='OpenAI API response' path=https://api.openai.com/v1/chat/completions processing_ms=768 request_id=0cc5ab4dd48902930e9f13ec164a9fb6 response_code=200\n",
      "DEBUG:openai:message='Request to OpenAI API' method=post path=https://api.openai.com/v1/chat/completions\n",
      "DEBUG:openai:api_version=None data='{\"model\": \"gpt-4\", \"messages\": [{\"role\": \"system\", \"content\": \"You are an expert in linguistic sentiment analysis, historical literature, and Spanish language of the 18th century.\"}, {\"role\": \"user\", \"content\": \"Respond in the json format: {\\'response\\': sentiment_classification}\\\\nText: pero un accidente peor para m\\\\u00ed que una buena enfermedad me obliga \\\\u00e0 guardar Casa por algunos dias, y \\\\u00e0 no presentarme donde Gentes me vean la cara, hasta que \\\\u00e0 todas se les haya borrado de la imaginacion mi fisonom\\\\u00eda.\\\\nsentiment (pos, neu, neg):\"}], \"n\": 1, \"stop\": null, \"temperature\": 0.5}' message='Post details'\n"
     ]
    },
    {
     "name": "stdout",
     "output_type": "stream",
     "text": [
      "Response Text: {'response': {'sentiment': 'negative'}}\n"
     ]
    },
    {
     "name": "stderr",
     "output_type": "stream",
     "text": [
      "DEBUG:urllib3.connectionpool:https://api.openai.com:443 \"POST /v1/chat/completions HTTP/1.1\" 200 None\n",
      "DEBUG:openai:message='OpenAI API response' path=https://api.openai.com/v1/chat/completions processing_ms=492 request_id=b72387fe2105e6d75ebd51618794b6af response_code=200\n",
      "DEBUG:openai:message='Request to OpenAI API' method=post path=https://api.openai.com/v1/chat/completions\n",
      "DEBUG:openai:api_version=None data='{\"model\": \"gpt-4\", \"messages\": [{\"role\": \"system\", \"content\": \"You are an expert in linguistic sentiment analysis, historical literature, and Spanish language of the 18th century.\"}, {\"role\": \"user\", \"content\": \"Respond in the json format: {\\'response\\': sentiment_classification}\\\\nText: hablo de aquella prodigalidad de ceremonias, y cumplimientos que caracteriza \\\\u00e0 los Caballeros de Lugar por la mayor parte;\\\\nsentiment (pos, neu, neg):\"}], \"n\": 1, \"stop\": null, \"temperature\": 0.5}' message='Post details'\n"
     ]
    },
    {
     "name": "stdout",
     "output_type": "stream",
     "text": [
      "Response Text: {'response': 'negative'}\n"
     ]
    },
    {
     "name": "stderr",
     "output_type": "stream",
     "text": [
      "DEBUG:urllib3.connectionpool:https://api.openai.com:443 \"POST /v1/chat/completions HTTP/1.1\" 200 None\n",
      "DEBUG:openai:message='OpenAI API response' path=https://api.openai.com/v1/chat/completions processing_ms=473 request_id=a1f0c908ac4e77f543651141cf2d8ea8 response_code=200\n",
      "DEBUG:openai:message='Request to OpenAI API' method=post path=https://api.openai.com/v1/chat/completions\n",
      "DEBUG:openai:api_version=None data='{\"model\": \"gpt-4\", \"messages\": [{\"role\": \"system\", \"content\": \"You are an expert in linguistic sentiment analysis, historical literature, and Spanish language of the 18th century.\"}, {\"role\": \"user\", \"content\": \"Respond in the json format: {\\'response\\': sentiment_classification}\\\\nText: Sabe valerse, perdida enteramente la verguenza, de mil artificios, que el uso, y una larga experiencia le han ense\\\\u00f1ado, para aparentar su miseria.\\\\nsentiment (pos, neu, neg):\"}], \"n\": 1, \"stop\": null, \"temperature\": 0.5}' message='Post details'\n"
     ]
    },
    {
     "name": "stdout",
     "output_type": "stream",
     "text": [
      "Response Text: {'response': 'neu'}\n"
     ]
    },
    {
     "name": "stderr",
     "output_type": "stream",
     "text": [
      "DEBUG:urllib3.connectionpool:https://api.openai.com:443 \"POST /v1/chat/completions HTTP/1.1\" 200 None\n",
      "DEBUG:openai:message='OpenAI API response' path=https://api.openai.com/v1/chat/completions processing_ms=463 request_id=62431ff6ea42f5462fd50dd73da56986 response_code=200\n",
      "DEBUG:openai:message='Request to OpenAI API' method=post path=https://api.openai.com/v1/chat/completions\n",
      "DEBUG:openai:api_version=None data='{\"model\": \"gpt-4\", \"messages\": [{\"role\": \"system\", \"content\": \"You are an expert in linguistic sentiment analysis, historical literature, and Spanish language of the 18th century.\"}, {\"role\": \"user\", \"content\": \"Respond in the json format: {\\'response\\': sentiment_classification}\\\\nText: Pues, Amigo, sepa Vm. que todo se lo llev\\\\u00f3 el diablo, si Vm. no me vale;\\\\nsentiment (pos, neu, neg):\"}], \"n\": 1, \"stop\": null, \"temperature\": 0.5}' message='Post details'\n"
     ]
    },
    {
     "name": "stdout",
     "output_type": "stream",
     "text": [
      "Response Text: {'response': 'negative'}\n"
     ]
    },
    {
     "name": "stderr",
     "output_type": "stream",
     "text": [
      "DEBUG:urllib3.connectionpool:https://api.openai.com:443 \"POST /v1/chat/completions HTTP/1.1\" 200 None\n",
      "DEBUG:openai:message='OpenAI API response' path=https://api.openai.com/v1/chat/completions processing_ms=1736 request_id=31f7229d3976a780ebacd96c463e5899 response_code=200\n",
      "DEBUG:openai:message='Request to OpenAI API' method=post path=https://api.openai.com/v1/chat/completions\n",
      "DEBUG:openai:api_version=None data='{\"model\": \"gpt-4\", \"messages\": [{\"role\": \"system\", \"content\": \"You are an expert in linguistic sentiment analysis, historical literature, and Spanish language of the 18th century.\"}, {\"role\": \"user\", \"content\": \"Respond in the json format: {\\'response\\': sentiment_classification}\\\\nText: De aqui es que no hablar\\\\u00e1 una palabra en asunto de la moda, aquel ente que, en sentir de nuestros Catones, trae en perpetuo jiro y continuo mobimiento los cerebros vac\\\\u00edos, ligeros, y volatiles.\\\\nsentiment (pos, neu, neg):\"}], \"n\": 1, \"stop\": null, \"temperature\": 0.5}' message='Post details'\n"
     ]
    },
    {
     "name": "stdout",
     "output_type": "stream",
     "text": [
      "Response Text: {'response': {'sentiment': (0.1, 0.2, 0.7)}}\n"
     ]
    },
    {
     "name": "stderr",
     "output_type": "stream",
     "text": [
      "DEBUG:urllib3.connectionpool:https://api.openai.com:443 \"POST /v1/chat/completions HTTP/1.1\" 200 None\n",
      "DEBUG:openai:message='OpenAI API response' path=https://api.openai.com/v1/chat/completions processing_ms=547 request_id=732a1c3c05799449c4943cb0cb421c95 response_code=200\n",
      "DEBUG:openai:message='Request to OpenAI API' method=post path=https://api.openai.com/v1/chat/completions\n",
      "DEBUG:openai:api_version=None data='{\"model\": \"gpt-4\", \"messages\": [{\"role\": \"system\", \"content\": \"You are an expert in linguistic sentiment analysis, historical literature, and Spanish language of the 18th century.\"}, {\"role\": \"user\", \"content\": \"Respond in the json format: {\\'response\\': sentiment_classification}\\\\nText: Si tal vez sus expresiones son un poco atrevidas, y sus comparaciones odiosas, deben permitirse \\\\u00e0 un hombre, que no ha nacido con la obligacion de hablarnos segun nuestro gusto.\\\\nsentiment (pos, neu, neg):\"}], \"n\": 1, \"stop\": null, \"temperature\": 0.5}' message='Post details'\n"
     ]
    },
    {
     "name": "stdout",
     "output_type": "stream",
     "text": [
      "Response Text: {\"response\": {\"sentiment\": \"neg\"}}\n"
     ]
    },
    {
     "name": "stderr",
     "output_type": "stream",
     "text": [
      "DEBUG:urllib3.connectionpool:https://api.openai.com:443 \"POST /v1/chat/completions HTTP/1.1\" 200 None\n",
      "DEBUG:openai:message='OpenAI API response' path=https://api.openai.com/v1/chat/completions processing_ms=617 request_id=4c433f7c8e7a586b63d84d7e000ce2b0 response_code=200\n",
      "DEBUG:openai:message='Request to OpenAI API' method=post path=https://api.openai.com/v1/chat/completions\n",
      "DEBUG:openai:api_version=None data='{\"model\": \"gpt-4\", \"messages\": [{\"role\": \"system\", \"content\": \"You are an expert in linguistic sentiment analysis, historical literature, and Spanish language of the 18th century.\"}, {\"role\": \"user\", \"content\": \"Respond in the json format: {\\'response\\': sentiment_classification}\\\\nText: Tal qual diamantillo tiene; pero lo dem\\\\u00e1s son chispas, y todo ello de muy mal gusto.\\\\nsentiment (pos, neu, neg):\"}], \"n\": 1, \"stop\": null, \"temperature\": 0.5}' message='Post details'\n"
     ]
    },
    {
     "name": "stdout",
     "output_type": "stream",
     "text": [
      "Response Text: {\"response\": {\"sentiment\": \"neu\"}}\n"
     ]
    },
    {
     "name": "stderr",
     "output_type": "stream",
     "text": [
      "DEBUG:urllib3.connectionpool:https://api.openai.com:443 \"POST /v1/chat/completions HTTP/1.1\" 200 None\n",
      "DEBUG:openai:message='OpenAI API response' path=https://api.openai.com/v1/chat/completions processing_ms=1117 request_id=46e3813462523a6383706f71dae2e281 response_code=200\n",
      "DEBUG:openai:message='Request to OpenAI API' method=post path=https://api.openai.com/v1/chat/completions\n",
      "DEBUG:openai:api_version=None data='{\"model\": \"gpt-4\", \"messages\": [{\"role\": \"system\", \"content\": \"You are an expert in linguistic sentiment analysis, historical literature, and Spanish language of the 18th century.\"}, {\"role\": \"user\", \"content\": \"Respond in the json format: {\\'response\\': sentiment_classification}\\\\nText: A m\\\\u00ed me hizo reir este ofrecimiento, mas no asi al otro, \\\\u00e0 quien antes le irrit\\\\u00f3 tanto, que \\\\u00e0 breves razones vino \\\\u00e0 decirle que era un herege, y que su proposicion era no tan solamente imp\\\\u00eda, heretica, erronea, y escandalosa, sino tambien capciosa, y piarum aurium ofensiva:\\\\nsentiment (pos, neu, neg):\"}], \"n\": 1, \"stop\": null, \"temperature\": 0.5}' message='Post details'\n"
     ]
    },
    {
     "name": "stdout",
     "output_type": "stream",
     "text": [
      "Response Text: {'response': {'sentiment': (0.1, 0.1, 0.8)}}\n"
     ]
    },
    {
     "name": "stderr",
     "output_type": "stream",
     "text": [
      "DEBUG:urllib3.connectionpool:https://api.openai.com:443 \"POST /v1/chat/completions HTTP/1.1\" 200 None\n",
      "DEBUG:openai:message='OpenAI API response' path=https://api.openai.com/v1/chat/completions processing_ms=613 request_id=0277531192ed3bfeed1e9703cbdfe667 response_code=200\n",
      "DEBUG:openai:message='Request to OpenAI API' method=post path=https://api.openai.com/v1/chat/completions\n",
      "DEBUG:openai:api_version=None data='{\"model\": \"gpt-4\", \"messages\": [{\"role\": \"system\", \"content\": \"You are an expert in linguistic sentiment analysis, historical literature, and Spanish language of the 18th century.\"}, {\"role\": \"user\", \"content\": \"Respond in the json format: {\\'response\\': sentiment_classification}\\\\nText: La epidemia, Se\\\\u00f1or, ha cundido tanto, que el infierno no se conoce, ni las gentes se entienden.\\\\nsentiment (pos, neu, neg):\"}], \"n\": 1, \"stop\": null, \"temperature\": 0.5}' message='Post details'\n"
     ]
    },
    {
     "name": "stdout",
     "output_type": "stream",
     "text": [
      "Response Text: {\"response\": {\"sentiment\": \"negative\"}}\n"
     ]
    },
    {
     "name": "stderr",
     "output_type": "stream",
     "text": [
      "DEBUG:urllib3.connectionpool:https://api.openai.com:443 \"POST /v1/chat/completions HTTP/1.1\" 200 None\n",
      "DEBUG:openai:message='OpenAI API response' path=https://api.openai.com/v1/chat/completions processing_ms=1236 request_id=696b81849e8aba17e77ebef535ea1018 response_code=200\n",
      "DEBUG:openai:message='Request to OpenAI API' method=post path=https://api.openai.com/v1/chat/completions\n",
      "DEBUG:openai:api_version=None data='{\"model\": \"gpt-4\", \"messages\": [{\"role\": \"system\", \"content\": \"You are an expert in linguistic sentiment analysis, historical literature, and Spanish language of the 18th century.\"}, {\"role\": \"user\", \"content\": \"Respond in the json format: {\\'response\\': sentiment_classification}\\\\nText: Es un cobarde, un vil, un indigno de los honores que goza, y de alternar con quien tenga el corazon bien puesto.\\\\nsentiment (pos, neu, neg):\"}], \"n\": 1, \"stop\": null, \"temperature\": 0.5}' message='Post details'\n"
     ]
    },
    {
     "name": "stdout",
     "output_type": "stream",
     "text": [
      "Response Text: {'response': {'sentiment': (0.1, 0.1, 0.8)}}\n"
     ]
    },
    {
     "name": "stderr",
     "output_type": "stream",
     "text": [
      "DEBUG:urllib3.connectionpool:https://api.openai.com:443 \"POST /v1/chat/completions HTTP/1.1\" 200 None\n",
      "DEBUG:openai:message='OpenAI API response' path=https://api.openai.com/v1/chat/completions processing_ms=1544 request_id=8cb5cdbcb409e35a546c28fd0979d32a response_code=200\n",
      "DEBUG:openai:message='Request to OpenAI API' method=post path=https://api.openai.com/v1/chat/completions\n",
      "DEBUG:openai:api_version=None data='{\"model\": \"gpt-4\", \"messages\": [{\"role\": \"system\", \"content\": \"You are an expert in linguistic sentiment analysis, historical literature, and Spanish language of the 18th century.\"}, {\"role\": \"user\", \"content\": \"Respond in the json format: {\\'response\\': sentiment_classification}\\\\nText: Selvas, y bosque de amor, dehesas, sotos, y campos, quien os cantaba soltero, os viene \\\\u00e0 mugir casado.\\\\nsentiment (pos, neu, neg):\"}], \"n\": 1, \"stop\": null, \"temperature\": 0.5}' message='Post details'\n"
     ]
    },
    {
     "name": "stdout",
     "output_type": "stream",
     "text": [
      "Response Text: {'response': {'sentiment': (0.0, 0.0, 1.0)}}\n"
     ]
    },
    {
     "name": "stderr",
     "output_type": "stream",
     "text": [
      "DEBUG:urllib3.connectionpool:https://api.openai.com:443 \"POST /v1/chat/completions HTTP/1.1\" 200 None\n",
      "DEBUG:openai:message='OpenAI API response' path=https://api.openai.com/v1/chat/completions processing_ms=643 request_id=47338c7b50e415620cb6d947a75d03a5 response_code=200\n",
      "DEBUG:openai:message='Request to OpenAI API' method=post path=https://api.openai.com/v1/chat/completions\n",
      "DEBUG:openai:api_version=None data='{\"model\": \"gpt-4\", \"messages\": [{\"role\": \"system\", \"content\": \"You are an expert in linguistic sentiment analysis, historical literature, and Spanish language of the 18th century.\"}, {\"role\": \"user\", \"content\": \"Respond in the json format: {\\'response\\': sentiment_classification}\\\\nText: una margen bordada de citas es un espect\\\\u00e1culo que de modo le arrebata que es capaz de devorar un libro en que la vea.\\\\nsentiment (pos, neu, neg):\"}], \"n\": 1, \"stop\": null, \"temperature\": 0.5}' message='Post details'\n"
     ]
    },
    {
     "name": "stdout",
     "output_type": "stream",
     "text": [
      "Response Text: {\"response\": {\"sentiment\": \"positive\"}}\n"
     ]
    },
    {
     "name": "stderr",
     "output_type": "stream",
     "text": [
      "DEBUG:urllib3.connectionpool:https://api.openai.com:443 \"POST /v1/chat/completions HTTP/1.1\" 200 None\n",
      "DEBUG:openai:message='OpenAI API response' path=https://api.openai.com/v1/chat/completions processing_ms=2768 request_id=f687f9c33bfdbc0ef26590c279ad662e response_code=200\n",
      "DEBUG:openai:message='Request to OpenAI API' method=post path=https://api.openai.com/v1/chat/completions\n",
      "DEBUG:openai:api_version=None data='{\"model\": \"gpt-4\", \"messages\": [{\"role\": \"system\", \"content\": \"You are an expert in linguistic sentiment analysis, historical literature, and Spanish language of the 18th century.\"}, {\"role\": \"user\", \"content\": \"Respond in the json format: {\\'response\\': sentiment_classification}\\\\nText: Pero en cambio de estos beneficios, \\\\u00a1qu\\\\u00e9 tributos de reconocimiento no adquiri\\\\u00f3 aquel magn\\\\u00e1nimo corazon!\\\\nsentiment (pos, neu, neg):\"}], \"n\": 1, \"stop\": null, \"temperature\": 0.5}' message='Post details'\n"
     ]
    },
    {
     "name": "stdout",
     "output_type": "stream",
     "text": [
      "Response Text: {'response': {'text': 'una margen bordada de citas es un espectáculo que de modo le arrebata que es capaz de devorar un libro en que la vea.', 'sentiment': 'pos'}}\n"
     ]
    },
    {
     "name": "stderr",
     "output_type": "stream",
     "text": [
      "DEBUG:urllib3.connectionpool:https://api.openai.com:443 \"POST /v1/chat/completions HTTP/1.1\" 200 None\n",
      "DEBUG:openai:message='OpenAI API response' path=https://api.openai.com/v1/chat/completions processing_ms=2579 request_id=0b143f4b1686a31034aca80a4d88de26 response_code=200\n",
      "DEBUG:openai:message='Request to OpenAI API' method=post path=https://api.openai.com/v1/chat/completions\n",
      "DEBUG:openai:api_version=None data='{\"model\": \"gpt-4\", \"messages\": [{\"role\": \"system\", \"content\": \"You are an expert in linguistic sentiment analysis, historical literature, and Spanish language of the 18th century.\"}, {\"role\": \"user\", \"content\": \"Respond in the json format: {\\'response\\': sentiment_classification}\\\\nText: Pero ello es, que se encuentran padres de este temple: que son muchos los que se encuentran; y que su conducta es prueba evidente de que aquellos gastos se sacrifican al orgullo, y la vanidad, sin tener parte en ellos el sincero deseo de hacer bien \\\\u00e0 sus hijos\\\\nsentiment (pos, neu, neg):\"}], \"n\": 1, \"stop\": null, \"temperature\": 0.5}' message='Post details'\n"
     ]
    },
    {
     "name": "stdout",
     "output_type": "stream",
     "text": [
      "Response Text: {'response': {'sentiment': {'pos': 0.7, 'neu': 0.2, 'neg': 0.1}}}\n"
     ]
    },
    {
     "name": "stderr",
     "output_type": "stream",
     "text": [
      "DEBUG:urllib3.connectionpool:https://api.openai.com:443 \"POST /v1/chat/completions HTTP/1.1\" 200 None\n",
      "DEBUG:openai:message='OpenAI API response' path=https://api.openai.com/v1/chat/completions processing_ms=626 request_id=ad153f6414e2a5f48b1f9166a12b52af response_code=200\n",
      "DEBUG:openai:message='Request to OpenAI API' method=post path=https://api.openai.com/v1/chat/completions\n",
      "DEBUG:openai:api_version=None data='{\"model\": \"gpt-4\", \"messages\": [{\"role\": \"system\", \"content\": \"You are an expert in linguistic sentiment analysis, historical literature, and Spanish language of the 18th century.\"}, {\"role\": \"user\", \"content\": \"Respond in the json format: {\\'response\\': sentiment_classification}\\\\nText: \\\\u00bfcon qu\\\\u00e9 cara podr\\\\u00e1 decir este animal, que tiene sesenta a\\\\u00f1os, no haviendo aprendido en ellos \\\\u00e0 dominar sus pasiones, \\\\u00e0 despojarse de los antojos de la ni\\\\u00f1\\\\u00e9z, y de los \\\\u00edmpetus ciegos de la juventud, \\\\u00e0 conocer los principios de su Religion, ni \\\\u00e0 d\\\\u00e1r tributo de adoracion al Se\\\\u00f1or de todo lo criado?\\\\nsentiment (pos, neu, neg):\"}], \"n\": 1, \"stop\": null, \"temperature\": 0.5}' message='Post details'\n"
     ]
    },
    {
     "name": "stdout",
     "output_type": "stream",
     "text": [
      "Response Text: {\"response\": {\"sentiment\": \"neg\"}}\n"
     ]
    },
    {
     "name": "stderr",
     "output_type": "stream",
     "text": [
      "DEBUG:urllib3.connectionpool:https://api.openai.com:443 \"POST /v1/chat/completions HTTP/1.1\" 200 None\n",
      "DEBUG:openai:message='OpenAI API response' path=https://api.openai.com/v1/chat/completions processing_ms=1925 request_id=0fdb67c43b25f0e9af76fe97a2cd359b response_code=200\n",
      "DEBUG:openai:message='Request to OpenAI API' method=post path=https://api.openai.com/v1/chat/completions\n",
      "DEBUG:openai:api_version=None data='{\"model\": \"gpt-4\", \"messages\": [{\"role\": \"system\", \"content\": \"You are an expert in linguistic sentiment analysis, historical literature, and Spanish language of the 18th century.\"}, {\"role\": \"user\", \"content\": \"Respond in the json format: {\\'response\\': sentiment_classification}\\\\nText: Pues como iba diciendo; apenas llegu\\\\u00e9 \\\\u00e0 tocar los rayos de la razon, me v\\\\u00ec sin Padres, y baxo la educacion de un Tio mio, hombre machucho, afilosofado, y dotado de aquel intrinseco azibarado ingrediente, con que diz que se destetan los Ni\\\\u00f1os\\\\nsentiment (pos, neu, neg):\"}], \"n\": 1, \"stop\": null, \"temperature\": 0.5}' message='Post details'\n"
     ]
    },
    {
     "name": "stdout",
     "output_type": "stream",
     "text": [
      "Response Text: {\"response\": {\"sentiment\": [0.10, 0.10, 0.80]}}\n"
     ]
    },
    {
     "name": "stderr",
     "output_type": "stream",
     "text": [
      "DEBUG:urllib3.connectionpool:https://api.openai.com:443 \"POST /v1/chat/completions HTTP/1.1\" 200 None\n",
      "DEBUG:openai:message='OpenAI API response' path=https://api.openai.com/v1/chat/completions processing_ms=705 request_id=3f69308ceaa439612e832305cdd93b7d response_code=200\n",
      "DEBUG:openai:message='Request to OpenAI API' method=post path=https://api.openai.com/v1/chat/completions\n",
      "DEBUG:openai:api_version=None data='{\"model\": \"gpt-4\", \"messages\": [{\"role\": \"system\", \"content\": \"You are an expert in linguistic sentiment analysis, historical literature, and Spanish language of the 18th century.\"}, {\"role\": \"user\", \"content\": \"Respond in the json format: {\\'response\\': sentiment_classification}\\\\nText: Finalmente, \\\\u00e8l \\\\u00e9s racional y como tal apetece las diversiones.\\\\nsentiment (pos, neu, neg):\"}], \"n\": 1, \"stop\": null, \"temperature\": 0.5}' message='Post details'\n"
     ]
    },
    {
     "name": "stdout",
     "output_type": "stream",
     "text": [
      "Response Text: {\"response\": {\"sentiment\": \"neg\"}}\n"
     ]
    },
    {
     "name": "stderr",
     "output_type": "stream",
     "text": [
      "DEBUG:urllib3.connectionpool:https://api.openai.com:443 \"POST /v1/chat/completions HTTP/1.1\" 200 None\n",
      "DEBUG:openai:message='OpenAI API response' path=https://api.openai.com/v1/chat/completions processing_ms=644 request_id=6cbdb3e988ee080ccf2814ce4353519b response_code=200\n",
      "DEBUG:openai:message='Request to OpenAI API' method=post path=https://api.openai.com/v1/chat/completions\n",
      "DEBUG:openai:api_version=None data='{\"model\": \"gpt-4\", \"messages\": [{\"role\": \"system\", \"content\": \"You are an expert in linguistic sentiment analysis, historical literature, and Spanish language of the 18th century.\"}, {\"role\": \"user\", \"content\": \"Respond in the json format: {\\'response\\': sentiment_classification}\\\\nText: \\\\u00bfSabia vmd. acaso hasta que nos revel\\\\u00f3 el secreto dicho venerable Colector de Comedias, que Racine habia sido un imbecil, Cosme Damian, un hombre falto de juicio, y de talento cr\\\\u00edtico?\\\\nsentiment (pos, neu, neg):\"}], \"n\": 1, \"stop\": null, \"temperature\": 0.5}' message='Post details'\n"
     ]
    },
    {
     "name": "stdout",
     "output_type": "stream",
     "text": [
      "Response Text: {\"response\": {\"sentiment\": \"pos\"}}\n"
     ]
    },
    {
     "name": "stderr",
     "output_type": "stream",
     "text": [
      "DEBUG:urllib3.connectionpool:https://api.openai.com:443 \"POST /v1/chat/completions HTTP/1.1\" 200 None\n",
      "DEBUG:openai:message='OpenAI API response' path=https://api.openai.com/v1/chat/completions processing_ms=4285 request_id=ed65e3f9694e96de499a4ef1c6adbcfa response_code=200\n",
      "DEBUG:openai:message='Request to OpenAI API' method=post path=https://api.openai.com/v1/chat/completions\n",
      "DEBUG:openai:api_version=None data='{\"model\": \"gpt-4\", \"messages\": [{\"role\": \"system\", \"content\": \"You are an expert in linguistic sentiment analysis, historical literature, and Spanish language of the 18th century.\"}, {\"role\": \"user\", \"content\": \"Respond in the json format: {\\'response\\': sentiment_classification}\\\\nText: \\\\u00bfQu\\\\u00e8 mayor locura, que sin embargo de ser yo un hombre docil, de buena pasta, y sin malicia, aseverar, que soy un satyrico, perverso, y mal humorado?\\\\nsentiment (pos, neu, neg):\"}], \"n\": 1, \"stop\": null, \"temperature\": 0.5}' message='Post details'\n"
     ]
    },
    {
     "name": "stdout",
     "output_type": "stream",
     "text": [
      "Response Text: {'response': {'text': '¿Sabia vmd. acaso hasta que nos reveló el secreto dicho venerable Colector de Comedias, que Racine habia sido un imbecil, Cosme Damian, un hombre falto de juicio, y de talento crítico?', 'sentiment': (0.05, 0.1, 0.85)}}\n"
     ]
    },
    {
     "name": "stderr",
     "output_type": "stream",
     "text": [
      "DEBUG:urllib3.connectionpool:https://api.openai.com:443 \"POST /v1/chat/completions HTTP/1.1\" 200 None\n",
      "DEBUG:openai:message='OpenAI API response' path=https://api.openai.com/v1/chat/completions processing_ms=1343 request_id=36c6b8ddeced67883dde84377936009f response_code=200\n",
      "DEBUG:openai:message='Request to OpenAI API' method=post path=https://api.openai.com/v1/chat/completions\n",
      "DEBUG:openai:api_version=None data='{\"model\": \"gpt-4\", \"messages\": [{\"role\": \"system\", \"content\": \"You are an expert in linguistic sentiment analysis, historical literature, and Spanish language of the 18th century.\"}, {\"role\": \"user\", \"content\": \"Respond in the json format: {\\'response\\': sentiment_classification}\\\\nText: \\\\u00bfqu\\\\u00e9 juicio formaria su merced de un M\\\\u00e9dico que llamado \\\\u00e1 curar un Escrofuloso, Elephanciano \\\\u00f3 Ethico, descuidase estos tres terribles males, y emplease solamente su charlataneria en medicarle un saba\\\\u00f1on \\\\u00f3 un u\\\\u00f1ero?\\\\nsentiment (pos, neu, neg):\"}], \"n\": 1, \"stop\": null, \"temperature\": 0.5}' message='Post details'\n"
     ]
    },
    {
     "name": "stdout",
     "output_type": "stream",
     "text": [
      "Response Text: {'response': {'sentiment': (0.1, 0.2, 0.7)}}\n"
     ]
    },
    {
     "name": "stderr",
     "output_type": "stream",
     "text": [
      "DEBUG:urllib3.connectionpool:https://api.openai.com:443 \"POST /v1/chat/completions HTTP/1.1\" 200 None\n",
      "DEBUG:openai:message='OpenAI API response' path=https://api.openai.com/v1/chat/completions processing_ms=632 request_id=f5231d6481e3c1574099b057285618e9 response_code=200\n",
      "DEBUG:openai:message='Request to OpenAI API' method=post path=https://api.openai.com/v1/chat/completions\n",
      "DEBUG:openai:api_version=None data='{\"model\": \"gpt-4\", \"messages\": [{\"role\": \"system\", \"content\": \"You are an expert in linguistic sentiment analysis, historical literature, and Spanish language of the 18th century.\"}, {\"role\": \"user\", \"content\": \"Respond in the json format: {\\'response\\': sentiment_classification}\\\\nText: Ellos est\\\\u00e1n en la posesion (no s\\\\u00e9 si inmemorial) de divertir y entretener \\\\u00e1 la cazuela con su buen humor y gracias po\\\\u00ebticas, y consiguientemente tienen \\\\u00e1 su favor todo Madrid.\\\\nsentiment (pos, neu, neg):\"}], \"n\": 1, \"stop\": null, \"temperature\": 0.5}' message='Post details'\n"
     ]
    },
    {
     "name": "stdout",
     "output_type": "stream",
     "text": [
      "Response Text: {'response': 'negative'}\n"
     ]
    },
    {
     "name": "stderr",
     "output_type": "stream",
     "text": [
      "DEBUG:urllib3.connectionpool:https://api.openai.com:443 \"POST /v1/chat/completions HTTP/1.1\" 200 None\n",
      "DEBUG:openai:message='OpenAI API response' path=https://api.openai.com/v1/chat/completions processing_ms=530 request_id=3b256f90f7836ab68cd80256d520a97f response_code=200\n",
      "DEBUG:openai:message='Request to OpenAI API' method=post path=https://api.openai.com/v1/chat/completions\n",
      "DEBUG:openai:api_version=None data='{\"model\": \"gpt-4\", \"messages\": [{\"role\": \"system\", \"content\": \"You are an expert in linguistic sentiment analysis, historical literature, and Spanish language of the 18th century.\"}, {\"role\": \"user\", \"content\": \"Respond in the json format: {\\'response\\': sentiment_classification}\\\\nText: Mi temperamento, naturalemente vigoroso, halagaba infinitamente las inclinaciones de un corazon demasiado simple y amoroso.\\\\nsentiment (pos, neu, neg):\"}], \"n\": 1, \"stop\": null, \"temperature\": 0.5}' message='Post details'\n"
     ]
    },
    {
     "name": "stdout",
     "output_type": "stream",
     "text": [
      "Response Text: {\"response\": \"pos\"}\n"
     ]
    },
    {
     "name": "stderr",
     "output_type": "stream",
     "text": [
      "DEBUG:urllib3.connectionpool:https://api.openai.com:443 \"POST /v1/chat/completions HTTP/1.1\" 200 None\n",
      "DEBUG:openai:message='OpenAI API response' path=https://api.openai.com/v1/chat/completions processing_ms=1480 request_id=67ad6c74b9447805cefafe4c66071161 response_code=200\n",
      "DEBUG:openai:message='Request to OpenAI API' method=post path=https://api.openai.com/v1/chat/completions\n",
      "DEBUG:openai:api_version=None data='{\"model\": \"gpt-4\", \"messages\": [{\"role\": \"system\", \"content\": \"You are an expert in linguistic sentiment analysis, historical literature, and Spanish language of the 18th century.\"}, {\"role\": \"user\", \"content\": \"Respond in the json format: {\\'response\\': sentiment_classification}\\\\nText: El amor de la verdad gobierna mi pluma y no me permitir\\\\u00e1 ex\\\\u00e2gerar ni declamar vanamente.\\\\nsentiment (pos, neu, neg):\"}], \"n\": 1, \"stop\": null, \"temperature\": 0.5}' message='Post details'\n"
     ]
    },
    {
     "name": "stdout",
     "output_type": "stream",
     "text": [
      "Response Text: {\"response\": {\"sentiment\": {\"pos\": 0.7, \"neu\": 0.2, \"neg\": 0.1}}}\n"
     ]
    },
    {
     "name": "stderr",
     "output_type": "stream",
     "text": [
      "DEBUG:urllib3.connectionpool:https://api.openai.com:443 \"POST /v1/chat/completions HTTP/1.1\" 200 None\n",
      "DEBUG:openai:message='OpenAI API response' path=https://api.openai.com/v1/chat/completions processing_ms=1292 request_id=ebe13adb404b42270ebe5f4356a6f834 response_code=200\n",
      "DEBUG:openai:message='Request to OpenAI API' method=post path=https://api.openai.com/v1/chat/completions\n",
      "DEBUG:openai:api_version=None data='{\"model\": \"gpt-4\", \"messages\": [{\"role\": \"system\", \"content\": \"You are an expert in linguistic sentiment analysis, historical literature, and Spanish language of the 18th century.\"}, {\"role\": \"user\", \"content\": \"Respond in the json format: {\\'response\\': sentiment_classification}\\\\nText: pero decir como muchos, eso no vale nada, eso es un asco, y no probarlo, ya v\\\\u00e9 vmd. que son expresiones muy vagas, muy despreciables, y que todo hombre de juicio se rie de los que fallan por este estilo.\\\\nsentiment (pos, neu, neg):\"}], \"n\": 1, \"stop\": null, \"temperature\": 0.5}' message='Post details'\n"
     ]
    },
    {
     "name": "stdout",
     "output_type": "stream",
     "text": [
      "Response Text: {'response': {'sentiment': (0.7, 0.3, 0.0)}}\n"
     ]
    },
    {
     "name": "stderr",
     "output_type": "stream",
     "text": [
      "DEBUG:urllib3.connectionpool:https://api.openai.com:443 \"POST /v1/chat/completions HTTP/1.1\" 200 None\n",
      "DEBUG:openai:message='OpenAI API response' path=https://api.openai.com/v1/chat/completions processing_ms=4519 request_id=7081a68c01196c047b5d64256a5884e2 response_code=200\n",
      "DEBUG:openai:message='Request to OpenAI API' method=post path=https://api.openai.com/v1/chat/completions\n",
      "DEBUG:openai:api_version=None data='{\"model\": \"gpt-4\", \"messages\": [{\"role\": \"system\", \"content\": \"You are an expert in linguistic sentiment analysis, historical literature, and Spanish language of the 18th century.\"}, {\"role\": \"user\", \"content\": \"Respond in the json format: {\\'response\\': sentiment_classification}\\\\nText: Homero era un famoso Astr\\\\u00f3logo politico, que adivinando las funestas resultas de semejantes desordenes, queria con la moral de su obra curar males tan graves.\\\\nsentiment (pos, neu, neg):\"}], \"n\": 1, \"stop\": null, \"temperature\": 0.5}' message='Post details'\n"
     ]
    },
    {
     "name": "stdout",
     "output_type": "stream",
     "text": [
      "Response Text: {'response': {'text': 'pero decir como muchos, eso no vale nada, eso es un asco, y no probarlo, ya vé vmd. que son expresiones muy vagas, muy despreciables, y que todo hombre de juicio se rie de los que fallan por este estilo.', 'sentiment': (0.1, 0.2, 0.7)}}\n"
     ]
    },
    {
     "name": "stderr",
     "output_type": "stream",
     "text": [
      "DEBUG:urllib3.connectionpool:https://api.openai.com:443 \"POST /v1/chat/completions HTTP/1.1\" 200 None\n",
      "DEBUG:openai:message='OpenAI API response' path=https://api.openai.com/v1/chat/completions processing_ms=511 request_id=f9d87f5304592b801facb8a30b62c623 response_code=200\n",
      "DEBUG:openai:message='Request to OpenAI API' method=post path=https://api.openai.com/v1/chat/completions\n",
      "DEBUG:openai:api_version=None data='{\"model\": \"gpt-4\", \"messages\": [{\"role\": \"system\", \"content\": \"You are an expert in linguistic sentiment analysis, historical literature, and Spanish language of the 18th century.\"}, {\"role\": \"user\", \"content\": \"Respond in the json format: {\\'response\\': sentiment_classification}\\\\nText: Un malvado insulano con el fin de enriquecer el Fisco, propuso se confiscasen los bienes de cierto miserable que acababa de ser condenado \\\\u00e1 muerte.\\\\nsentiment (pos, neu, neg):\"}], \"n\": 1, \"stop\": null, \"temperature\": 0.5}' message='Post details'\n"
     ]
    },
    {
     "name": "stdout",
     "output_type": "stream",
     "text": [
      "Response Text: {'response': 'neutral'}\n"
     ]
    },
    {
     "name": "stderr",
     "output_type": "stream",
     "text": [
      "DEBUG:urllib3.connectionpool:https://api.openai.com:443 \"POST /v1/chat/completions HTTP/1.1\" 200 None\n",
      "DEBUG:openai:message='OpenAI API response' path=https://api.openai.com/v1/chat/completions processing_ms=1080 request_id=56f1b0006ee54b796e50c1e1871b62dc response_code=200\n",
      "DEBUG:openai:message='Request to OpenAI API' method=post path=https://api.openai.com/v1/chat/completions\n",
      "DEBUG:openai:api_version=None data='{\"model\": \"gpt-4\", \"messages\": [{\"role\": \"system\", \"content\": \"You are an expert in linguistic sentiment analysis, historical literature, and Spanish language of the 18th century.\"}, {\"role\": \"user\", \"content\": \"Respond in the json format: {\\'response\\': sentiment_classification}\\\\nText: mas como toda cosa mortal declina, hace algun tiempo que la tengo tan quebradiza y delicada como puede ser el honor de una dama en boca de un pisaverde.\\\\nsentiment (pos, neu, neg):\"}], \"n\": 1, \"stop\": null, \"temperature\": 0.5}' message='Post details'\n"
     ]
    },
    {
     "name": "stdout",
     "output_type": "stream",
     "text": [
      "Response Text: {'response': {'sentiment': (0.0, 0.0, 1.0)}}\n"
     ]
    },
    {
     "name": "stderr",
     "output_type": "stream",
     "text": [
      "DEBUG:urllib3.connectionpool:https://api.openai.com:443 \"POST /v1/chat/completions HTTP/1.1\" 200 None\n",
      "DEBUG:openai:message='OpenAI API response' path=https://api.openai.com/v1/chat/completions processing_ms=1178 request_id=8ad2b6ca6b93f02748f771b51c597562 response_code=200\n",
      "DEBUG:openai:message='Request to OpenAI API' method=post path=https://api.openai.com/v1/chat/completions\n",
      "DEBUG:openai:api_version=None data='{\"model\": \"gpt-4\", \"messages\": [{\"role\": \"system\", \"content\": \"You are an expert in linguistic sentiment analysis, historical literature, and Spanish language of the 18th century.\"}, {\"role\": \"user\", \"content\": \"Respond in the json format: {\\'response\\': sentiment_classification}\\\\nText: \\\\u00a1Qu\\\\u00e9 delicia no ser\\\\u00eda oirlas entonar con sus encantadoras voces el Te Franciscum laudamus por alguna victoria contra infieles!\\\\nsentiment (pos, neu, neg):\"}], \"n\": 1, \"stop\": null, \"temperature\": 0.5}' message='Post details'\n"
     ]
    },
    {
     "name": "stdout",
     "output_type": "stream",
     "text": [
      "Response Text: {'response': {'sentiment': (0.1, 0.2, 0.7)}}\n"
     ]
    },
    {
     "name": "stderr",
     "output_type": "stream",
     "text": [
      "DEBUG:urllib3.connectionpool:https://api.openai.com:443 \"POST /v1/chat/completions HTTP/1.1\" 200 None\n",
      "DEBUG:openai:message='OpenAI API response' path=https://api.openai.com/v1/chat/completions processing_ms=1181 request_id=ef911871f75945eb358ce9897c6d88ad response_code=200\n",
      "DEBUG:openai:message='Request to OpenAI API' method=post path=https://api.openai.com/v1/chat/completions\n",
      "DEBUG:openai:api_version=None data='{\"model\": \"gpt-4\", \"messages\": [{\"role\": \"system\", \"content\": \"You are an expert in linguistic sentiment analysis, historical literature, and Spanish language of the 18th century.\"}, {\"role\": \"user\", \"content\": \"Respond in the json format: {\\'response\\': sentiment_classification}\\\\nText: Deje de pensar por un rato, y ve aqui que de repente se deshacen todas mis dificultades y temores.\\\\nsentiment (pos, neu, neg):\"}], \"n\": 1, \"stop\": null, \"temperature\": 0.5}' message='Post details'\n"
     ]
    },
    {
     "name": "stdout",
     "output_type": "stream",
     "text": [
      "Response Text: {\"response\": {\"sentiment\": {\"pos\": 0.7, \"neu\": 0.2, \"neg\": 0.1}}}\n"
     ]
    },
    {
     "name": "stderr",
     "output_type": "stream",
     "text": [
      "DEBUG:urllib3.connectionpool:https://api.openai.com:443 \"POST /v1/chat/completions HTTP/1.1\" 200 None\n",
      "DEBUG:openai:message='OpenAI API response' path=https://api.openai.com/v1/chat/completions processing_ms=1526 request_id=e0d0ed1b19e2eeea95d72fc5cb0f8b6c response_code=200\n",
      "DEBUG:openai:message='Request to OpenAI API' method=post path=https://api.openai.com/v1/chat/completions\n",
      "DEBUG:openai:api_version=None data='{\"model\": \"gpt-4\", \"messages\": [{\"role\": \"system\", \"content\": \"You are an expert in linguistic sentiment analysis, historical literature, and Spanish language of the 18th century.\"}, {\"role\": \"user\", \"content\": \"Respond in the json format: {\\'response\\': sentiment_classification}\\\\nText: \\\\u00bfQu\\\\u00e1ntos hay todavia en nuestra Espa\\\\u00f1a, muy revestidos de Doctores, que no se desprender\\\\u00e1n de sus errados systemas, aunque se les ponga \\\\u00e1 los ojos la evidencia?\\\\nsentiment (pos, neu, neg):\"}], \"n\": 1, \"stop\": null, \"temperature\": 0.5}' message='Post details'\n"
     ]
    },
    {
     "name": "stdout",
     "output_type": "stream",
     "text": [
      "Response Text: {\"response\": {\"sentiment\": {\"pos\": 0.2, \"neu\": 0.3, \"neg\": 0.5}}}\n"
     ]
    },
    {
     "name": "stderr",
     "output_type": "stream",
     "text": [
      "DEBUG:urllib3.connectionpool:https://api.openai.com:443 \"POST /v1/chat/completions HTTP/1.1\" 200 None\n",
      "DEBUG:openai:message='OpenAI API response' path=https://api.openai.com/v1/chat/completions processing_ms=759 request_id=e0da188d4401af9cc4b18e16f45fcc50 response_code=200\n",
      "DEBUG:openai:message='Request to OpenAI API' method=post path=https://api.openai.com/v1/chat/completions\n",
      "DEBUG:openai:api_version=None data='{\"model\": \"gpt-4\", \"messages\": [{\"role\": \"system\", \"content\": \"You are an expert in linguistic sentiment analysis, historical literature, and Spanish language of the 18th century.\"}, {\"role\": \"user\", \"content\": \"Respond in the json format: {\\'response\\': sentiment_classification}\\\\nText: La eloq\\\\u00fcencia, el bello gusto, la erudicion, el decoro, la urbanidad, el chiste, todo desapareci\\\\u00f3 con el Juzgado y no habr\\\\u00e1 ya quien se atreva \\\\u00e1 sucederle dignamente.\\\\nsentiment (pos, neu, neg):\"}], \"n\": 1, \"stop\": null, \"temperature\": 0.5}' message='Post details'\n"
     ]
    },
    {
     "name": "stdout",
     "output_type": "stream",
     "text": [
      "Response Text: {\"response\": {\"sentiment\": \"neg\"}}\n"
     ]
    },
    {
     "name": "stderr",
     "output_type": "stream",
     "text": [
      "DEBUG:urllib3.connectionpool:https://api.openai.com:443 \"POST /v1/chat/completions HTTP/1.1\" 200 None\n",
      "DEBUG:openai:message='OpenAI API response' path=https://api.openai.com/v1/chat/completions processing_ms=886 request_id=431103eb803c67c258233efdad8d4867 response_code=200\n",
      "DEBUG:openai:message='Request to OpenAI API' method=post path=https://api.openai.com/v1/chat/completions\n",
      "DEBUG:openai:api_version=None data='{\"model\": \"gpt-4\", \"messages\": [{\"role\": \"system\", \"content\": \"You are an expert in linguistic sentiment analysis, historical literature, and Spanish language of the 18th century.\"}, {\"role\": \"user\", \"content\": \"Respond in the json format: {\\'response\\': sentiment_classification}\\\\nText: y como nadie hasta ahora se habia acordado de m\\\\u00ed para este efecto, y debia trabajarlo todo por m\\\\u00ed mismo, me iba desanimando poco \\\\u00e1 poco de mi empe\\\\u00f1o.\\\\nsentiment (pos, neu, neg):\"}], \"n\": 1, \"stop\": null, \"temperature\": 0.5}' message='Post details'\n"
     ]
    },
    {
     "name": "stdout",
     "output_type": "stream",
     "text": [
      "Response Text: {'response': {'sentiment': (0.1, 0.1, 0.8)}}\n"
     ]
    },
    {
     "name": "stderr",
     "output_type": "stream",
     "text": [
      "DEBUG:urllib3.connectionpool:https://api.openai.com:443 \"POST /v1/chat/completions HTTP/1.1\" 200 None\n",
      "DEBUG:openai:message='OpenAI API response' path=https://api.openai.com/v1/chat/completions processing_ms=1442 request_id=aa1ea0a043d054ebe1808ad436af0781 response_code=200\n",
      "DEBUG:openai:message='Request to OpenAI API' method=post path=https://api.openai.com/v1/chat/completions\n",
      "DEBUG:openai:api_version=None data='{\"model\": \"gpt-4\", \"messages\": [{\"role\": \"system\", \"content\": \"You are an expert in linguistic sentiment analysis, historical literature, and Spanish language of the 18th century.\"}, {\"role\": \"user\", \"content\": \"Respond in the json format: {\\'response\\': sentiment_classification}\\\\nText: Una cosa semejante creen ellos que ha de sucederles en el Tribunal Supremo, respecto de aquellas acciones delinq\\\\u00fcentes, en las quales tienen por complice \\\\u00e1 la muchedumbre.\\\\nsentiment (pos, neu, neg):\"}], \"n\": 1, \"stop\": null, \"temperature\": 0.5}' message='Post details'\n"
     ]
    },
    {
     "name": "stdout",
     "output_type": "stream",
     "text": [
      "Response Text: {'response': {'sentiment': (0.1, 0.2, 0.7)}}\n"
     ]
    },
    {
     "name": "stderr",
     "output_type": "stream",
     "text": [
      "DEBUG:urllib3.connectionpool:https://api.openai.com:443 \"POST /v1/chat/completions HTTP/1.1\" 200 None\n",
      "DEBUG:openai:message='OpenAI API response' path=https://api.openai.com/v1/chat/completions processing_ms=501 request_id=133865740b1393ade0a60abc7c702fd0 response_code=200\n",
      "DEBUG:openai:message='Request to OpenAI API' method=post path=https://api.openai.com/v1/chat/completions\n",
      "DEBUG:openai:api_version=None data='{\"model\": \"gpt-4\", \"messages\": [{\"role\": \"system\", \"content\": \"You are an expert in linguistic sentiment analysis, historical literature, and Spanish language of the 18th century.\"}, {\"role\": \"user\", \"content\": \"Respond in the json format: {\\'response\\': sentiment_classification}\\\\nText: \\\\u00bfY con qu\\\\u00e9 han de pagar los subditos \\\\u00e1 su Principe las mercedes que les haga, sino de esta manera?\\\\nsentiment (pos, neu, neg):\"}], \"n\": 1, \"stop\": null, \"temperature\": 0.5}' message='Post details'\n"
     ]
    },
    {
     "name": "stdout",
     "output_type": "stream",
     "text": [
      "Response Text: {\"response\": {\"sentiment\": \"neg\"}}\n"
     ]
    },
    {
     "name": "stderr",
     "output_type": "stream",
     "text": [
      "DEBUG:urllib3.connectionpool:https://api.openai.com:443 \"POST /v1/chat/completions HTTP/1.1\" 200 None\n",
      "DEBUG:openai:message='OpenAI API response' path=https://api.openai.com/v1/chat/completions processing_ms=1777 request_id=cefe3004f547fd8e37fb5c7c6cf0fca2 response_code=200\n",
      "DEBUG:openai:message='Request to OpenAI API' method=post path=https://api.openai.com/v1/chat/completions\n",
      "DEBUG:openai:api_version=None data='{\"model\": \"gpt-4\", \"messages\": [{\"role\": \"system\", \"content\": \"You are an expert in linguistic sentiment analysis, historical literature, and Spanish language of the 18th century.\"}, {\"role\": \"user\", \"content\": \"Respond in the json format: {\\'response\\': sentiment_classification}\\\\nText: La miseria iba \\\\u00e1 oprimirme, y no me quedaba ya sino este infame medio para librarme de una inminente ruina.\\\\nsentiment (pos, neu, neg):\"}], \"n\": 1, \"stop\": null, \"temperature\": 0.5}' message='Post details'\n"
     ]
    },
    {
     "name": "stdout",
     "output_type": "stream",
     "text": [
      "Response Text: {'response': {'text': '¿Y con qué han de pagar los subditos á su Principe las mercedes que les haga, sino de esta manera?', 'sentiment': ('neu',)}}\n"
     ]
    },
    {
     "name": "stderr",
     "output_type": "stream",
     "text": [
      "DEBUG:urllib3.connectionpool:https://api.openai.com:443 \"POST /v1/chat/completions HTTP/1.1\" 200 None\n",
      "DEBUG:openai:message='OpenAI API response' path=https://api.openai.com/v1/chat/completions processing_ms=416 request_id=1c0fc9f5cffca2b000020adf257d6135 response_code=200\n",
      "DEBUG:openai:message='Request to OpenAI API' method=post path=https://api.openai.com/v1/chat/completions\n",
      "DEBUG:openai:api_version=None data='{\"model\": \"gpt-4\", \"messages\": [{\"role\": \"system\", \"content\": \"You are an expert in linguistic sentiment analysis, historical literature, and Spanish language of the 18th century.\"}, {\"role\": \"user\", \"content\": \"Respond in the json format: {\\'response\\': sentiment_classification}\\\\nText: Animo, amigos, nadie tema, nadie Su punzante aguijon, que yo persigo En mi S\\\\u00e1tira al Vicio, no al vicioso.\\\\nsentiment (pos, neu, neg):\"}], \"n\": 1, \"stop\": null, \"temperature\": 0.5}' message='Post details'\n"
     ]
    },
    {
     "name": "stdout",
     "output_type": "stream",
     "text": [
      "Response Text: {'response': 'neg'}\n"
     ]
    },
    {
     "name": "stderr",
     "output_type": "stream",
     "text": [
      "DEBUG:urllib3.connectionpool:https://api.openai.com:443 \"POST /v1/chat/completions HTTP/1.1\" 200 None\n",
      "DEBUG:openai:message='OpenAI API response' path=https://api.openai.com/v1/chat/completions processing_ms=3227 request_id=2f028a9baecff997b9ff792fa0b096d0 response_code=200\n",
      "DEBUG:openai:message='Request to OpenAI API' method=post path=https://api.openai.com/v1/chat/completions\n",
      "DEBUG:openai:api_version=None data='{\"model\": \"gpt-4\", \"messages\": [{\"role\": \"system\", \"content\": \"You are an expert in linguistic sentiment analysis, historical literature, and Spanish language of the 18th century.\"}, {\"role\": \"user\", \"content\": \"Respond in the json format: {\\'response\\': sentiment_classification}\\\\nText: \\\\u00bfQui\\\\u00e9n no se horroriza de estas mesas, en las quales nos abstenemos, \\\\u00e1 la verdad de los manjares prohibidos;\\\\nsentiment (pos, neu, neg):\"}], \"n\": 1, \"stop\": null, \"temperature\": 0.5}' message='Post details'\n"
     ]
    },
    {
     "name": "stdout",
     "output_type": "stream",
     "text": [
      "Response Text: {'response': {'text': 'Animo, amigos, nadie tema, nadie Su punzante aguijon, que yo persigo En mi Sátira al Vicio, no al vicioso.', 'sentiment': {'pos': 0.6, 'neu': 0.2, 'neg': 0.2}}}\n"
     ]
    },
    {
     "name": "stderr",
     "output_type": "stream",
     "text": [
      "DEBUG:urllib3.connectionpool:https://api.openai.com:443 \"POST /v1/chat/completions HTTP/1.1\" 200 None\n",
      "DEBUG:openai:message='OpenAI API response' path=https://api.openai.com/v1/chat/completions processing_ms=432 request_id=b94fa1e7614546b76c6aa82c0b91b82a response_code=200\n",
      "DEBUG:openai:message='Request to OpenAI API' method=post path=https://api.openai.com/v1/chat/completions\n",
      "DEBUG:openai:api_version=None data='{\"model\": \"gpt-4\", \"messages\": [{\"role\": \"system\", \"content\": \"You are an expert in linguistic sentiment analysis, historical literature, and Spanish language of the 18th century.\"}, {\"role\": \"user\", \"content\": \"Respond in the json format: {\\'response\\': sentiment_classification}\\\\nText: Yo le confieso \\\\u00e1 Vm. que si hubiera previsto su colera no hubiera entrado en la disputa, en que insensiblemente nos hemos empe\\\\u00f1ado, no teniendo yo en ella inter\\\\u00e9s alguno;\\\\nsentiment (pos, neu, neg):\"}], \"n\": 1, \"stop\": null, \"temperature\": 0.5}' message='Post details'\n"
     ]
    },
    {
     "name": "stdout",
     "output_type": "stream",
     "text": [
      "Response Text: {'response': 'neg'}\n"
     ]
    },
    {
     "name": "stderr",
     "output_type": "stream",
     "text": [
      "DEBUG:urllib3.connectionpool:https://api.openai.com:443 \"POST /v1/chat/completions HTTP/1.1\" 200 None\n",
      "DEBUG:openai:message='OpenAI API response' path=https://api.openai.com/v1/chat/completions processing_ms=3176 request_id=a96c1b229f3a353b9a04529c886607ea response_code=200\n",
      "DEBUG:openai:message='Request to OpenAI API' method=post path=https://api.openai.com/v1/chat/completions\n",
      "DEBUG:openai:api_version=None data='{\"model\": \"gpt-4\", \"messages\": [{\"role\": \"system\", \"content\": \"You are an expert in linguistic sentiment analysis, historical literature, and Spanish language of the 18th century.\"}, {\"role\": \"user\", \"content\": \"Respond in the json format: {\\'response\\': sentiment_classification}\\\\nText: Le hemos manifestado varias veces qu\\\\u00e1n impropias nos parecen de un hombre bien educado, y quanto nos ofenden \\\\u00e9stas y otras expresiones;\\\\nsentiment (pos, neu, neg):\"}], \"n\": 1, \"stop\": null, \"temperature\": 0.5}' message='Post details'\n"
     ]
    },
    {
     "name": "stdout",
     "output_type": "stream",
     "text": [
      "Response Text: {'response': {'text': 'Yo le confieso á Vm. que si hubiera previsto su colera no hubiera entrado en la disputa, en que insensiblemente nos hemos empeñado, no teniendo yo en ella interés alguno;', 'sentiment': (0.1, 0.2, 0.7)}}\n"
     ]
    },
    {
     "name": "stderr",
     "output_type": "stream",
     "text": [
      "DEBUG:urllib3.connectionpool:https://api.openai.com:443 \"POST /v1/chat/completions HTTP/1.1\" 200 None\n",
      "DEBUG:openai:message='OpenAI API response' path=https://api.openai.com/v1/chat/completions processing_ms=469 request_id=8814f60fcd4a3e3c9c697216e95fb995 response_code=200\n",
      "DEBUG:openai:message='Request to OpenAI API' method=post path=https://api.openai.com/v1/chat/completions\n",
      "DEBUG:openai:api_version=None data='{\"model\": \"gpt-4\", \"messages\": [{\"role\": \"system\", \"content\": \"You are an expert in linguistic sentiment analysis, historical literature, and Spanish language of the 18th century.\"}, {\"role\": \"user\", \"content\": \"Respond in the json format: {\\'response\\': sentiment_classification}\\\\nText: \\\\u00bfQu\\\\u00e1ntas injusticias, qu\\\\u00e1ntas intrigas interesadas, qu\\\\u00e1ntos proyectos de ambicion le hicieron pasar las noches sin reposo?\\\\nsentiment (pos, neu, neg):\"}], \"n\": 1, \"stop\": null, \"temperature\": 0.5}' message='Post details'\n"
     ]
    },
    {
     "name": "stdout",
     "output_type": "stream",
     "text": [
      "Response Text: {'response': 'neg'}\n"
     ]
    },
    {
     "name": "stderr",
     "output_type": "stream",
     "text": [
      "DEBUG:urllib3.connectionpool:https://api.openai.com:443 \"POST /v1/chat/completions HTTP/1.1\" 200 None\n",
      "DEBUG:openai:message='OpenAI API response' path=https://api.openai.com/v1/chat/completions processing_ms=1060 request_id=27b758358cb87885a80f848fb0744f0e response_code=200\n",
      "DEBUG:openai:message='Request to OpenAI API' method=post path=https://api.openai.com/v1/chat/completions\n",
      "DEBUG:openai:api_version=None data='{\"model\": \"gpt-4\", \"messages\": [{\"role\": \"system\", \"content\": \"You are an expert in linguistic sentiment analysis, historical literature, and Spanish language of the 18th century.\"}, {\"role\": \"user\", \"content\": \"Respond in the json format: {\\'response\\': sentiment_classification}\\\\nText: y adormeciendonos sobre nuestros males, que por ser de este mundo no son sino verdaderos bienes;\\\\nsentiment (pos, neu, neg):\"}], \"n\": 1, \"stop\": null, \"temperature\": 0.5}' message='Post details'\n"
     ]
    },
    {
     "name": "stdout",
     "output_type": "stream",
     "text": [
      "Response Text: {'response': {'sentiment': (0.0, 0.1, 0.9)}}\n"
     ]
    },
    {
     "name": "stderr",
     "output_type": "stream",
     "text": [
      "DEBUG:urllib3.connectionpool:https://api.openai.com:443 \"POST /v1/chat/completions HTTP/1.1\" 200 None\n",
      "DEBUG:openai:message='OpenAI API response' path=https://api.openai.com/v1/chat/completions processing_ms=2400 request_id=9a350aebb8a8395be14f9c7cbc4dcc35 response_code=200\n",
      "DEBUG:openai:message='Request to OpenAI API' method=post path=https://api.openai.com/v1/chat/completions\n",
      "DEBUG:openai:api_version=None data='{\"model\": \"gpt-4\", \"messages\": [{\"role\": \"system\", \"content\": \"You are an expert in linguistic sentiment analysis, historical literature, and Spanish language of the 18th century.\"}, {\"role\": \"user\", \"content\": \"Respond in the json format: {\\'response\\': sentiment_classification}\\\\nText: \\\\u00bfRoma, en fin, no fue el terror de las Naciones, en tanto que ningun Ciudadano tuvo por peque\\\\u00f1a la porcion de tierra que bastaba para mantener \\\\u00e1 un hombre:\\\\nsentiment (pos, neu, neg):\"}], \"n\": 1, \"stop\": null, \"temperature\": 0.5}' message='Post details'\n"
     ]
    },
    {
     "name": "stdout",
     "output_type": "stream",
     "text": [
      "Response Text: {'response': {'text': 'y adormeciendonos sobre nuestros males, que por ser de este mundo no son sino verdaderos bienes;', 'sentiment': {'pos': 0.4, 'neu': 0.3, 'neg': 0.3}}}\n"
     ]
    },
    {
     "name": "stderr",
     "output_type": "stream",
     "text": [
      "DEBUG:urllib3.connectionpool:https://api.openai.com:443 \"POST /v1/chat/completions HTTP/1.1\" 200 None\n",
      "DEBUG:openai:message='OpenAI API response' path=https://api.openai.com/v1/chat/completions processing_ms=411 request_id=52288da288d4f060b345bf15db19f1bb response_code=200\n",
      "DEBUG:openai:message='Request to OpenAI API' method=post path=https://api.openai.com/v1/chat/completions\n",
      "DEBUG:openai:api_version=None data='{\"model\": \"gpt-4\", \"messages\": [{\"role\": \"system\", \"content\": \"You are an expert in linguistic sentiment analysis, historical literature, and Spanish language of the 18th century.\"}, {\"role\": \"user\", \"content\": \"Respond in the json format: {\\'response\\': sentiment_classification}\\\\nText: \\\\u00bfQu\\\\u00e9 nacion mas floreciente que los Egypcios no obstante el poder sin limites de sus Reyes, mientras no fueron corrompidos por la ambicion de Sesostris?\\\\nsentiment (pos, neu, neg):\"}], \"n\": 1, \"stop\": null, \"temperature\": 0.5}' message='Post details'\n"
     ]
    },
    {
     "name": "stdout",
     "output_type": "stream",
     "text": [
      "Response Text: {'response': 'neu'}\n"
     ]
    },
    {
     "name": "stderr",
     "output_type": "stream",
     "text": [
      "DEBUG:urllib3.connectionpool:https://api.openai.com:443 \"POST /v1/chat/completions HTTP/1.1\" 200 None\n",
      "DEBUG:openai:message='OpenAI API response' path=https://api.openai.com/v1/chat/completions processing_ms=1456 request_id=b3259585198c506e1068ca029d41fac3 response_code=200\n",
      "DEBUG:openai:message='Request to OpenAI API' method=post path=https://api.openai.com/v1/chat/completions\n",
      "DEBUG:openai:api_version=None data='{\"model\": \"gpt-4\", \"messages\": [{\"role\": \"system\", \"content\": \"You are an expert in linguistic sentiment analysis, historical literature, and Spanish language of the 18th century.\"}, {\"role\": \"user\", \"content\": \"Respond in the json format: {\\'response\\': sentiment_classification}\\\\nText: Vuelve la cabeza el venerable anciano, y v\\\\u00e9 \\\\u00a1\\\\u00f3 dolor! \\\\u00a1\\\\u00f3 oprobio!\\\\nsentiment (pos, neu, neg):\"}], \"n\": 1, \"stop\": null, \"temperature\": 0.5}' message='Post details'\n"
     ]
    },
    {
     "name": "stdout",
     "output_type": "stream",
     "text": [
      "Response Text: {\"response\": {\"sentiment\": {\"pos\": 0.2, \"neu\": 0.5, \"neg\": 0.3}}}\n"
     ]
    },
    {
     "name": "stderr",
     "output_type": "stream",
     "text": [
      "DEBUG:urllib3.connectionpool:https://api.openai.com:443 \"POST /v1/chat/completions HTTP/1.1\" 200 None\n",
      "DEBUG:openai:message='OpenAI API response' path=https://api.openai.com/v1/chat/completions processing_ms=424 request_id=e816722d40b9df4a33dd9db009bfe868 response_code=200\n",
      "DEBUG:openai:message='Request to OpenAI API' method=post path=https://api.openai.com/v1/chat/completions\n",
      "DEBUG:openai:api_version=None data='{\"model\": \"gpt-4\", \"messages\": [{\"role\": \"system\", \"content\": \"You are an expert in linguistic sentiment analysis, historical literature, and Spanish language of the 18th century.\"}, {\"role\": \"user\", \"content\": \"Respond in the json format: {\\'response\\': sentiment_classification}\\\\nText: antes mas me le afeminaron, y era tal el temor que me causaban los Duendes, que en oyendo \\\\u00e1 \\\\u00e1\\\\nsentiment (pos, neu, neg):\"}], \"n\": 1, \"stop\": null, \"temperature\": 0.5}' message='Post details'\n"
     ]
    },
    {
     "name": "stdout",
     "output_type": "stream",
     "text": [
      "Response Text: {'response': 'negative'}\n"
     ]
    },
    {
     "name": "stderr",
     "output_type": "stream",
     "text": [
      "DEBUG:urllib3.connectionpool:https://api.openai.com:443 \"POST /v1/chat/completions HTTP/1.1\" 200 None\n",
      "DEBUG:openai:message='OpenAI API response' path=https://api.openai.com/v1/chat/completions processing_ms=516 request_id=b155b5438da7a3088c378ad8cd5c4a94 response_code=200\n",
      "DEBUG:openai:message='Request to OpenAI API' method=post path=https://api.openai.com/v1/chat/completions\n",
      "DEBUG:openai:api_version=None data='{\"model\": \"gpt-4\", \"messages\": [{\"role\": \"system\", \"content\": \"You are an expert in linguistic sentiment analysis, historical literature, and Spanish language of the 18th century.\"}, {\"role\": \"user\", \"content\": \"Respond in the json format: {\\'response\\': sentiment_classification}\\\\nText: Quiso mi desgracia que en aquella tarde viese entre varias Sombras la representacion de un Entierro, que no parecia, sino que ni mas ni menos era un Difunto que llevaban \\\\u00e1 la hoya entre quatro Terceros:\\\\nsentiment (pos, neu, neg):\"}], \"n\": 1, \"stop\": null, \"temperature\": 0.5}' message='Post details'\n"
     ]
    },
    {
     "name": "stdout",
     "output_type": "stream",
     "text": [
      "Response Text: {\"response\": {\"sentiment\": \"neg\"}}\n"
     ]
    },
    {
     "name": "stderr",
     "output_type": "stream",
     "text": [
      "DEBUG:urllib3.connectionpool:https://api.openai.com:443 \"POST /v1/chat/completions HTTP/1.1\" 200 None\n",
      "DEBUG:openai:message='OpenAI API response' path=https://api.openai.com/v1/chat/completions processing_ms=431 request_id=c490b5b102d45069134356889f561b20 response_code=200\n",
      "DEBUG:openai:message='Request to OpenAI API' method=post path=https://api.openai.com/v1/chat/completions\n",
      "DEBUG:openai:api_version=None data='{\"model\": \"gpt-4\", \"messages\": [{\"role\": \"system\", \"content\": \"You are an expert in linguistic sentiment analysis, historical literature, and Spanish language of the 18th century.\"}, {\"role\": \"user\", \"content\": \"Respond in the json format: {\\'response\\': sentiment_classification}\\\\nText: \\\\u00e1 todos los Actores los estimo con igualdad, y miro por sus intereses, adelantamientos, \\\\u00e9 instruccion, escribiendo apolog\\\\u00edas imparciales en defensa del Teatro, y asi en nombre de todos los C\\\\u00f3micos Espa\\\\u00f1oles te doy ahora la agencia de los Coliseos de Madrid, con la precisa condicion de que has de repartir este papelito con la mayor brevedad para que se vea en el tribunal de los Literatos.\\\\nsentiment (pos, neu, neg):\"}], \"n\": 1, \"stop\": null, \"temperature\": 0.5}' message='Post details'\n"
     ]
    },
    {
     "name": "stdout",
     "output_type": "stream",
     "text": [
      "Response Text: {\"response\": \"neg\"}\n"
     ]
    },
    {
     "name": "stderr",
     "output_type": "stream",
     "text": [
      "DEBUG:urllib3.connectionpool:https://api.openai.com:443 \"POST /v1/chat/completions HTTP/1.1\" 200 None\n",
      "DEBUG:openai:message='OpenAI API response' path=https://api.openai.com/v1/chat/completions processing_ms=1143 request_id=c3ea67e191e8e7fb6bb0a4b300359925 response_code=200\n",
      "DEBUG:openai:message='Request to OpenAI API' method=post path=https://api.openai.com/v1/chat/completions\n",
      "DEBUG:openai:api_version=None data='{\"model\": \"gpt-4\", \"messages\": [{\"role\": \"system\", \"content\": \"You are an expert in linguistic sentiment analysis, historical literature, and Spanish language of the 18th century.\"}, {\"role\": \"user\", \"content\": \"Respond in the json format: {\\'response\\': sentiment_classification}\\\\nText: y revolviendo en mi memoria qu\\\\u00e1les serian, se apareci\\\\u00f3 cerca de m\\\\u00ed un mancebo de gallarda presencia que uniendo la hermosura con la seriedad presentaba el aspecto mas amable que pudiera figurar la imaginacion.\\\\nsentiment (pos, neu, neg):\"}], \"n\": 1, \"stop\": null, \"temperature\": 0.5}' message='Post details'\n"
     ]
    },
    {
     "name": "stdout",
     "output_type": "stream",
     "text": [
      "Response Text: {\"response\": {\"sentiment\": {\"pos\": 1.0, \"neu\": 0.0, \"neg\": 0.0}}}\n"
     ]
    },
    {
     "name": "stderr",
     "output_type": "stream",
     "text": [
      "DEBUG:urllib3.connectionpool:https://api.openai.com:443 \"POST /v1/chat/completions HTTP/1.1\" 200 None\n",
      "DEBUG:openai:message='OpenAI API response' path=https://api.openai.com/v1/chat/completions processing_ms=684 request_id=8aade4bdd847f56984b7a6a8d66dd5e1 response_code=200\n",
      "DEBUG:openai:message='Request to OpenAI API' method=post path=https://api.openai.com/v1/chat/completions\n",
      "DEBUG:openai:api_version=None data='{\"model\": \"gpt-4\", \"messages\": [{\"role\": \"system\", \"content\": \"You are an expert in linguistic sentiment analysis, historical literature, and Spanish language of the 18th century.\"}, {\"role\": \"user\", \"content\": \"Respond in the json format: {\\'response\\': sentiment_classification}\\\\nText: Luego \\\\u00e1 la hora que no quiera creer lo falso, saldr\\\\u00e1 del error, \\\\u00f3 lo evitar\\\\u00e1.\\\\nsentiment (pos, neu, neg):\"}], \"n\": 1, \"stop\": null, \"temperature\": 0.5}' message='Post details'\n"
     ]
    },
    {
     "name": "stdout",
     "output_type": "stream",
     "text": [
      "Response Text: {\"response\": {\"sentiment\": \"pos\"}}\n"
     ]
    },
    {
     "name": "stderr",
     "output_type": "stream",
     "text": [
      "DEBUG:urllib3.connectionpool:https://api.openai.com:443 \"POST /v1/chat/completions HTTP/1.1\" 200 None\n",
      "DEBUG:openai:message='OpenAI API response' path=https://api.openai.com/v1/chat/completions processing_ms=2076 request_id=b2d15103eb2d8cb6267f19fbf85c0274 response_code=200\n",
      "DEBUG:openai:message='Request to OpenAI API' method=post path=https://api.openai.com/v1/chat/completions\n",
      "DEBUG:openai:api_version=None data='{\"model\": \"gpt-4\", \"messages\": [{\"role\": \"system\", \"content\": \"You are an expert in linguistic sentiment analysis, historical literature, and Spanish language of the 18th century.\"}, {\"role\": \"user\", \"content\": \"Respond in the json format: {\\'response\\': sentiment_classification}\\\\nText: Vi\\\\u00f3 en esto el Sacerdote que le asistia un demonio en figura de j\\\\u00f3ven muy triste y llorando.\\\\nsentiment (pos, neu, neg):\"}], \"n\": 1, \"stop\": null, \"temperature\": 0.5}' message='Post details'\n"
     ]
    },
    {
     "name": "stdout",
     "output_type": "stream",
     "text": [
      "Response Text: {'response': {'text': 'Luego á la hora que no quiera creer lo falso, saldrá del error, ó lo evitará.', 'sentiment': ('neu', 'pos', 'neg')}}\n"
     ]
    },
    {
     "name": "stderr",
     "output_type": "stream",
     "text": [
      "DEBUG:urllib3.connectionpool:https://api.openai.com:443 \"POST /v1/chat/completions HTTP/1.1\" 200 None\n",
      "DEBUG:openai:message='OpenAI API response' path=https://api.openai.com/v1/chat/completions processing_ms=474 request_id=b0035198d109346bb9f7631b8d8ebbe8 response_code=200\n",
      "DEBUG:openai:message='Request to OpenAI API' method=post path=https://api.openai.com/v1/chat/completions\n",
      "DEBUG:openai:api_version=None data='{\"model\": \"gpt-4\", \"messages\": [{\"role\": \"system\", \"content\": \"You are an expert in linguistic sentiment analysis, historical literature, and Spanish language of the 18th century.\"}, {\"role\": \"user\", \"content\": \"Respond in the json format: {\\'response\\': sentiment_classification}\\\\nText: Oy\\\\u00e9ron los golpes dos menestrales, que trabajaban en el claustro, y saliendo \\\\u00e1 la Iglesia, no solo vi\\\\u00e9ron \\\\u00e1 la Im\\\\u00e1gen ba\\\\u00f1ada en sangre, sino que la oy\\\\u00e9ron quexarse con amargos y sentidos suspiros.\\\\nsentiment (pos, neu, neg):\"}], \"n\": 1, \"stop\": null, \"temperature\": 0.5}' message='Post details'\n"
     ]
    },
    {
     "name": "stdout",
     "output_type": "stream",
     "text": [
      "Response Text: {'response': 'neg'}\n"
     ]
    },
    {
     "name": "stderr",
     "output_type": "stream",
     "text": [
      "DEBUG:urllib3.connectionpool:https://api.openai.com:443 \"POST /v1/chat/completions HTTP/1.1\" 200 None\n",
      "DEBUG:openai:message='OpenAI API response' path=https://api.openai.com/v1/chat/completions processing_ms=638 request_id=897c92e949715437b476ded47eabb632 response_code=200\n",
      "DEBUG:openai:message='Request to OpenAI API' method=post path=https://api.openai.com/v1/chat/completions\n",
      "DEBUG:openai:api_version=None data='{\"model\": \"gpt-4\", \"messages\": [{\"role\": \"system\", \"content\": \"You are an expert in linguistic sentiment analysis, historical literature, and Spanish language of the 18th century.\"}, {\"role\": \"user\", \"content\": \"Respond in the json format: {\\'response\\': sentiment_classification}\\\\nText: La fama y los ilustres contratiempos Recordar\\\\u00e1 con l\\\\u00e1grimas Prosigue Si esto no basta, y te dir\\\\u00e1 qu\\\\u00e9 a\\\\u00f1o.\\\\nsentiment (pos, neu, neg):\"}], \"n\": 1, \"stop\": null, \"temperature\": 0.5}' message='Post details'\n"
     ]
    },
    {
     "name": "stdout",
     "output_type": "stream",
     "text": [
      "Response Text: {\"response\": \"neg\"}\n"
     ]
    },
    {
     "name": "stderr",
     "output_type": "stream",
     "text": [
      "DEBUG:urllib3.connectionpool:https://api.openai.com:443 \"POST /v1/chat/completions HTTP/1.1\" 200 None\n",
      "DEBUG:openai:message='OpenAI API response' path=https://api.openai.com/v1/chat/completions processing_ms=515 request_id=68d3dcd39218b7541543cb681866bbfc response_code=200\n",
      "DEBUG:openai:message='Request to OpenAI API' method=post path=https://api.openai.com/v1/chat/completions\n",
      "DEBUG:openai:api_version=None data='{\"model\": \"gpt-4\", \"messages\": [{\"role\": \"system\", \"content\": \"You are an expert in linguistic sentiment analysis, historical literature, and Spanish language of the 18th century.\"}, {\"role\": \"user\", \"content\": \"Respond in the json format: {\\'response\\': sentiment_classification}\\\\nText: es menester que se guarde bien de contribuir ni con sus caudales ni con sus tareas \\\\u00e1 ningun establecimiento nuevo por mas que se ponderen sus ventajas:\\\\nsentiment (pos, neu, neg):\"}], \"n\": 1, \"stop\": null, \"temperature\": 0.5}' message='Post details'\n"
     ]
    },
    {
     "name": "stdout",
     "output_type": "stream",
     "text": [
      "Response Text: {'response': 'neg'}\n"
     ]
    },
    {
     "name": "stderr",
     "output_type": "stream",
     "text": [
      "DEBUG:urllib3.connectionpool:https://api.openai.com:443 \"POST /v1/chat/completions HTTP/1.1\" 200 None\n",
      "DEBUG:openai:message='OpenAI API response' path=https://api.openai.com/v1/chat/completions processing_ms=495 request_id=2553df62f9c69ce47d0eabe8476227ef response_code=200\n",
      "DEBUG:openai:message='Request to OpenAI API' method=post path=https://api.openai.com/v1/chat/completions\n",
      "DEBUG:openai:api_version=None data='{\"model\": \"gpt-4\", \"messages\": [{\"role\": \"system\", \"content\": \"You are an expert in linguistic sentiment analysis, historical literature, and Spanish language of the 18th century.\"}, {\"role\": \"user\", \"content\": \"Respond in the json format: {\\'response\\': sentiment_classification}\\\\nText: Mas yo no s\\\\u00e9 como entorpecidas por una especie de encanto mis piernas, al primer paso que fu\\\\u00ed a dar ca\\\\u00ed tendido en tierra, de que no sin mucha fatiga pude levantarme.\\\\nsentiment (pos, neu, neg):\"}], \"n\": 1, \"stop\": null, \"temperature\": 0.5}' message='Post details'\n"
     ]
    },
    {
     "name": "stdout",
     "output_type": "stream",
     "text": [
      "Response Text: {\"response\": \"neg\"}\n"
     ]
    },
    {
     "name": "stderr",
     "output_type": "stream",
     "text": [
      "DEBUG:urllib3.connectionpool:https://api.openai.com:443 \"POST /v1/chat/completions HTTP/1.1\" 200 None\n",
      "DEBUG:openai:message='OpenAI API response' path=https://api.openai.com/v1/chat/completions processing_ms=475 request_id=4b33f0d8bebba4cf434604a794cb2dd2 response_code=200\n",
      "DEBUG:openai:message='Request to OpenAI API' method=post path=https://api.openai.com/v1/chat/completions\n",
      "DEBUG:openai:api_version=None data='{\"model\": \"gpt-4\", \"messages\": [{\"role\": \"system\", \"content\": \"You are an expert in linguistic sentiment analysis, historical literature, and Spanish language of the 18th century.\"}, {\"role\": \"user\", \"content\": \"Respond in the json format: {\\'response\\': sentiment_classification}\\\\nText: es menester que se guarde bien de contribuir ni con sus caudales ni con sus tareas \\\\u00e1 ningun establecimiento nuevo por mas que se ponderen sus ventajas:\\\\nsentiment (pos, neu, neg):\"}], \"n\": 1, \"stop\": null, \"temperature\": 0.5}' message='Post details'\n"
     ]
    },
    {
     "name": "stdout",
     "output_type": "stream",
     "text": [
      "Response Text: {'response': 'neg'}\n"
     ]
    },
    {
     "name": "stderr",
     "output_type": "stream",
     "text": [
      "DEBUG:urllib3.connectionpool:https://api.openai.com:443 \"POST /v1/chat/completions HTTP/1.1\" 200 None\n",
      "DEBUG:openai:message='OpenAI API response' path=https://api.openai.com/v1/chat/completions processing_ms=624 request_id=bd9f6b43593d7bae7df382bb127e868e response_code=200\n",
      "DEBUG:openai:message='Request to OpenAI API' method=post path=https://api.openai.com/v1/chat/completions\n",
      "DEBUG:openai:api_version=None data='{\"model\": \"gpt-4\", \"messages\": [{\"role\": \"system\", \"content\": \"You are an expert in linguistic sentiment analysis, historical literature, and Spanish language of the 18th century.\"}, {\"role\": \"user\", \"content\": \"Respond in the json format: {\\'response\\': sentiment_classification}\\\\nText: La verdadera gloria consiste en merecer la gloria.\\\\nsentiment (pos, neu, neg):\"}], \"n\": 1, \"stop\": null, \"temperature\": 0.5}' message='Post details'\n"
     ]
    },
    {
     "name": "stdout",
     "output_type": "stream",
     "text": [
      "Response Text: {\"response\": {\"sentiment\": \"neg\"}}\n"
     ]
    },
    {
     "name": "stderr",
     "output_type": "stream",
     "text": [
      "DEBUG:urllib3.connectionpool:https://api.openai.com:443 \"POST /v1/chat/completions HTTP/1.1\" 200 None\n",
      "DEBUG:openai:message='OpenAI API response' path=https://api.openai.com/v1/chat/completions processing_ms=1043 request_id=79a0f18360f6fde2de1b9ccfe9a860f5 response_code=200\n",
      "DEBUG:openai:message='Request to OpenAI API' method=post path=https://api.openai.com/v1/chat/completions\n",
      "DEBUG:openai:api_version=None data='{\"model\": \"gpt-4\", \"messages\": [{\"role\": \"system\", \"content\": \"You are an expert in linguistic sentiment analysis, historical literature, and Spanish language of the 18th century.\"}, {\"role\": \"user\", \"content\": \"Respond in the json format: {\\'response\\': sentiment_classification}\\\\nText: Basten para acreditarlo algunas expresiones que van de bastardilla por su singular belleza y ex\\\\u00e2ctitud.\\\\nsentiment (pos, neu, neg):\"}], \"n\": 1, \"stop\": null, \"temperature\": 0.5}' message='Post details'\n",
      "DEBUG:urllib3.util.retry:Converted retries value: 2 -> Retry(total=2, connect=None, read=None, redirect=None, status=None)\n",
      "DEBUG:urllib3.connectionpool:Starting new HTTPS connection (1): api.openai.com:443\n"
     ]
    },
    {
     "name": "stdout",
     "output_type": "stream",
     "text": [
      "Response Text: {'response': {'sentiment': (0.8, 0.2, 0.0)}}\n"
     ]
    },
    {
     "name": "stderr",
     "output_type": "stream",
     "text": [
      "DEBUG:urllib3.connectionpool:https://api.openai.com:443 \"POST /v1/chat/completions HTTP/1.1\" 200 None\n",
      "DEBUG:openai:message='OpenAI API response' path=https://api.openai.com/v1/chat/completions processing_ms=472 request_id=6dfe4af98f2c31404bf7e1475ceb22d4 response_code=200\n",
      "DEBUG:openai:message='Request to OpenAI API' method=post path=https://api.openai.com/v1/chat/completions\n",
      "DEBUG:openai:api_version=None data='{\"model\": \"gpt-4\", \"messages\": [{\"role\": \"system\", \"content\": \"You are an expert in linguistic sentiment analysis, historical literature, and Spanish language of the 18th century.\"}, {\"role\": \"user\", \"content\": \"Respond in the json format: {\\'response\\': sentiment_classification}\\\\nText: Declara este Tribunal que no se admiten empe\\\\u00f1os ni resortes para que se inserten cartas ni otros papeles en el peri\\\\u00f3dico que publica, pues bastar\\\\u00e1 solo el m\\\\u00e9rito de la obra para que nosotros lo hagamos sin necesidad de ellos;\\\\nsentiment (pos, neu, neg):\"}], \"n\": 1, \"stop\": null, \"temperature\": 0.5}' message='Post details'\n"
     ]
    },
    {
     "name": "stdout",
     "output_type": "stream",
     "text": [
      "Response Text: {'response': 'pos'}\n"
     ]
    },
    {
     "name": "stderr",
     "output_type": "stream",
     "text": [
      "DEBUG:urllib3.connectionpool:https://api.openai.com:443 \"POST /v1/chat/completions HTTP/1.1\" 200 None\n",
      "DEBUG:openai:message='OpenAI API response' path=https://api.openai.com/v1/chat/completions processing_ms=474 request_id=4e7e95179b44f2d266580482815c835a response_code=200\n",
      "DEBUG:openai:message='Request to OpenAI API' method=post path=https://api.openai.com/v1/chat/completions\n",
      "DEBUG:openai:api_version=None data='{\"model\": \"gpt-4\", \"messages\": [{\"role\": \"system\", \"content\": \"You are an expert in linguistic sentiment analysis, historical literature, and Spanish language of the 18th century.\"}, {\"role\": \"user\", \"content\": \"Respond in the json format: {\\'response\\': sentiment_classification}\\\\nText: La aurora de un nuevo peri\\\\u00f3dico se presenta apacible \\\\u00e1 la sociedad, y la anima con indecible esplendor.\\\\nsentiment (pos, neu, neg):\"}], \"n\": 1, \"stop\": null, \"temperature\": 0.5}' message='Post details'\n"
     ]
    },
    {
     "name": "stdout",
     "output_type": "stream",
     "text": [
      "Response Text: {'response': 'neu'}\n"
     ]
    },
    {
     "name": "stderr",
     "output_type": "stream",
     "text": [
      "DEBUG:urllib3.connectionpool:https://api.openai.com:443 \"POST /v1/chat/completions HTTP/1.1\" 200 None\n",
      "DEBUG:openai:message='OpenAI API response' path=https://api.openai.com/v1/chat/completions processing_ms=1536 request_id=f29a30dd44d1624ec3920b1564c42ad6 response_code=200\n",
      "DEBUG:openai:message='Request to OpenAI API' method=post path=https://api.openai.com/v1/chat/completions\n",
      "DEBUG:openai:api_version=None data='{\"model\": \"gpt-4\", \"messages\": [{\"role\": \"system\", \"content\": \"You are an expert in linguistic sentiment analysis, historical literature, and Spanish language of the 18th century.\"}, {\"role\": \"user\", \"content\": \"Respond in the json format: {\\'response\\': sentiment_classification}\\\\nText: El sex\\\\u00f4 femenil se concentr\\\\u00f3 en las gracias naturales y sencillas que le di\\\\u00f3 naturaleza, suprimi\\\\u00f3 los vaidos fingidos, los melindres pueriles, y dex\\\\u00f3 de hablar tan \\\\u00e1 menudo de sus jaquecas y vapores.\\\\nsentiment (pos, neu, neg):\"}], \"n\": 1, \"stop\": null, \"temperature\": 0.5}' message='Post details'\n"
     ]
    },
    {
     "name": "stdout",
     "output_type": "stream",
     "text": [
      "Response Text: {\"response\": {\"sentiment\": {\"pos\": 1.0, \"neu\": 0.0, \"neg\": 0.0}}}\n"
     ]
    },
    {
     "name": "stderr",
     "output_type": "stream",
     "text": [
      "DEBUG:urllib3.connectionpool:https://api.openai.com:443 \"POST /v1/chat/completions HTTP/1.1\" 200 None\n",
      "DEBUG:openai:message='OpenAI API response' path=https://api.openai.com/v1/chat/completions processing_ms=1811 request_id=cddf30c70e3e2bd1e29c54222d2ebe9b response_code=200\n",
      "DEBUG:openai:message='Request to OpenAI API' method=post path=https://api.openai.com/v1/chat/completions\n",
      "DEBUG:openai:api_version=None data='{\"model\": \"gpt-4\", \"messages\": [{\"role\": \"system\", \"content\": \"You are an expert in linguistic sentiment analysis, historical literature, and Spanish language of the 18th century.\"}, {\"role\": \"user\", \"content\": \"Respond in the json format: {\\'response\\': sentiment_classification}\\\\nText: Me parece haber hablado sin adhesion, y sin usar de t\\\\u00e9rminos ofensivos, solo por el bien de la humanidad.\\\\nsentiment (pos, neu, neg):\"}], \"n\": 1, \"stop\": null, \"temperature\": 0.5}' message='Post details'\n"
     ]
    },
    {
     "name": "stdout",
     "output_type": "stream",
     "text": [
      "Response Text: {\"response\": {\"pos\": 0.45, \"neu\": 0.35, \"neg\": 0.2}}\n"
     ]
    },
    {
     "name": "stderr",
     "output_type": "stream",
     "text": [
      "DEBUG:urllib3.connectionpool:https://api.openai.com:443 \"POST /v1/chat/completions HTTP/1.1\" 200 None\n",
      "DEBUG:openai:message='OpenAI API response' path=https://api.openai.com/v1/chat/completions processing_ms=1369 request_id=774a827407c8797a495a6e3c14da3606 response_code=200\n",
      "DEBUG:openai:message='Request to OpenAI API' method=post path=https://api.openai.com/v1/chat/completions\n",
      "DEBUG:openai:api_version=None data='{\"model\": \"gpt-4\", \"messages\": [{\"role\": \"system\", \"content\": \"You are an expert in linguistic sentiment analysis, historical literature, and Spanish language of the 18th century.\"}, {\"role\": \"user\", \"content\": \"Respond in the json format: {\\'response\\': sentiment_classification}\\\\nText: El teatro, dec\\\\u00eda yo, que deberia ser la escuela de las costumbres de la Nacion, es en Espa\\\\u00f1a la escuela de la supersticion, del enga\\\\u00f1o, y de todos los vicios.\\\\nsentiment (pos, neu, neg):\"}], \"n\": 1, \"stop\": null, \"temperature\": 0.5}' message='Post details'\n"
     ]
    },
    {
     "name": "stdout",
     "output_type": "stream",
     "text": [
      "Response Text: {'response': {'sentiment': {'pos': 0.8, 'neu': 0.2, 'neg': 0.0}}}\n"
     ]
    },
    {
     "name": "stderr",
     "output_type": "stream",
     "text": [
      "DEBUG:urllib3.connectionpool:https://api.openai.com:443 \"POST /v1/chat/completions HTTP/1.1\" 200 None\n",
      "DEBUG:openai:message='OpenAI API response' path=https://api.openai.com/v1/chat/completions processing_ms=540 request_id=de21066eedc6b6b584bcfadaea14bf27 response_code=200\n",
      "DEBUG:openai:message='Request to OpenAI API' method=post path=https://api.openai.com/v1/chat/completions\n",
      "DEBUG:openai:api_version=None data='{\"model\": \"gpt-4\", \"messages\": [{\"role\": \"system\", \"content\": \"You are an expert in linguistic sentiment analysis, historical literature, and Spanish language of the 18th century.\"}, {\"role\": \"user\", \"content\": \"Respond in the json format: {\\'response\\': sentiment_classification}\\\\nText: A buen seguro que no es ningun media cuchara, sino un hombre muy hecho, \\\\u00f3 se me alcanza poco de achaque de estilos.\\\\nsentiment (pos, neu, neg):\"}], \"n\": 1, \"stop\": null, \"temperature\": 0.5}' message='Post details'\n"
     ]
    },
    {
     "name": "stdout",
     "output_type": "stream",
     "text": [
      "Response Text: {'response': 'negative'}\n"
     ]
    },
    {
     "name": "stderr",
     "output_type": "stream",
     "text": [
      "DEBUG:urllib3.connectionpool:https://api.openai.com:443 \"POST /v1/chat/completions HTTP/1.1\" 200 None\n",
      "DEBUG:openai:message='OpenAI API response' path=https://api.openai.com/v1/chat/completions processing_ms=1369 request_id=bbb247aa96729dd6bef0aabc3517bf19 response_code=200\n",
      "DEBUG:openai:message='Request to OpenAI API' method=post path=https://api.openai.com/v1/chat/completions\n",
      "DEBUG:openai:api_version=None data='{\"model\": \"gpt-4\", \"messages\": [{\"role\": \"system\", \"content\": \"You are an expert in linguistic sentiment analysis, historical literature, and Spanish language of the 18th century.\"}, {\"role\": \"user\", \"content\": \"Respond in the json format: {\\'response\\': sentiment_classification}\\\\nText: Diferentes sectas religiosas, costumbres diversas dividian las opiniones de los desdichados Selenitas.\\\\nsentiment (pos, neu, neg):\"}], \"n\": 1, \"stop\": null, \"temperature\": 0.5}' message='Post details'\n"
     ]
    },
    {
     "name": "stdout",
     "output_type": "stream",
     "text": [
      "Response Text: {\"response\": {\"sentiment\": {\"pos\": 0.35, \"neu\": 0.45, \"neg\": 0.20}}}\n"
     ]
    },
    {
     "name": "stderr",
     "output_type": "stream",
     "text": [
      "DEBUG:urllib3.connectionpool:https://api.openai.com:443 \"POST /v1/chat/completions HTTP/1.1\" 200 None\n",
      "DEBUG:openai:message='OpenAI API response' path=https://api.openai.com/v1/chat/completions processing_ms=460 request_id=702dabcd5068491e4c4586f09fa5a825 response_code=200\n",
      "DEBUG:openai:message='Request to OpenAI API' method=post path=https://api.openai.com/v1/chat/completions\n",
      "DEBUG:openai:api_version=None data='{\"model\": \"gpt-4\", \"messages\": [{\"role\": \"system\", \"content\": \"You are an expert in linguistic sentiment analysis, historical literature, and Spanish language of the 18th century.\"}, {\"role\": \"user\", \"content\": \"Respond in the json format: {\\'response\\': sentiment_classification}\\\\nText: y tales comilonas, las quiero por el provecho de mi salud, en todos los primeros Lunes de cada mes.\\\\nsentiment (pos, neu, neg):\"}], \"n\": 1, \"stop\": null, \"temperature\": 0.5}' message='Post details'\n"
     ]
    },
    {
     "name": "stdout",
     "output_type": "stream",
     "text": [
      "Response Text: {'response': 'neg'}\n"
     ]
    },
    {
     "name": "stderr",
     "output_type": "stream",
     "text": [
      "DEBUG:urllib3.connectionpool:https://api.openai.com:443 \"POST /v1/chat/completions HTTP/1.1\" 200 None\n",
      "DEBUG:openai:message='OpenAI API response' path=https://api.openai.com/v1/chat/completions processing_ms=1773 request_id=d03139f6e1c154dcd9db4fcb9d850d03 response_code=200\n",
      "DEBUG:openai:message='Request to OpenAI API' method=post path=https://api.openai.com/v1/chat/completions\n",
      "DEBUG:openai:api_version=None data='{\"model\": \"gpt-4\", \"messages\": [{\"role\": \"system\", \"content\": \"You are an expert in linguistic sentiment analysis, historical literature, and Spanish language of the 18th century.\"}, {\"role\": \"user\", \"content\": \"Respond in the json format: {\\'response\\': sentiment_classification}\\\\nText: Qu\\\\u00e9mense pues al momento; pero entonces fuera preciso llevar \\\\u00e1 la hoguera (\\\\u00a1y con qu\\\\u00e1nta mas razon!) todos los ensayos sobre materias particulares, todo discurso suelto, y a\\\\u00f1adir los compendios, y aun todo libro que tenga \\\\u00edndice, pues no se ignora que los \\\\u00edndices son, sus maestros mas queridos.\\\\nsentiment (pos, neu, neg):\"}], \"n\": 1, \"stop\": null, \"temperature\": 0.5}' message='Post details'\n"
     ]
    },
    {
     "name": "stdout",
     "output_type": "stream",
     "text": [
      "Response Text: {'response': {'text': 'y tales comilonas, las quiero por el provecho de mi salud, en todos los primeros Lunes de cada mes.', 'sentiment': 'positive'}}\n"
     ]
    },
    {
     "name": "stderr",
     "output_type": "stream",
     "text": [
      "DEBUG:urllib3.connectionpool:https://api.openai.com:443 \"POST /v1/chat/completions HTTP/1.1\" 200 None\n",
      "DEBUG:openai:message='OpenAI API response' path=https://api.openai.com/v1/chat/completions processing_ms=656 request_id=84c3574e0e06d550c7af61b2d1825d41 response_code=200\n",
      "DEBUG:openai:message='Request to OpenAI API' method=post path=https://api.openai.com/v1/chat/completions\n",
      "DEBUG:openai:api_version=None data='{\"model\": \"gpt-4\", \"messages\": [{\"role\": \"system\", \"content\": \"You are an expert in linguistic sentiment analysis, historical literature, and Spanish language of the 18th century.\"}, {\"role\": \"user\", \"content\": \"Respond in the json format: {\\'response\\': sentiment_classification}\\\\nText: Nos quexamos continuamente de que nuestros dias son breves, y vivimos como si debiesen ser eternos.\\\\nsentiment (pos, neu, neg):\"}], \"n\": 1, \"stop\": null, \"temperature\": 0.5}' message='Post details'\n"
     ]
    },
    {
     "name": "stdout",
     "output_type": "stream",
     "text": [
      "Response Text: {'response': {'sentiment': 'negative'}}\n"
     ]
    },
    {
     "name": "stderr",
     "output_type": "stream",
     "text": [
      "DEBUG:urllib3.connectionpool:https://api.openai.com:443 \"POST /v1/chat/completions HTTP/1.1\" 200 None\n",
      "DEBUG:openai:message='OpenAI API response' path=https://api.openai.com/v1/chat/completions processing_ms=969 request_id=325f7e956b4128db42aa68723aad0a12 response_code=200\n",
      "DEBUG:openai:message='Request to OpenAI API' method=post path=https://api.openai.com/v1/chat/completions\n",
      "DEBUG:openai:api_version=None data='{\"model\": \"gpt-4\", \"messages\": [{\"role\": \"system\", \"content\": \"You are an expert in linguistic sentiment analysis, historical literature, and Spanish language of the 18th century.\"}, {\"role\": \"user\", \"content\": \"Respond in the json format: {\\'response\\': sentiment_classification}\\\\nText: Ya he demostrado que el tiempo que se pierde en el ocio, es el mas largo y mas enfadoso.\\\\nsentiment (pos, neu, neg):\"}], \"n\": 1, \"stop\": null, \"temperature\": 0.5}' message='Post details'\n"
     ]
    },
    {
     "name": "stdout",
     "output_type": "stream",
     "text": [
      "Response Text: {'response': {'sentiment': (0.2, 0.3, 0.5)}}\n"
     ]
    },
    {
     "name": "stderr",
     "output_type": "stream",
     "text": [
      "DEBUG:urllib3.connectionpool:https://api.openai.com:443 \"POST /v1/chat/completions HTTP/1.1\" 200 None\n",
      "DEBUG:openai:message='OpenAI API response' path=https://api.openai.com/v1/chat/completions processing_ms=776 request_id=249a7269b29563677cc4b75f574f86f0 response_code=200\n",
      "DEBUG:openai:message='Request to OpenAI API' method=post path=https://api.openai.com/v1/chat/completions\n",
      "DEBUG:openai:api_version=None data='{\"model\": \"gpt-4\", \"messages\": [{\"role\": \"system\", \"content\": \"You are an expert in linguistic sentiment analysis, historical literature, and Spanish language of the 18th century.\"}, {\"role\": \"user\", \"content\": \"Respond in the json format: {\\'response\\': sentiment_classification}\\\\nText: Los dos sex\\\\u00f4s, y todos los estados de la rep\\\\u00fablica estan inficionados.\\\\nsentiment (pos, neu, neg):\"}], \"n\": 1, \"stop\": null, \"temperature\": 0.5}' message='Post details'\n"
     ]
    },
    {
     "name": "stdout",
     "output_type": "stream",
     "text": [
      "Response Text: {'response': 'neg'}\n"
     ]
    },
    {
     "name": "stderr",
     "output_type": "stream",
     "text": [
      "DEBUG:urllib3.connectionpool:https://api.openai.com:443 \"POST /v1/chat/completions HTTP/1.1\" 200 None\n",
      "DEBUG:openai:message='OpenAI API response' path=https://api.openai.com/v1/chat/completions processing_ms=1361 request_id=6eff71a8ea89c924f54a139c1f8dcf77 response_code=200\n",
      "DEBUG:openai:message='Request to OpenAI API' method=post path=https://api.openai.com/v1/chat/completions\n",
      "DEBUG:openai:api_version=None data='{\"model\": \"gpt-4\", \"messages\": [{\"role\": \"system\", \"content\": \"You are an expert in linguistic sentiment analysis, historical literature, and Spanish language of the 18th century.\"}, {\"role\": \"user\", \"content\": \"Respond in the json format: {\\'response\\': sentiment_classification}\\\\nText: aplaude la buena educacion Francesa;\\\\nsentiment (pos, neu, neg):\"}], \"n\": 1, \"stop\": null, \"temperature\": 0.5}' message='Post details'\n"
     ]
    },
    {
     "name": "stdout",
     "output_type": "stream",
     "text": [
      "Response Text: {\"response\": {\"sentiment\": {\"pos\": 0.0, \"neu\": 0.0, \"neg\": 1.0}}}\n"
     ]
    },
    {
     "name": "stderr",
     "output_type": "stream",
     "text": [
      "DEBUG:urllib3.connectionpool:https://api.openai.com:443 \"POST /v1/chat/completions HTTP/1.1\" 200 None\n",
      "DEBUG:openai:message='OpenAI API response' path=https://api.openai.com/v1/chat/completions processing_ms=963 request_id=8f9d2ce6023138dbdd0829c9f66475c2 response_code=200\n",
      "DEBUG:openai:message='Request to OpenAI API' method=post path=https://api.openai.com/v1/chat/completions\n",
      "DEBUG:openai:api_version=None data='{\"model\": \"gpt-4\", \"messages\": [{\"role\": \"system\", \"content\": \"You are an expert in linguistic sentiment analysis, historical literature, and Spanish language of the 18th century.\"}, {\"role\": \"user\", \"content\": \"Respond in the json format: {\\'response\\': sentiment_classification}\\\\nText: Si vmd. ama mas las alabanzas que el m\\\\u00e9rito, aborrezca \\\\u00e1 lo m\\\\u00e9nos todo lo que es comun, y no tolere que ninguna persona tenga la osad\\\\u00eda de alabarle en su presencia.\\\\nsentiment (pos, neu, neg):\"}], \"n\": 1, \"stop\": null, \"temperature\": 0.5}' message='Post details'\n"
     ]
    },
    {
     "name": "stdout",
     "output_type": "stream",
     "text": [
      "Response Text: {'response': {'text': 'aplaude la buena educacion Francesa', 'sentiment': 'pos'}}\n"
     ]
    },
    {
     "name": "stderr",
     "output_type": "stream",
     "text": [
      "DEBUG:urllib3.connectionpool:https://api.openai.com:443 \"POST /v1/chat/completions HTTP/1.1\" 200 None\n",
      "DEBUG:openai:message='OpenAI API response' path=https://api.openai.com/v1/chat/completions processing_ms=1082 request_id=72cc15078b028c03cdb5d6afb6db58f1 response_code=200\n",
      "DEBUG:openai:message='Request to OpenAI API' method=post path=https://api.openai.com/v1/chat/completions\n",
      "DEBUG:openai:api_version=None data='{\"model\": \"gpt-4\", \"messages\": [{\"role\": \"system\", \"content\": \"You are an expert in linguistic sentiment analysis, historical literature, and Spanish language of the 18th century.\"}, {\"role\": \"user\", \"content\": \"Respond in the json format: {\\'response\\': sentiment_classification}\\\\nText: Es gallardo j\\\\u00f3ven, tiene los ojos mas negros, y los dientes mas blancos que he visto en el mundo.\\\\nsentiment (pos, neu, neg):\"}], \"n\": 1, \"stop\": null, \"temperature\": 0.5}' message='Post details'\n"
     ]
    },
    {
     "name": "stdout",
     "output_type": "stream",
     "text": [
      "Response Text: {\"response\": {\"sentiment\": [0.1, 0.2, 0.7]}}\n"
     ]
    },
    {
     "name": "stderr",
     "output_type": "stream",
     "text": [
      "DEBUG:urllib3.connectionpool:https://api.openai.com:443 \"POST /v1/chat/completions HTTP/1.1\" 200 None\n",
      "DEBUG:openai:message='OpenAI API response' path=https://api.openai.com/v1/chat/completions processing_ms=970 request_id=fb6b5e604a620157c64e760ff75ee6da response_code=200\n"
     ]
    },
    {
     "name": "stdout",
     "output_type": "stream",
     "text": [
      "Response Text: {'response': {'sentiment': (0.8, 0.2, 0.0)}}\n"
     ]
    }
   ],
   "source": [
    "def get_sentiment(input_text):\n",
    "    prompt = f\"Respond in the json format: {{'response': sentiment_classification}}\\nText: {input_text}\\nsentiment (pos, neu, neg):\"\n",
    "    \n",
    "    #prompt = f\"Respond in the json format: {{'Respond in the json format: {{'response': sentiment_classification}}\\nConduct sentiment analysis\\nRead the input file very carefully\\nAssess the Sentiment (pos, neu, neg) of individual sentences in the column {input_text}.\\nAddress challenges like epoch-specific meanings, non-standardized orthography, socio-historical context, and opinion shifters such as sarcasm, satire, irony, negations, and idiomatic expressions.\\nRate if the polarity of the sentence.\\nAdd your annotation to a new column 'Sentiment-GPT-3'.Take a deep breath and work on this problem step-by-step. This is very important to my career!:\"\n",
    "    \n",
    "    \n",
    "    response = openai.ChatCompletion.create(\n",
    "        model=\"gpt-4\", #3.5-turbo\n",
    "        messages=[\n",
    "            {\"role\": \"system\", \"content\": \"You are an expert in linguistic sentiment analysis, historical literature, and Spanish language of the 18th century.\"},\n",
    "            {\"role\": \"user\", \"content\": \"Classify the sentiment of the following text as 'positive', 'negative', or 'neutral': <input_text>\"}\n",
    "        ],\n",
    "       # max_tokens=500,\n",
    "        n=1,\n",
    "        stop=None,\n",
    "        temperature=0.5,\n",
    "    )\n",
    "    #response_text = response.choices[0].message['content'].strip()\n",
    "    #sentiment = re.search(\"neg|neu|pos\", response_text).group(0)\n",
    "    #return input_text, sentiment\n",
    "\n",
    "\n",
    "    response_text = response.choices[0].message['content'].strip()\n",
    "    print(\"Response Text:\", response_text)  \n",
    "\n",
    "    match = re.search(\"neg|neu|pos\", response_text)\n",
    "    if match:\n",
    "        sentiment = match.group(0)\n",
    "    else:\n",
    "        sentiment = \"unknown\"  \n",
    "\n",
    "    return input_text, sentiment\n",
    "\n",
    "\n",
    "\n",
    "\n",
    "def annotate_dataframe(df, text_column):\n",
    "    df['Sentiment'] = df[text_column].apply(lambda x: get_sentiment(x)[1])\n",
    "    return df\n",
    "\n",
    "# Load the CSV file\n",
    "file_path = '02_to_annotate.csv'\n",
    "df = pd.read_csv(file_path)\n",
    "\n",
    "# Assuming the column to annotate is named \"To annotate\"\n",
    "annotated_df_gpt4_simple_r1 = annotate_dataframe(df, 'To Annotate')"
   ]
  },
  {
   "cell_type": "code",
   "execution_count": null,
   "id": "e8969c47",
   "metadata": {},
   "outputs": [],
   "source": [
    "type(sentiment)"
   ]
  },
  {
   "cell_type": "code",
   "execution_count": 5,
   "id": "0a73f168",
   "metadata": {},
   "outputs": [
    {
     "data": {
      "text/html": [
       "<div>\n",
       "<style scoped>\n",
       "    .dataframe tbody tr th:only-of-type {\n",
       "        vertical-align: middle;\n",
       "    }\n",
       "\n",
       "    .dataframe tbody tr th {\n",
       "        vertical-align: top;\n",
       "    }\n",
       "\n",
       "    .dataframe thead th {\n",
       "        text-align: right;\n",
       "    }\n",
       "</style>\n",
       "<table border=\"1\" class=\"dataframe\">\n",
       "  <thead>\n",
       "    <tr style=\"text-align: right;\">\n",
       "      <th></th>\n",
       "      <th>Unnamed: 0</th>\n",
       "      <th>Sentence Code</th>\n",
       "      <th>Previous Sentence</th>\n",
       "      <th>To Annotate</th>\n",
       "      <th>Following Sentence</th>\n",
       "      <th>Sentiment</th>\n",
       "    </tr>\n",
       "  </thead>\n",
       "  <tbody>\n",
       "    <tr>\n",
       "      <th>0</th>\n",
       "      <td>0</td>\n",
       "      <td>G00Q136</td>\n",
       "      <td>Diceles palabras injuriosas, y ellos la respon...</td>\n",
       "      <td>Miralos sin humanidad, y como esclavos, y ello...</td>\n",
       "      <td>Suspendese por un rato esta gresca, y passa Ma...</td>\n",
       "      <td>neg</td>\n",
       "    </tr>\n",
       "    <tr>\n",
       "      <th>1</th>\n",
       "      <td>3</td>\n",
       "      <td>G00Q137</td>\n",
       "      <td>Diceles palabras injuriosas, y ellos la respon...</td>\n",
       "      <td>Miralos sin humanidad, y como esclavos, y ello...</td>\n",
       "      <td>Suspendese por un rato esta gresca, y passa Ma...</td>\n",
       "      <td>unknown</td>\n",
       "    </tr>\n",
       "    <tr>\n",
       "      <th>2</th>\n",
       "      <td>6</td>\n",
       "      <td>G00Q138</td>\n",
       "      <td>Por lo que mira al fin, segun doctrina de Aris...</td>\n",
       "      <td>No es tan facil determinar por dónde se ha de ...</td>\n",
       "      <td>Aristoteles dejò bastante confuso este punto; ...</td>\n",
       "      <td>neu</td>\n",
       "    </tr>\n",
       "    <tr>\n",
       "      <th>3</th>\n",
       "      <td>9</td>\n",
       "      <td>G00Q139</td>\n",
       "      <td>Y llamar madre à la que, con un corazon duro, ...</td>\n",
       "      <td>Tù debes acordarte de la ternura, con que se p...</td>\n",
       "      <td>Es verdad, que allá prohibe la ley, que la mug...</td>\n",
       "      <td>unknown</td>\n",
       "    </tr>\n",
       "    <tr>\n",
       "      <th>4</th>\n",
       "      <td>12</td>\n",
       "      <td>G00Q140</td>\n",
       "      <td>Procure Vm. restablecerse; y si quando lo estè...</td>\n",
       "      <td>Alli estarà mas tranquilo, y podrà vivir à su ...</td>\n",
       "      <td>NaN</td>\n",
       "      <td>pos</td>\n",
       "    </tr>\n",
       "    <tr>\n",
       "      <th>...</th>\n",
       "      <td>...</td>\n",
       "      <td>...</td>\n",
       "      <td>...</td>\n",
       "      <td>...</td>\n",
       "      <td>...</td>\n",
       "      <td>...</td>\n",
       "    </tr>\n",
       "    <tr>\n",
       "      <th>130</th>\n",
       "      <td>390</td>\n",
       "      <td>G00Q266</td>\n",
       "      <td>Estas son cosas tan controvertidas, que será m...</td>\n",
       "      <td>Ya he demostrado que el tiempo que se pierde e...</td>\n",
       "      <td>Ahora procuraré manifestar, que el tiempo empl...</td>\n",
       "      <td>neg</td>\n",
       "    </tr>\n",
       "    <tr>\n",
       "      <th>131</th>\n",
       "      <td>393</td>\n",
       "      <td>G00Q267</td>\n",
       "      <td>El peor mal que Dios está sufriendo, es sin du...</td>\n",
       "      <td>Los dos sexôs, y todos los estados de la repúb...</td>\n",
       "      <td>Apenas encontraremos una persona que no sea ma...</td>\n",
       "      <td>pos</td>\n",
       "    </tr>\n",
       "    <tr>\n",
       "      <th>132</th>\n",
       "      <td>396</td>\n",
       "      <td>G00Q268</td>\n",
       "      <td>Por esta razon declama fuertemente, y de conti...</td>\n",
       "      <td>aplaude la buena educacion Francesa;</td>\n",
       "      <td>y habla con ardor á favor de la marcialidad, d...</td>\n",
       "      <td>pos</td>\n",
       "    </tr>\n",
       "    <tr>\n",
       "      <th>133</th>\n",
       "      <td>399</td>\n",
       "      <td>G00Q269</td>\n",
       "      <td>Quien desea elogios no debe esperar recibirlos...</td>\n",
       "      <td>Si vmd. ama mas las alabanzas que el mérito, a...</td>\n",
       "      <td>Así faltandola el cebo, vencerá vmd. su propia...</td>\n",
       "      <td>unknown</td>\n",
       "    </tr>\n",
       "    <tr>\n",
       "      <th>134</th>\n",
       "      <td>402</td>\n",
       "      <td>G00Q270</td>\n",
       "      <td>esto quiere decir que debo sériamente pensar e...</td>\n",
       "      <td>Es gallardo jóven, tiene los ojos mas negros, ...</td>\n",
       "      <td>Aunque no es el mayorazgo de su casa, viste á ...</td>\n",
       "      <td>unknown</td>\n",
       "    </tr>\n",
       "  </tbody>\n",
       "</table>\n",
       "<p>135 rows × 6 columns</p>\n",
       "</div>"
      ],
      "text/plain": [
       "     Unnamed: 0 Sentence Code  \\\n",
       "0             0       G00Q136   \n",
       "1             3       G00Q137   \n",
       "2             6       G00Q138   \n",
       "3             9       G00Q139   \n",
       "4            12       G00Q140   \n",
       "..          ...           ...   \n",
       "130         390       G00Q266   \n",
       "131         393       G00Q267   \n",
       "132         396       G00Q268   \n",
       "133         399       G00Q269   \n",
       "134         402       G00Q270   \n",
       "\n",
       "                                     Previous Sentence  \\\n",
       "0    Diceles palabras injuriosas, y ellos la respon...   \n",
       "1    Diceles palabras injuriosas, y ellos la respon...   \n",
       "2    Por lo que mira al fin, segun doctrina de Aris...   \n",
       "3    Y llamar madre à la que, con un corazon duro, ...   \n",
       "4    Procure Vm. restablecerse; y si quando lo estè...   \n",
       "..                                                 ...   \n",
       "130  Estas son cosas tan controvertidas, que será m...   \n",
       "131  El peor mal que Dios está sufriendo, es sin du...   \n",
       "132  Por esta razon declama fuertemente, y de conti...   \n",
       "133  Quien desea elogios no debe esperar recibirlos...   \n",
       "134  esto quiere decir que debo sériamente pensar e...   \n",
       "\n",
       "                                           To Annotate  \\\n",
       "0    Miralos sin humanidad, y como esclavos, y ello...   \n",
       "1    Miralos sin humanidad, y como esclavos, y ello...   \n",
       "2    No es tan facil determinar por dónde se ha de ...   \n",
       "3    Tù debes acordarte de la ternura, con que se p...   \n",
       "4    Alli estarà mas tranquilo, y podrà vivir à su ...   \n",
       "..                                                 ...   \n",
       "130  Ya he demostrado que el tiempo que se pierde e...   \n",
       "131  Los dos sexôs, y todos los estados de la repúb...   \n",
       "132               aplaude la buena educacion Francesa;   \n",
       "133  Si vmd. ama mas las alabanzas que el mérito, a...   \n",
       "134  Es gallardo jóven, tiene los ojos mas negros, ...   \n",
       "\n",
       "                                    Following Sentence Sentiment  \n",
       "0    Suspendese por un rato esta gresca, y passa Ma...       neg  \n",
       "1    Suspendese por un rato esta gresca, y passa Ma...   unknown  \n",
       "2    Aristoteles dejò bastante confuso este punto; ...       neu  \n",
       "3    Es verdad, que allá prohibe la ley, que la mug...   unknown  \n",
       "4                                                  NaN       pos  \n",
       "..                                                 ...       ...  \n",
       "130  Ahora procuraré manifestar, que el tiempo empl...       neg  \n",
       "131  Apenas encontraremos una persona que no sea ma...       pos  \n",
       "132  y habla con ardor á favor de la marcialidad, d...       pos  \n",
       "133  Así faltandola el cebo, vencerá vmd. su propia...   unknown  \n",
       "134  Aunque no es el mayorazgo de su casa, viste á ...   unknown  \n",
       "\n",
       "[135 rows x 6 columns]"
      ]
     },
     "execution_count": 5,
     "metadata": {},
     "output_type": "execute_result"
    }
   ],
   "source": [
    "annotated_df_gpt4_simple_r1"
   ]
  },
  {
   "cell_type": "code",
   "execution_count": 6,
   "id": "fa4a4359",
   "metadata": {},
   "outputs": [],
   "source": [
    "annotated_df_gpt4_simple_r1.to_csv('annotated_df_gpt4_simple_r1.csv', encoding='utf-8')"
   ]
  },
  {
   "cell_type": "markdown",
   "id": "dcb167e2",
   "metadata": {},
   "source": [
    "## Test with GPT4\n",
    "Using the advanced prompt"
   ]
  },
  {
   "cell_type": "code",
   "execution_count": null,
   "id": "fd3faf6b",
   "metadata": {},
   "outputs": [],
   "source": [
    "def get_sentiment(input_text):\n",
    "    prompt = f\"Respond in the json format: {{'response': sentiment_classification}}\\nConduct sentiment analysis\\nRead the input file very carefully\\nClassify each sentence from the column {input_text} as either (pos, neu, neg).\\nAddress challenges like epoch-specific meanings, non-standardized orthography, socio-historical context, and opinion shifters such as sarcasm, satire, irony, negations, and idiomatic expressions.\\nRate the polarity of the sentence.\\nAdd your annotation to a new column 'Sentiment-GPT-3'.Take a deep breath and work on this problem step-by-step. This is very important to my career!\\nRead the instructions again before you continue with annotating the next line:\"\n",
    "    \n",
    "    #prompt = f\"Respond in the json format: {{'Respond in the json format: {{'response': sentiment_classification}}\\nConduct sentiment analysis\\nRead the input file very carefully\\nAssess the Sentiment (pos, neu, neg) of individual sentences in the column {input_text}.\\nAddress challenges like epoch-specific meanings, non-standardized orthography, socio-historical context, and opinion shifters such as sarcasm, satire, irony, negations, and idiomatic expressions.\\nRate if the polarity of the sentence.\\nAdd your annotation to a new column 'Sentiment-GPT-3'.Take a deep breath and work on this problem step-by-step. This is very important to my career!:\"\n",
    "    \n",
    "    \n",
    "    response = openai.ChatCompletion.create(\n",
    "        model=\"gpt-4\", #3.5-turbo\n",
    "        messages=[\n",
    "            {\"role\": \"system\", \"content\": \"You are an expert in linguistic sentiment analysis, historical literature, and Spanish language of the 18th century.\"},\n",
    "            {\"role\": \"user\", \"content\": prompt}\n",
    "        ],\n",
    "        max_tokens=100,\n",
    "        n=1,\n",
    "        stop=None,\n",
    "        temperature=0.5,\n",
    "    )\n",
    "    response_text = response.choices[0].message['content'].strip()\n",
    "    sentiment = re.search(\"neg|neu|pos\", response_text).group(0)\n",
    "    return input_text, sentiment\n",
    "\n",
    "def annotate_dataframe(df, text_column):\n",
    "    df['Sentiment'] = df[text_column].apply(lambda x: get_sentiment(x)[1])\n",
    "    return df\n",
    "\n",
    "# Load the CSV file\n",
    "file_path = '02_to_annotate.csv'\n",
    "df = pd.read_csv(file_path)\n",
    "\n",
    "# Assuming the column to annotate is named \"To annotate\"\n",
    "annotated_df_gpt4_100_advanced = annotate_dataframe(df, 'To Annotate')"
   ]
  },
  {
   "cell_type": "code",
   "execution_count": null,
   "id": "1ff39206",
   "metadata": {},
   "outputs": [],
   "source": [
    "annotated_df_gpt4_40_advanced"
   ]
  },
  {
   "cell_type": "code",
   "execution_count": null,
   "id": "423419ec",
   "metadata": {},
   "outputs": [],
   "source": [
    "annotated_df_gpt4_40_advanced.to_csv('annotated_df_gpt_40_advanced.csv', encoding='utf-8')"
   ]
  },
  {
   "cell_type": "code",
   "execution_count": null,
   "id": "4b1ccaca",
   "metadata": {},
   "outputs": [],
   "source": [
    "## Test with GPT4\n",
    "Using the advanced prompt with contexts"
   ]
  }
 ],
 "metadata": {
  "kernelspec": {
   "display_name": "Python 3 (ipykernel)",
   "language": "python",
   "name": "python3"
  },
  "language_info": {
   "codemirror_mode": {
    "name": "ipython",
    "version": 3
   },
   "file_extension": ".py",
   "mimetype": "text/x-python",
   "name": "python",
   "nbconvert_exporter": "python",
   "pygments_lexer": "ipython3",
   "version": "3.9.13"
  }
 },
 "nbformat": 4,
 "nbformat_minor": 5
}
