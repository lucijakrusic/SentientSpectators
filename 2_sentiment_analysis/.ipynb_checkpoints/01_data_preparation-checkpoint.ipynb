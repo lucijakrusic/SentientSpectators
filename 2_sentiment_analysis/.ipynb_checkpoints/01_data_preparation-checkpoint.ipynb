{
 "cells": [
  {
   "cell_type": "markdown",
   "metadata": {},
   "source": [
    "## Imports"
   ]
  },
  {
   "cell_type": "code",
   "execution_count": 1,
   "metadata": {},
   "outputs": [],
   "source": [
    "import pandas as pd\n",
    "import os\n",
    "import glob"
   ]
  },
  {
   "cell_type": "markdown",
   "metadata": {},
   "source": [
    "## Configuration\n",
    "*input_dir:* The path to the directory that contains your text files. Please make sure to use a '/' (slash) in the end. For example: `path/to/texts/`.\n",
    "\n",
    "*dataframe_filename:* The filename for the resulting pandas DataFrame. You may use the **.p** extension indicating a pickled file, but you are free to use whatever you like. Just make sure this is consistent in the subsequent sentiment analysis step."
   ]
  },
  {
   "cell_type": "code",
   "execution_count": 2,
   "metadata": {},
   "outputs": [],
   "source": [
    "input_dir = 'Y:/data/projekte/cartas/data/cartas_SA_new/sentiment-annotation/all_selections/'\n",
    "dataframe_filename = \"all_texts_spanish.p\""
   ]
  },
  {
   "cell_type": "markdown",
   "metadata": {},
   "source": [
    "## Directory Setup (Optional)\n",
    "Creates directories according to the configuration if not already created manually."
   ]
  },
  {
   "cell_type": "code",
   "execution_count": 3,
   "metadata": {},
   "outputs": [],
   "source": [
    "if not os.path.exists(input_dir):\n",
    "    os.makedirs(input_dir)"
   ]
  },
  {
   "cell_type": "markdown",
   "metadata": {},
   "source": [
    "## Data Preparation"
   ]
  },
  {
   "cell_type": "markdown",
   "metadata": {},
   "source": [
    "### Load texts"
   ]
  },
  {
   "cell_type": "code",
   "execution_count": 11,
   "metadata": {},
   "outputs": [
    {
     "name": "stdout",
     "output_type": "stream",
     "text": [
      "found 400 texts\n",
      "loaded 400 texts\n"
     ]
    }
   ],
   "source": [
    "text_file_names = glob.glob(\"{}*.txt\".format(input_dir))\n",
    "print(\"found {} texts\".format(len(text_file_names)))\n",
    "texts = []\n",
    "for text_file_name in text_file_names:\n",
    "    if \"\\\\\" in text_file_name:\n",
    "        corrected_filename = text_file_name.split(\"\\\\\")[-1]\n",
    "    elif \"/\" in text_file_name:\n",
    "        corrected_filename = text_file_name.split(\"/\")[-1]\n",
    "    with open(text_file_name, \"r\", encoding=\"utf-8\") as input_file:\n",
    "        texts.append([corrected_filename, input_file.read()])\n",
    "print(\"loaded {} texts\".format(len(texts)))"
   ]
  },
  {
   "cell_type": "markdown",
   "metadata": {},
   "source": [
    "### Create DataFrame"
   ]
  },
  {
   "cell_type": "code",
   "execution_count": 12,
   "metadata": {},
   "outputs": [
    {
     "name": "stdout",
     "output_type": "stream",
     "text": [
      "searching files for attributes and text\n",
      "found 4 additional attributes in .txt files\n"
     ]
    }
   ],
   "source": [
    "print(\"searching files for attributes and text\")\n",
    "prepared_texts = []\n",
    "num_attributes = 0\n",
    "for filename, text in texts:\n",
    "    lines = text.split(\"\\n\")\n",
    "    prepared_text = {\"filename\": filename}\n",
    "    cur_line = 0\n",
    "    for line in lines:\n",
    "        line_type, line_content = line.split(\"=\")[:2]\n",
    "        if line_type != \"text\":\n",
    "            try:\n",
    "                line_content = float(line_content)\n",
    "            except ValueError:\n",
    "                pass\n",
    "            prepared_text.update({line_type: line_content})\n",
    "        else:\n",
    "            break\n",
    "        cur_line += 1\n",
    "    num_attributes = max(num_attributes, cur_line)\n",
    "    prepared_text.update({\"text\": \" \".join(lines[cur_line:])[5:]})\n",
    "    prepared_texts.append(prepared_text)\n",
    "\n",
    "print(\"found {} additional attributes in .txt files\".format(num_attributes))\n",
    "\n",
    "texts_df = pd.DataFrame(prepared_texts)\n",
    "texts_df.set_index(\"filename\", inplace=True)"
   ]
  },
  {
   "cell_type": "markdown",
   "metadata": {},
   "source": [
    "### Save DataFrame"
   ]
  },
  {
   "cell_type": "code",
   "execution_count": 13,
   "metadata": {},
   "outputs": [],
   "source": [
    "texts_df.to_pickle(dataframe_filename)"
   ]
  },
  {
   "cell_type": "code",
   "execution_count": 14,
   "metadata": {},
   "outputs": [
    {
     "data": {
      "text/html": [
       "<div>\n",
       "<style scoped>\n",
       "    .dataframe tbody tr th:only-of-type {\n",
       "        vertical-align: middle;\n",
       "    }\n",
       "\n",
       "    .dataframe tbody tr th {\n",
       "        vertical-align: top;\n",
       "    }\n",
       "\n",
       "    .dataframe thead th {\n",
       "        text-align: right;\n",
       "    }\n",
       "</style>\n",
       "<table border=\"1\" class=\"dataframe\">\n",
       "  <thead>\n",
       "    <tr style=\"text-align: right;\">\n",
       "      <th></th>\n",
       "      <th>periodical title</th>\n",
       "      <th>author</th>\n",
       "      <th>year</th>\n",
       "      <th>issue number</th>\n",
       "      <th>text</th>\n",
       "    </tr>\n",
       "    <tr>\n",
       "      <th>filename</th>\n",
       "      <th></th>\n",
       "      <th></th>\n",
       "      <th></th>\n",
       "      <th></th>\n",
       "      <th></th>\n",
       "    </tr>\n",
       "  </thead>\n",
       "  <tbody>\n",
       "    <tr>\n",
       "      <td>1735-1736_El-Duende-Crítico_Frai-Manuel-de-San-Josef_Vol-1_Nr-004_112-823.txt</td>\n",
       "      <td>El-Duende-Crítico</td>\n",
       "      <td>Frai Manuel de San Josef</td>\n",
       "      <td>1735-1736</td>\n",
       "      <td>1-004</td>\n",
       "      <td>Jueves 29 de Diciembre de 1735 El nacimiento #...</td>\n",
       "    </tr>\n",
       "    <tr>\n",
       "      <td>1735-1736_El-Duende-Crítico_Frai-Manuel-de-San-Josef_Vol-1_Nr-010_112-841.txt</td>\n",
       "      <td>El-Duende-Crítico</td>\n",
       "      <td>Frai Manuel de San Josef</td>\n",
       "      <td>1735-1736</td>\n",
       "      <td>1-010</td>\n",
       "      <td>Jueves 9. de Febrero de 1736 Notas, que escrib...</td>\n",
       "    </tr>\n",
       "    <tr>\n",
       "      <td>1761-06-09_El-Duende-especulativo-sobre-la-vida-civil_Juan-Antonio-Mercadal-(Francisco-Mariano-Nipho-o-Juan-Enrique-de-Graef)_Vol-1_Nr-01_093-235.txt</td>\n",
       "      <td>El-Duende-especulativo-sobre-la-vida-civil</td>\n",
       "      <td>Juan Antonio Mercadal [Francisco Mariano Nipho...</td>\n",
       "      <td>1761-06-09</td>\n",
       "      <td>1-01</td>\n",
       "      <td>Num. I. Martes 9. de Junio de 1761. ##START:ZM...</td>\n",
       "    </tr>\n",
       "    <tr>\n",
       "      <td>1761-06-13_El-Duende-especulativo-sobre-la-vida-civil_Juan-Antonio-Mercadal-(Francisco-Mariano-Nipho-o-Juan-Enrique-de-Graef)_Vol-1_Nr-02_093-236.txt</td>\n",
       "      <td>El-Duende-especulativo-sobre-la-vida-civil</td>\n",
       "      <td>Juan Antonio Mercadal [Francisco Mariano Nipho...</td>\n",
       "      <td>1761-06-13</td>\n",
       "      <td>1-02</td>\n",
       "      <td>NUM. II. ##START:ZM## Decet affectus animi, ne...</td>\n",
       "    </tr>\n",
       "    <tr>\n",
       "      <td>1761-06-19_El-Duende-especulativo-sobre-la-vida-civil_Juan-Antonio-Mercadal-(Francisco-Mariano-Nipho-o-Juan-Enrique-de-Graef)_Vol-1_Nr-03_093-237.txt</td>\n",
       "      <td>El-Duende-especulativo-sobre-la-vida-civil</td>\n",
       "      <td>Juan Antonio Mercadal [Francisco Mariano Nipho...</td>\n",
       "      <td>1761-06-19</td>\n",
       "      <td>1-03</td>\n",
       "      <td>NUM. III. Viernes 19. de Junio de 1761. ##STAR...</td>\n",
       "    </tr>\n",
       "    <tr>\n",
       "      <td>...</td>\n",
       "      <td>...</td>\n",
       "      <td>...</td>\n",
       "      <td>...</td>\n",
       "      <td>...</td>\n",
       "      <td>...</td>\n",
       "    </tr>\n",
       "    <tr>\n",
       "      <td>1804_El-Regañón-general_Anónimo-(Ventura-Ferrer)_Vol-2_Nr-62_7946.txt</td>\n",
       "      <td>El-Regañón-general</td>\n",
       "      <td>Anónimo [Ventura Ferrer]</td>\n",
       "      <td>1804</td>\n",
       "      <td>2-62</td>\n",
       "      <td>Núm.° 62. Sábado 4 de Agosto de 1804 Costumbre...</td>\n",
       "    </tr>\n",
       "    <tr>\n",
       "      <td>1804_El-Regañón-general_Anónimo-(Ventura-Ferrer)_Vol-2_Nr-63_7947.txt</td>\n",
       "      <td>El-Regañón-general</td>\n",
       "      <td>Anónimo [Ventura Ferrer]</td>\n",
       "      <td>1804</td>\n",
       "      <td>2-63</td>\n",
       "      <td>Núm.° 63. Miércoles 8 de Agosto de 1804. Circu...</td>\n",
       "    </tr>\n",
       "    <tr>\n",
       "      <td>1804_El-Regañón-general_Anónimo-(Ventura-Ferrer)_Vol-2_Nr-64_7948.txt</td>\n",
       "      <td>El-Regañón-general</td>\n",
       "      <td>Anónimo [Ventura Ferrer]</td>\n",
       "      <td>1804</td>\n",
       "      <td>2-64</td>\n",
       "      <td>Núm.° 64. Sábado 11 de Agosto de 1804. Concluy...</td>\n",
       "    </tr>\n",
       "    <tr>\n",
       "      <td>1812_El-Pensador-Mexicano_José-Joaquín-Fernández-de-Lizardi_Vol-1_Nr-008_8080.txt</td>\n",
       "      <td>El-Pensador-Mexicano</td>\n",
       "      <td>José Joaquín Fernández de Lizardi</td>\n",
       "      <td>1812</td>\n",
       "      <td>1-008</td>\n",
       "      <td>Número 8 Ejecusión de Justicia ##START:MT## En...</td>\n",
       "    </tr>\n",
       "    <tr>\n",
       "      <td>1812_El-Pensador-Mexicano_José-Joaquín-Fernández-de-Lizardi_Vol-1_Nr-011_8083.txt</td>\n",
       "      <td>El-Pensador-Mexicano</td>\n",
       "      <td>José Joaquín Fernández de Lizardi</td>\n",
       "      <td>1812</td>\n",
       "      <td>1-011</td>\n",
       "      <td>Número 11 ##START:AE## La más violenta devanad...</td>\n",
       "    </tr>\n",
       "  </tbody>\n",
       "</table>\n",
       "<p>400 rows × 5 columns</p>\n",
       "</div>"
      ],
      "text/plain": [
       "                                                                              periodical title  \\\n",
       "filename                                                                                         \n",
       "1735-1736_El-Duende-Crítico_Frai-Manuel-de-San-...                           El-Duende-Crítico   \n",
       "1735-1736_El-Duende-Crítico_Frai-Manuel-de-San-...                           El-Duende-Crítico   \n",
       "1761-06-09_El-Duende-especulativo-sobre-la-vida...  El-Duende-especulativo-sobre-la-vida-civil   \n",
       "1761-06-13_El-Duende-especulativo-sobre-la-vida...  El-Duende-especulativo-sobre-la-vida-civil   \n",
       "1761-06-19_El-Duende-especulativo-sobre-la-vida...  El-Duende-especulativo-sobre-la-vida-civil   \n",
       "...                                                                                        ...   \n",
       "1804_El-Regañón-general_Anónimo-(Ventura-Ferrer...                          El-Regañón-general   \n",
       "1804_El-Regañón-general_Anónimo-(Ventura-Ferrer...                          El-Regañón-general   \n",
       "1804_El-Regañón-general_Anónimo-(Ventura-Ferrer...                          El-Regañón-general   \n",
       "1812_El-Pensador-Mexicano_José-Joaquín-Fernánde...                        El-Pensador-Mexicano   \n",
       "1812_El-Pensador-Mexicano_José-Joaquín-Fernánde...                        El-Pensador-Mexicano   \n",
       "\n",
       "                                                                                               author  \\\n",
       "filename                                                                                                \n",
       "1735-1736_El-Duende-Crítico_Frai-Manuel-de-San-...                           Frai Manuel de San Josef   \n",
       "1735-1736_El-Duende-Crítico_Frai-Manuel-de-San-...                           Frai Manuel de San Josef   \n",
       "1761-06-09_El-Duende-especulativo-sobre-la-vida...  Juan Antonio Mercadal [Francisco Mariano Nipho...   \n",
       "1761-06-13_El-Duende-especulativo-sobre-la-vida...  Juan Antonio Mercadal [Francisco Mariano Nipho...   \n",
       "1761-06-19_El-Duende-especulativo-sobre-la-vida...  Juan Antonio Mercadal [Francisco Mariano Nipho...   \n",
       "...                                                                                               ...   \n",
       "1804_El-Regañón-general_Anónimo-(Ventura-Ferrer...                           Anónimo [Ventura Ferrer]   \n",
       "1804_El-Regañón-general_Anónimo-(Ventura-Ferrer...                           Anónimo [Ventura Ferrer]   \n",
       "1804_El-Regañón-general_Anónimo-(Ventura-Ferrer...                           Anónimo [Ventura Ferrer]   \n",
       "1812_El-Pensador-Mexicano_José-Joaquín-Fernánde...                  José Joaquín Fernández de Lizardi   \n",
       "1812_El-Pensador-Mexicano_José-Joaquín-Fernánde...                  José Joaquín Fernández de Lizardi   \n",
       "\n",
       "                                                          year issue number  \\\n",
       "filename                                                                      \n",
       "1735-1736_El-Duende-Crítico_Frai-Manuel-de-San-...   1735-1736        1-004   \n",
       "1735-1736_El-Duende-Crítico_Frai-Manuel-de-San-...   1735-1736        1-010   \n",
       "1761-06-09_El-Duende-especulativo-sobre-la-vida...  1761-06-09         1-01   \n",
       "1761-06-13_El-Duende-especulativo-sobre-la-vida...  1761-06-13         1-02   \n",
       "1761-06-19_El-Duende-especulativo-sobre-la-vida...  1761-06-19         1-03   \n",
       "...                                                        ...          ...   \n",
       "1804_El-Regañón-general_Anónimo-(Ventura-Ferrer...        1804         2-62   \n",
       "1804_El-Regañón-general_Anónimo-(Ventura-Ferrer...        1804         2-63   \n",
       "1804_El-Regañón-general_Anónimo-(Ventura-Ferrer...        1804         2-64   \n",
       "1812_El-Pensador-Mexicano_José-Joaquín-Fernánde...        1812        1-008   \n",
       "1812_El-Pensador-Mexicano_José-Joaquín-Fernánde...        1812        1-011   \n",
       "\n",
       "                                                                                                 text  \n",
       "filename                                                                                               \n",
       "1735-1736_El-Duende-Crítico_Frai-Manuel-de-San-...  Jueves 29 de Diciembre de 1735 El nacimiento #...  \n",
       "1735-1736_El-Duende-Crítico_Frai-Manuel-de-San-...  Jueves 9. de Febrero de 1736 Notas, que escrib...  \n",
       "1761-06-09_El-Duende-especulativo-sobre-la-vida...  Num. I. Martes 9. de Junio de 1761. ##START:ZM...  \n",
       "1761-06-13_El-Duende-especulativo-sobre-la-vida...  NUM. II. ##START:ZM## Decet affectus animi, ne...  \n",
       "1761-06-19_El-Duende-especulativo-sobre-la-vida...  NUM. III. Viernes 19. de Junio de 1761. ##STAR...  \n",
       "...                                                                                               ...  \n",
       "1804_El-Regañón-general_Anónimo-(Ventura-Ferrer...  Núm.° 62. Sábado 4 de Agosto de 1804 Costumbre...  \n",
       "1804_El-Regañón-general_Anónimo-(Ventura-Ferrer...  Núm.° 63. Miércoles 8 de Agosto de 1804. Circu...  \n",
       "1804_El-Regañón-general_Anónimo-(Ventura-Ferrer...  Núm.° 64. Sábado 11 de Agosto de 1804. Concluy...  \n",
       "1812_El-Pensador-Mexicano_José-Joaquín-Fernánde...  Número 8 Ejecusión de Justicia ##START:MT## En...  \n",
       "1812_El-Pensador-Mexicano_José-Joaquín-Fernánde...  Número 11 ##START:AE## La más violenta devanad...  \n",
       "\n",
       "[400 rows x 5 columns]"
      ]
     },
     "execution_count": 14,
     "metadata": {},
     "output_type": "execute_result"
    }
   ],
   "source": [
    "texts_df"
   ]
  },
  {
   "cell_type": "code",
   "execution_count": null,
   "metadata": {},
   "outputs": [],
   "source": []
  },
  {
   "cell_type": "code",
   "execution_count": null,
   "metadata": {},
   "outputs": [],
   "source": []
  }
 ],
 "metadata": {
  "kernelspec": {
   "display_name": "Python 3 (ipykernel)",
   "language": "python",
   "name": "python3"
  },
  "language_info": {
   "codemirror_mode": {
    "name": "ipython",
    "version": 3
   },
   "file_extension": ".py",
   "mimetype": "text/x-python",
   "name": "python",
   "nbconvert_exporter": "python",
   "pygments_lexer": "ipython3",
   "version": "3.9.13"
  }
 },
 "nbformat": 4,
 "nbformat_minor": 2
}
